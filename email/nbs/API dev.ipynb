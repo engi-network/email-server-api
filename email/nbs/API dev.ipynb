{
 "cells": [
  {
   "cell_type": "code",
   "execution_count": 10,
   "id": "bc03d664-011f-4b81-9cef-90f731e6905c",
   "metadata": {},
   "outputs": [],
   "source": [
    "%run ../test/test_email_server.py"
   ]
  },
  {
   "cell_type": "code",
   "execution_count": 13,
   "id": "6f03bd63-2a09-4627-8e17-a4a0fe1a214a",
   "metadata": {},
   "outputs": [
    {
     "data": {
      "text/plain": [
       "'http://127.0.0.1:5000/contact'"
      ]
     },
     "execution_count": 13,
     "metadata": {},
     "output_type": "execute_result"
    }
   ],
   "source": [
    "TestContact.endpoint"
   ]
  },
  {
   "cell_type": "code",
   "execution_count": 17,
   "id": "fd64dc8e-7238-4872-a858-d5f86c2a7d56",
   "metadata": {},
   "outputs": [],
   "source": [
    "data = DATA.copy()\n",
    "email = \"{}@engi.network\"\n",
    "\n",
    "for i in range(20):\n",
    "    data[\"email\"] = email.format(i)\n",
    "    requests.post(TestContact.endpoint, data={\n",
    "                    **data,\n",
    "                    \"topics\": TOPICS,\n",
    "                    \"attributes\": ATTRS,\n",
    "                })"
   ]
  },
  {
   "cell_type": "code",
   "execution_count": 6,
   "id": "74be026d-05d9-48cf-a760-63ca6581f9ff",
   "metadata": {},
   "outputs": [],
   "source": [
    "%run ../send.py"
   ]
  },
  {
   "cell_type": "code",
   "execution_count": 3,
   "id": "be82413b-4ca2-4870-92d9-1c19009a346c",
   "metadata": {},
   "outputs": [],
   "source": [
    "args = {\n",
    "    \"contact_list_name\": \"engi-newsletter\",\n",
    "    \"template_name\": \"engi-newsletter-welcome-template\",\n",
    "    \"from_email\": \"g@engi.network\",\n",
    "    \"default_attributes\": '{\"name\": \"friend\", \"favoriteanimal\": \"elephant\"}',\n",
    "    \"topic\": \"engi-newsletter\",\n",
    "}"
   ]
  },
  {
   "cell_type": "code",
   "execution_count": 4,
   "id": "603c5537-8cc3-4f79-a2a7-32cd7b16bfa9",
   "metadata": {},
   "outputs": [
    {
     "data": {
      "text/plain": [
       "<botocore.client.SESV2 at 0x1103c1580>"
      ]
     },
     "execution_count": 4,
     "metadata": {},
     "output_type": "execute_result"
    }
   ],
   "source": []
  },
  {
   "cell_type": "code",
   "execution_count": 7,
   "id": "f2a08f69-da22-431b-96ed-0cae0bc590e4",
   "metadata": {},
   "outputs": [
    {
     "data": {
      "text/plain": [
       "[[{'EmailAddress': '12@engi.network',\n",
       "   'TopicPreferences': [{'TopicName': 'engi-newsletter',\n",
       "     'SubscriptionStatus': 'OPT_IN'}],\n",
       "   'UnsubscribeAll': False,\n",
       "   'LastUpdatedTimestamp': datetime.datetime(2022, 3, 9, 13, 46, 45, 86000, tzinfo=tzlocal()),\n",
       "   'AttributesData': '{\"name\": \"chris\", \"favoriteanimal\": \"bonobo\"}'},\n",
       "  {'EmailAddress': '3@engi.network',\n",
       "   'TopicPreferences': [{'TopicName': 'engi-newsletter',\n",
       "     'SubscriptionStatus': 'OPT_IN'}],\n",
       "   'UnsubscribeAll': False,\n",
       "   'LastUpdatedTimestamp': datetime.datetime(2022, 3, 9, 13, 46, 44, 276000, tzinfo=tzlocal()),\n",
       "   'AttributesData': '{\"name\": \"chris\", \"favoriteanimal\": \"bonobo\"}'},\n",
       "  {'EmailAddress': '18@engi.network',\n",
       "   'TopicPreferences': [{'TopicName': 'engi-newsletter',\n",
       "     'SubscriptionStatus': 'OPT_IN'}],\n",
       "   'UnsubscribeAll': False,\n",
       "   'LastUpdatedTimestamp': datetime.datetime(2022, 3, 9, 13, 46, 45, 850000, tzinfo=tzlocal()),\n",
       "   'AttributesData': '{\"name\": \"chris\", \"favoriteanimal\": \"bonobo\"}'},\n",
       "  {'EmailAddress': '9@engi.network',\n",
       "   'TopicPreferences': [{'TopicName': 'engi-newsletter',\n",
       "     'SubscriptionStatus': 'OPT_IN'}],\n",
       "   'UnsubscribeAll': False,\n",
       "   'LastUpdatedTimestamp': datetime.datetime(2022, 3, 9, 13, 46, 44, 839000, tzinfo=tzlocal()),\n",
       "   'AttributesData': '{\"name\": \"chris\", \"favoriteanimal\": \"bonobo\"}'},\n",
       "  {'EmailAddress': '6@engi.network',\n",
       "   'TopicPreferences': [{'TopicName': 'engi-newsletter',\n",
       "     'SubscriptionStatus': 'OPT_IN'}],\n",
       "   'UnsubscribeAll': False,\n",
       "   'LastUpdatedTimestamp': datetime.datetime(2022, 3, 9, 13, 46, 44, 550000, tzinfo=tzlocal()),\n",
       "   'AttributesData': '{\"name\": \"chris\", \"favoriteanimal\": \"bonobo\"}'},\n",
       "  {'EmailAddress': '0@engi.network',\n",
       "   'TopicPreferences': [{'TopicName': 'engi-newsletter',\n",
       "     'SubscriptionStatus': 'OPT_IN'}],\n",
       "   'UnsubscribeAll': False,\n",
       "   'LastUpdatedTimestamp': datetime.datetime(2022, 3, 9, 13, 46, 44, 5000, tzinfo=tzlocal()),\n",
       "   'AttributesData': '{\"name\": \"chris\", \"favoriteanimal\": \"bonobo\"}'},\n",
       "  {'EmailAddress': '8@engi.network',\n",
       "   'TopicPreferences': [{'TopicName': 'engi-newsletter',\n",
       "     'SubscriptionStatus': 'OPT_IN'}],\n",
       "   'UnsubscribeAll': False,\n",
       "   'LastUpdatedTimestamp': datetime.datetime(2022, 3, 9, 13, 46, 44, 734000, tzinfo=tzlocal()),\n",
       "   'AttributesData': '{\"name\": \"chris\", \"favoriteanimal\": \"bonobo\"}'},\n",
       "  {'EmailAddress': '10@engi.network',\n",
       "   'TopicPreferences': [{'TopicName': 'engi-newsletter',\n",
       "     'SubscriptionStatus': 'OPT_IN'}],\n",
       "   'UnsubscribeAll': False,\n",
       "   'LastUpdatedTimestamp': datetime.datetime(2022, 3, 9, 13, 46, 44, 923000, tzinfo=tzlocal()),\n",
       "   'AttributesData': '{\"name\": \"chris\", \"favoriteanimal\": \"bonobo\"}'},\n",
       "  {'EmailAddress': '1@engi.network',\n",
       "   'TopicPreferences': [{'TopicName': 'engi-newsletter',\n",
       "     'SubscriptionStatus': 'OPT_IN'}],\n",
       "   'UnsubscribeAll': False,\n",
       "   'LastUpdatedTimestamp': datetime.datetime(2022, 3, 9, 13, 46, 44, 112000, tzinfo=tzlocal()),\n",
       "   'AttributesData': '{\"name\": \"chris\", \"favoriteanimal\": \"bonobo\"}'},\n",
       "  {'EmailAddress': '2@engi.network',\n",
       "   'TopicPreferences': [{'TopicName': 'engi-newsletter',\n",
       "     'SubscriptionStatus': 'OPT_IN'}],\n",
       "   'UnsubscribeAll': False,\n",
       "   'LastUpdatedTimestamp': datetime.datetime(2022, 3, 9, 13, 46, 44, 201000, tzinfo=tzlocal()),\n",
       "   'AttributesData': '{\"name\": \"chris\", \"favoriteanimal\": \"bonobo\"}'},\n",
       "  {'EmailAddress': '7@engi.network',\n",
       "   'TopicPreferences': [{'TopicName': 'engi-newsletter',\n",
       "     'SubscriptionStatus': 'OPT_IN'}],\n",
       "   'UnsubscribeAll': False,\n",
       "   'LastUpdatedTimestamp': datetime.datetime(2022, 3, 9, 13, 46, 44, 633000, tzinfo=tzlocal()),\n",
       "   'AttributesData': '{\"name\": \"chris\", \"favoriteanimal\": \"bonobo\"}'},\n",
       "  {'EmailAddress': '11@engi.network',\n",
       "   'TopicPreferences': [{'TopicName': 'engi-newsletter',\n",
       "     'SubscriptionStatus': 'OPT_IN'}],\n",
       "   'UnsubscribeAll': False,\n",
       "   'LastUpdatedTimestamp': datetime.datetime(2022, 3, 9, 13, 46, 45, 11000, tzinfo=tzlocal()),\n",
       "   'AttributesData': '{\"name\": \"chris\", \"favoriteanimal\": \"bonobo\"}'},\n",
       "  {'EmailAddress': '14@engi.network',\n",
       "   'TopicPreferences': [{'TopicName': 'engi-newsletter',\n",
       "     'SubscriptionStatus': 'OPT_IN'}],\n",
       "   'UnsubscribeAll': False,\n",
       "   'LastUpdatedTimestamp': datetime.datetime(2022, 3, 9, 13, 46, 45, 267000, tzinfo=tzlocal()),\n",
       "   'AttributesData': '{\"name\": \"chris\", \"favoriteanimal\": \"bonobo\"}'},\n",
       "  {'EmailAddress': 'christopherkelly@engi.network',\n",
       "   'TopicPreferences': [{'TopicName': 'engi-newsletter',\n",
       "     'SubscriptionStatus': 'OPT_IN'}],\n",
       "   'UnsubscribeAll': False,\n",
       "   'LastUpdatedTimestamp': datetime.datetime(2022, 3, 10, 6, 35, 40, 421000, tzinfo=tzlocal()),\n",
       "   'AttributesData': '{\"name\": \"chris\", \"favoriteanimal\": \"bonobo\"}'},\n",
       "  {'EmailAddress': '4@engi.network',\n",
       "   'TopicPreferences': [{'TopicName': 'engi-newsletter',\n",
       "     'SubscriptionStatus': 'OPT_IN'}],\n",
       "   'UnsubscribeAll': False,\n",
       "   'LastUpdatedTimestamp': datetime.datetime(2022, 3, 9, 13, 46, 44, 387000, tzinfo=tzlocal()),\n",
       "   'AttributesData': '{\"name\": \"chris\", \"favoriteanimal\": \"bonobo\"}'},\n",
       "  {'EmailAddress': '5@engi.network',\n",
       "   'TopicPreferences': [{'TopicName': 'engi-newsletter',\n",
       "     'SubscriptionStatus': 'OPT_IN'}],\n",
       "   'UnsubscribeAll': False,\n",
       "   'LastUpdatedTimestamp': datetime.datetime(2022, 3, 9, 13, 46, 44, 470000, tzinfo=tzlocal()),\n",
       "   'AttributesData': '{\"name\": \"chris\", \"favoriteanimal\": \"bonobo\"}'},\n",
       "  {'EmailAddress': '15@engi.network',\n",
       "   'TopicPreferences': [{'TopicName': 'engi-newsletter',\n",
       "     'SubscriptionStatus': 'OPT_IN'}],\n",
       "   'UnsubscribeAll': False,\n",
       "   'LastUpdatedTimestamp': datetime.datetime(2022, 3, 9, 13, 46, 45, 352000, tzinfo=tzlocal()),\n",
       "   'AttributesData': '{\"name\": \"chris\", \"favoriteanimal\": \"bonobo\"}'},\n",
       "  {'EmailAddress': '13@engi.network',\n",
       "   'TopicPreferences': [{'TopicName': 'engi-newsletter',\n",
       "     'SubscriptionStatus': 'OPT_IN'}],\n",
       "   'UnsubscribeAll': False,\n",
       "   'LastUpdatedTimestamp': datetime.datetime(2022, 3, 9, 13, 46, 45, 176000, tzinfo=tzlocal()),\n",
       "   'AttributesData': '{\"name\": \"chris\", \"favoriteanimal\": \"bonobo\"}'},\n",
       "  {'EmailAddress': '19@engi.network',\n",
       "   'TopicPreferences': [{'TopicName': 'engi-newsletter',\n",
       "     'SubscriptionStatus': 'OPT_IN'}],\n",
       "   'UnsubscribeAll': False,\n",
       "   'LastUpdatedTimestamp': datetime.datetime(2022, 3, 9, 13, 46, 45, 957000, tzinfo=tzlocal()),\n",
       "   'AttributesData': '{\"name\": \"chris\", \"favoriteanimal\": \"bonobo\"}'},\n",
       "  {'EmailAddress': '16@engi.network',\n",
       "   'TopicPreferences': [{'TopicName': 'engi-newsletter',\n",
       "     'SubscriptionStatus': 'OPT_IN'}],\n",
       "   'UnsubscribeAll': False,\n",
       "   'LastUpdatedTimestamp': datetime.datetime(2022, 3, 9, 13, 46, 45, 436000, tzinfo=tzlocal()),\n",
       "   'AttributesData': '{\"name\": \"chris\", \"favoriteanimal\": \"bonobo\"}'},\n",
       "  {'EmailAddress': '17@engi.network',\n",
       "   'TopicPreferences': [{'TopicName': 'engi-newsletter',\n",
       "     'SubscriptionStatus': 'OPT_IN'}],\n",
       "   'UnsubscribeAll': False,\n",
       "   'LastUpdatedTimestamp': datetime.datetime(2022, 3, 9, 13, 46, 45, 531000, tzinfo=tzlocal()),\n",
       "   'AttributesData': '{\"name\": \"chris\", \"favoriteanimal\": \"bonobo\"}'}]]"
      ]
     },
     "execution_count": 7,
     "metadata": {},
     "output_type": "execute_result"
    }
   ],
   "source": [
    "list(list_contacts(ses_client, args[\"contact_list_name\"], args[\"topic\"]))"
   ]
  },
  {
   "cell_type": "code",
   "execution_count": null,
   "id": "db78c16d-a416-498a-8eed-c8df4ba21909",
   "metadata": {},
   "outputs": [],
   "source": []
  }
 ],
 "metadata": {
  "kernelspec": {
   "display_name": "Python 3 (ipykernel)",
   "language": "python",
   "name": "python3"
  },
  "language_info": {
   "codemirror_mode": {
    "name": "ipython",
    "version": 3
   },
   "file_extension": ".py",
   "mimetype": "text/x-python",
   "name": "python",
   "nbconvert_exporter": "python",
   "pygments_lexer": "ipython3",
   "version": "3.9.9"
  }
 },
 "nbformat": 4,
 "nbformat_minor": 5
}
