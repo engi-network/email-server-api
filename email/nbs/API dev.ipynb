{
 "cells": [
  {
   "cell_type": "code",
   "execution_count": 1,
   "id": "bc03d664-011f-4b81-9cef-90f731e6905c",
   "metadata": {},
   "outputs": [],
   "source": [
    "%run ../test/test_email_server.py"
   ]
  },
  {
   "cell_type": "code",
   "execution_count": 2,
   "id": "6f03bd63-2a09-4627-8e17-a4a0fe1a214a",
   "metadata": {},
   "outputs": [
    {
     "data": {
      "text/plain": [
       "'http://127.0.0.1:8000/contact'"
      ]
     },
     "execution_count": 2,
     "metadata": {},
     "output_type": "execute_result"
    }
   ],
   "source": [
    "TestContact.endpoint"
   ]
  },
  {
   "cell_type": "code",
   "execution_count": 3,
   "id": "915eb9b3-c267-42cd-9d71-4c8379610148",
   "metadata": {},
   "outputs": [
    {
     "data": {
      "text/plain": [
       "{'email': 'christopherkelly@engi.network',\n",
       " 'contact_list_name': 'engi-newsletter'}"
      ]
     },
     "execution_count": 3,
     "metadata": {},
     "output_type": "execute_result"
    }
   ],
   "source": [
    "DATA"
   ]
  },
  {
   "cell_type": "code",
   "execution_count": 3,
   "id": "cc924544-4976-4bba-8bd0-2722e1ff1c68",
   "metadata": {},
   "outputs": [
    {
     "data": {
      "text/plain": [
       "'http://127.0.0.1:8000'"
      ]
     },
     "execution_count": 3,
     "metadata": {},
     "output_type": "execute_result"
    }
   ],
   "source": [
    "URL"
   ]
  },
  {
   "cell_type": "code",
   "execution_count": 4,
   "id": "51ce4f26-a855-4f5a-a06e-0249674bd64c",
   "metadata": {},
   "outputs": [
    {
     "data": {
      "text/plain": [
       "['engi-newsletter',\n",
       " 'engi-programmer',\n",
       " 'engi-business',\n",
       " 'engi-investor',\n",
       " 'engi-curious']"
      ]
     },
     "execution_count": 4,
     "metadata": {},
     "output_type": "execute_result"
    }
   ],
   "source": [
    "TOPICS"
   ]
  },
  {
   "cell_type": "code",
   "execution_count": 123,
   "id": "7e42fe7c-af0e-489b-aba5-fdf1b3a499d9",
   "metadata": {},
   "outputs": [
    {
     "data": {
      "text/plain": [
       "<Response [200]>"
      ]
     },
     "execution_count": 123,
     "metadata": {},
     "output_type": "execute_result"
    }
   ],
   "source": [
    "r = requests.post(\n",
    "                TestContact.endpoint,\n",
    "                data={\n",
    "                    **DATA,\n",
    "                    \"topics\": TOPICS,\n",
    "                    \"attributes\": ATTRS,\n",
    "                },\n",
    "            ); r"
   ]
  },
  {
   "cell_type": "code",
   "execution_count": 12,
   "id": "00ce401c-3c5e-48c5-b44a-56fd8c0479e8",
   "metadata": {},
   "outputs": [
    {
     "ename": "IndentationError",
     "evalue": "unindent does not match any outer indentation level (<tokenize>, line 7)",
     "output_type": "error",
     "traceback": [
      "\u001b[0;36m  File \u001b[0;32m<tokenize>:7\u001b[0;36m\u001b[0m\n\u001b[0;31m    }'\u001b[0m\n\u001b[0m    ^\u001b[0m\n\u001b[0;31mIndentationError\u001b[0m\u001b[0;31m:\u001b[0m unindent does not match any outer indentation level\n"
     ]
    }
   ],
   "source": [
    "!curl --location --request POST 'localhost:8000/contact' \\\n",
    "    --header 'Content-Type: application/json' \\\n",
    "    --data-raw '{\n",
    "        \"contact_list_name\": \"engi-newsletter\",\n",
    "        \"attributes\": \"{\\'name\\': \\'chris\\', \\'favoriteanimal\\': \\'bonobo\\'}\"\n",
    "        \"email\": \"christopherkelly@engi.network\"\n",
    "    }'"
   ]
  },
  {
   "cell_type": "code",
   "execution_count": 9,
   "id": "ebf7fcac-77bc-4855-9691-4b9b6195db1a",
   "metadata": {},
   "outputs": [
    {
     "data": {
      "text/plain": [
       "{'email': 'christopherkelly@engi.network',\n",
       " 'contact_list_name': 'engi-newsletter',\n",
       " 'topics': None,\n",
       " 'attributes': '{\"name\": \"chris\", \"favoriteanimal\": \"bonobo\"}',\n",
       " 'unsubscribe_all': False,\n",
       " 'topics_unsubscribe': None,\n",
       " 'send_welcome_email': True}"
      ]
     },
     "execution_count": 9,
     "metadata": {},
     "output_type": "execute_result"
    }
   ],
   "source": [
    "{'email': 'christopherkelly@engi.network', 'contact_list_name': 'engi-newsletter', 'topics': None, 'attributes': '{\"name\": \"chris\", \"favoriteanimal\": \"bonobo\"}', 'unsubscribe_all': False, 'topics_unsubscribe': None, 'send_welcome_email': True}"
   ]
  },
  {
   "cell_type": "code",
   "execution_count": 10,
   "id": "aa34f942-9183-4d93-87c4-e036216ae6b1",
   "metadata": {},
   "outputs": [
    {
     "data": {
      "text/plain": [
       "{'email': 'christopherkelly@engi.network',\n",
       " 'contact_list_name': 'engi-newsletter',\n",
       " 'topics': None,\n",
       " 'attributes': '',\n",
       " 'unsubscribe_all': False,\n",
       " 'topics_unsubscribe': None,\n",
       " 'send_welcome_email': True}"
      ]
     },
     "execution_count": 10,
     "metadata": {},
     "output_type": "execute_result"
    }
   ],
   "source": [
    "{'email': 'christopherkelly@engi.network', 'contact_list_name': 'engi-newsletter', 'topics': None, 'attributes': '', 'unsubscribe_all': False, 'topics_unsubscribe': None, 'send_welcome_email': True}"
   ]
  },
  {
   "cell_type": "code",
   "execution_count": 20,
   "id": "a6e31d8a-666d-4630-81d4-955283363502",
   "metadata": {},
   "outputs": [
    {
     "data": {
      "text/plain": [
       "<Response [200]>"
      ]
     },
     "execution_count": 20,
     "metadata": {},
     "output_type": "execute_result"
    }
   ],
   "source": [
    "r = requests.delete(\n",
    "                TestContact.endpoint,\n",
    "                data={\n",
    "                    **DATA,\n",
    "                },\n",
    "            ); r"
   ]
  },
  {
   "cell_type": "code",
   "execution_count": 127,
   "id": "93fe4d21-4e87-4019-b221-347c27513ae2",
   "metadata": {},
   "outputs": [
    {
     "data": {
      "text/plain": [
       "{'ResponseMetadata': {'RequestId': '05355bcd-c1ee-45ce-bb2c-cbb70a8e6c5a',\n",
       "  'HTTPStatusCode': 200,\n",
       "  'HTTPHeaders': {'date': 'Fri, 11 Mar 2022 16:49:12 GMT',\n",
       "   'content-type': 'application/x-amz-json-1.1',\n",
       "   'content-length': '612',\n",
       "   'connection': 'keep-alive',\n",
       "   'x-amzn-requestid': '05355bcd-c1ee-45ce-bb2c-cbb70a8e6c5a'},\n",
       "  'RetryAttempts': 0},\n",
       " 'ContactListName': 'engi-newsletter',\n",
       " 'EmailAddress': 'christopherkelly@engi.network',\n",
       " 'TopicDefaultPreferences': None,\n",
       " 'AttributesData': '{\"name\": \"chris\", \"favoriteanimal\": \"bonobo\"}',\n",
       " 'TopicPreferences': [{'TopicName': 'engi-investor',\n",
       "   'SubscriptionStatus': 'OPT_IN'},\n",
       "  {'TopicName': 'engi-newsletter', 'SubscriptionStatus': 'OPT_IN'},\n",
       "  {'TopicName': 'engi-programmer', 'SubscriptionStatus': 'OPT_IN'},\n",
       "  {'TopicName': 'engi-curious', 'SubscriptionStatus': 'OPT_OUT'},\n",
       "  {'TopicName': 'engi-business', 'SubscriptionStatus': 'OPT_IN'}],\n",
       " 'UnsubscribeAll': False,\n",
       " 'CreatedTimestamp': '2022-03-11T08:49:03.233000-08:00',\n",
       " 'LastUpdatedTimestamp': '2022-03-11T08:49:09.946000-08:00'}"
      ]
     },
     "execution_count": 127,
     "metadata": {},
     "output_type": "execute_result"
    }
   ],
   "source": [
    "r = requests.get(TestContact.endpoint, params=DATA); meta = r.json(); meta"
   ]
  },
  {
   "cell_type": "code",
   "execution_count": 128,
   "id": "956190aa-79a4-4ed3-8c54-9e8a24814647",
   "metadata": {},
   "outputs": [
    {
     "data": {
      "text/plain": [
       "{'engi-investor': 'OPT_IN',\n",
       " 'engi-newsletter': 'OPT_IN',\n",
       " 'engi-programmer': 'OPT_IN',\n",
       " 'engi-curious': 'OPT_OUT',\n",
       " 'engi-business': 'OPT_IN'}"
      ]
     },
     "execution_count": 128,
     "metadata": {},
     "output_type": "execute_result"
    }
   ],
   "source": [
    "dict([(d[\"TopicName\"], d[\"SubscriptionStatus\"]) for d in meta[\"TopicPreferences\"]])"
   ]
  },
  {
   "cell_type": "code",
   "execution_count": 126,
   "id": "dab537ab-19f6-4df7-846b-a022a9d01fb5",
   "metadata": {},
   "outputs": [
    {
     "data": {
      "text/plain": [
       "<Response [200]>"
      ]
     },
     "execution_count": 126,
     "metadata": {},
     "output_type": "execute_result"
    }
   ],
   "source": [
    "r = requests.put(\n",
    "                TestContact.endpoint,\n",
    "                data={\n",
    "                    **DATA,\n",
    "                    \"topics_unsubscribe\": TOPICS[-1],\n",
    "                },\n",
    "            ); r"
   ]
  },
  {
   "cell_type": "code",
   "execution_count": 132,
   "id": "fd64dc8e-7238-4872-a858-d5f86c2a7d56",
   "metadata": {},
   "outputs": [],
   "source": [
    "data = DATA.copy()\n",
    "email = \"{}@engi.network\"\n",
    "\n",
    "for i in range(20):\n",
    "    data[\"email\"] = email.format(i)\n",
    "    requests.delete(TestContact.endpoint, data={\n",
    "                    **data,\n",
    "                })"
   ]
  },
  {
   "cell_type": "code",
   "execution_count": null,
   "id": "689559bc-a2c9-463c-addc-77fbc31ee0c8",
   "metadata": {},
   "outputs": [],
   "source": [
    "data = DATA.copy()\n",
    "email = \"{}@engi.network\"\n",
    "\n",
    "for i in range(20):\n",
    "    data[\"email\"] = email.format(i)\n",
    "    requests.post(TestContact.endpoint, data={\n",
    "                    **data,\n",
    "                    \"topics\": TOPICS,\n",
    "                    \"attributes\": ATTRS,\n",
    "                })"
   ]
  },
  {
   "cell_type": "code",
   "execution_count": 6,
   "id": "74be026d-05d9-48cf-a760-63ca6581f9ff",
   "metadata": {},
   "outputs": [],
   "source": [
    "%run ../send.py"
   ]
  },
  {
   "cell_type": "code",
   "execution_count": 3,
   "id": "be82413b-4ca2-4870-92d9-1c19009a346c",
   "metadata": {},
   "outputs": [],
   "source": [
    "args = {\n",
    "    \"contact_list_name\": \"engi-newsletter\",\n",
    "    \"template_name\": \"engi-newsletter-welcome-template\",\n",
    "    \"from_email\": \"g@engi.network\",\n",
    "    \"default_attributes\": '{\"name\": \"friend\", \"favoriteanimal\": \"elephant\"}',\n",
    "    \"topic\": \"engi-newsletter\",\n",
    "}"
   ]
  },
  {
   "cell_type": "code",
   "execution_count": 4,
   "id": "603c5537-8cc3-4f79-a2a7-32cd7b16bfa9",
   "metadata": {},
   "outputs": [
    {
     "data": {
      "text/plain": [
       "<botocore.client.SESV2 at 0x1103c1580>"
      ]
     },
     "execution_count": 4,
     "metadata": {},
     "output_type": "execute_result"
    }
   ],
   "source": []
  },
  {
   "cell_type": "code",
   "execution_count": null,
   "id": "f2a08f69-da22-431b-96ed-0cae0bc590e4",
   "metadata": {},
   "outputs": [],
   "source": [
    "list(list_contacts(ses_client, args[\"contact_list_name\"], args[\"topic\"]))"
   ]
  },
  {
   "cell_type": "code",
   "execution_count": 8,
   "id": "db78c16d-a416-498a-8eed-c8df4ba21909",
   "metadata": {},
   "outputs": [],
   "source": [
    "from kombu.utils.url import safequote"
   ]
  },
  {
   "cell_type": "code",
   "execution_count": 9,
   "id": "76e5e61b-dbba-4d43-ac99-9a713d7dd8c5",
   "metadata": {},
   "outputs": [],
   "source": [
    "%run ../tasks.py"
   ]
  },
  {
   "cell_type": "code",
   "execution_count": 10,
   "id": "0ce6f2d9-7f50-47b2-b0bb-130a63a732fb",
   "metadata": {},
   "outputs": [],
   "source": [
    "r = add.delay(2, 2)"
   ]
  },
  {
   "cell_type": "code",
   "execution_count": 11,
   "id": "dd2dcae3-6d31-4be9-93a4-c00d756470d3",
   "metadata": {},
   "outputs": [
    {
     "data": {
      "text/plain": [
       "<AsyncResult: f5f1736f-1d2d-4151-9624-3f226b50ec0f>"
      ]
     },
     "execution_count": 11,
     "metadata": {},
     "output_type": "execute_result"
    }
   ],
   "source": [
    "r"
   ]
  },
  {
   "cell_type": "code",
   "execution_count": null,
   "id": "06eb5234-ee89-42d0-bce1-9247d602e4c8",
   "metadata": {},
   "outputs": [],
   "source": []
  }
 ],
 "metadata": {
  "kernelspec": {
   "display_name": "Python 3 (ipykernel)",
   "language": "python",
   "name": "python3"
  },
  "language_info": {
   "codemirror_mode": {
    "name": "ipython",
    "version": 3
   },
   "file_extension": ".py",
   "mimetype": "text/x-python",
   "name": "python",
   "nbconvert_exporter": "python",
   "pygments_lexer": "ipython3",
   "version": "3.9.10"
  }
 },
 "nbformat": 4,
 "nbformat_minor": 5
}
