{
 "cells": [
  {
   "cell_type": "code",
   "execution_count": 1,
   "id": "b9244a18-b26d-4783-9854-fa48e31ee2d9",
   "metadata": {},
   "outputs": [],
   "source": [
    "import sys"
   ]
  },
  {
   "cell_type": "code",
   "execution_count": 4,
   "id": "5410cacc-c179-4739-a7e4-d67ac0ac6549",
   "metadata": {},
   "outputs": [],
   "source": [
    "sys.path.append('/Users/cck197/Documents/engi-network/email-server-api/email')"
   ]
  },
  {
   "cell_type": "code",
   "execution_count": 5,
   "id": "98f31e41-b04f-4ca7-87e4-7997565610c2",
   "metadata": {},
   "outputs": [],
   "source": [
    "%run ../../email/test/test_email_server.py"
   ]
  },
  {
   "cell_type": "code",
   "execution_count": 6,
   "id": "6f03bd63-2a09-4627-8e17-a4a0fe1a214a",
   "metadata": {},
   "outputs": [
    {
     "data": {
      "text/plain": [
       "'http://127.0.0.1:8000/contact'"
      ]
     },
     "execution_count": 6,
     "metadata": {},
     "output_type": "execute_result"
    }
   ],
   "source": [
    "TestContact.endpoint"
   ]
  },
  {
   "cell_type": "code",
   "execution_count": 3,
   "id": "915eb9b3-c267-42cd-9d71-4c8379610148",
   "metadata": {},
   "outputs": [
    {
     "data": {
      "text/plain": [
       "{'email': 'christopherkelly@engi.network',\n",
       " 'contact_list_name': 'engi-newsletter'}"
      ]
     },
     "execution_count": 3,
     "metadata": {},
     "output_type": "execute_result"
    }
   ],
   "source": [
    "DATA"
   ]
  },
  {
   "cell_type": "code",
   "execution_count": 3,
   "id": "cc924544-4976-4bba-8bd0-2722e1ff1c68",
   "metadata": {},
   "outputs": [
    {
     "data": {
      "text/plain": [
       "'http://127.0.0.1:8000'"
      ]
     },
     "execution_count": 3,
     "metadata": {},
     "output_type": "execute_result"
    }
   ],
   "source": [
    "URL"
   ]
  },
  {
   "cell_type": "code",
   "execution_count": 6,
   "id": "e841a04d-e580-44bd-b38d-28adada4e93e",
   "metadata": {},
   "outputs": [
    {
     "data": {
      "text/plain": [
       "'{\"name\": \"chris\", \"favoriteanimal\": \"bonobo\"}'"
      ]
     },
     "execution_count": 6,
     "metadata": {},
     "output_type": "execute_result"
    }
   ],
   "source": [
    "ATTRS"
   ]
  },
  {
   "cell_type": "code",
   "execution_count": 7,
   "id": "53e8afe4-25c1-47e3-a206-54e87f232b31",
   "metadata": {},
   "outputs": [
    {
     "data": {
      "text/plain": [
       "'\"{\\\\\"name\\\\\": \\\\\"chris\\\\\", \\\\\"favoriteanimal\\\\\": \\\\\"bonobo\\\\\"}\"'"
      ]
     },
     "execution_count": 7,
     "metadata": {},
     "output_type": "execute_result"
    }
   ],
   "source": [
    "json.dumps(ATTRS)"
   ]
  },
  {
   "cell_type": "code",
   "execution_count": 15,
   "id": "51ce4f26-a855-4f5a-a06e-0249674bd64c",
   "metadata": {},
   "outputs": [
    {
     "data": {
      "text/plain": [
       "['engi-newsletter',\n",
       " 'engi-programmer',\n",
       " 'engi-business',\n",
       " 'engi-investor',\n",
       " 'engi-curious']"
      ]
     },
     "execution_count": 15,
     "metadata": {},
     "output_type": "execute_result"
    }
   ],
   "source": [
    "TOPICS"
   ]
  },
  {
   "cell_type": "code",
   "execution_count": 8,
   "id": "daa79029-a76b-4583-afda-f31be0e89c98",
   "metadata": {},
   "outputs": [
    {
     "data": {
      "text/plain": [
       "'{\"name\": \"chris\", \"favoriteanimal\": \"bonobo\"}'"
      ]
     },
     "execution_count": 8,
     "metadata": {},
     "output_type": "execute_result"
    }
   ],
   "source": [
    "ATTRS"
   ]
  },
  {
   "cell_type": "code",
   "execution_count": 13,
   "id": "cc2111c4-8baa-4b3e-bb2a-4931cf53f9f2",
   "metadata": {},
   "outputs": [
    {
     "data": {
      "text/plain": [
       "{'email': 'christopherkelly@engi.network',\n",
       " 'contact_list_name': 'engi-newsletter'}"
      ]
     },
     "execution_count": 13,
     "metadata": {},
     "output_type": "execute_result"
    }
   ],
   "source": [
    "DATA"
   ]
  },
  {
   "cell_type": "code",
   "execution_count": 20,
   "id": "afd03329-cd81-4dd1-b513-77df802e5009",
   "metadata": {},
   "outputs": [
    {
     "data": {
      "text/plain": [
       "'christopherkelly@engi.network'"
      ]
     },
     "execution_count": 20,
     "metadata": {},
     "output_type": "execute_result"
    }
   ],
   "source": [
    "EMAIL"
   ]
  },
  {
   "cell_type": "code",
   "execution_count": 27,
   "id": "fb678018-d4d2-4067-87cf-9322132116d0",
   "metadata": {},
   "outputs": [
    {
     "data": {
      "text/plain": [
       "'{\"email\": \"christopherkelly@engi.network\"}'"
      ]
     },
     "execution_count": 27,
     "metadata": {},
     "output_type": "execute_result"
    }
   ],
   "source": [
    "'{\"email\": \"christopherkelly@engi.network\"}'"
   ]
  },
  {
   "cell_type": "code",
   "execution_count": 17,
   "id": "7e42fe7c-af0e-489b-aba5-fdf1b3a499d9",
   "metadata": {},
   "outputs": [
    {
     "data": {
      "text/plain": [
       "<Response [400]>"
      ]
     },
     "execution_count": 17,
     "metadata": {},
     "output_type": "execute_result"
    }
   ],
   "source": [
    "r = requests.post(\n",
    "                TestContact.endpoint,\n",
    "                data={\n",
    "                    **DATA,\n",
    "                },\n",
    "            ); r"
   ]
  },
  {
   "cell_type": "code",
   "execution_count": 16,
   "id": "71fc4817-bdab-4e2c-9dde-3c58166c2225",
   "metadata": {},
   "outputs": [
    {
     "data": {
      "text/plain": [
       "{'headers': HTTPHeaderDict({'Server': 'Werkzeug/2.1.2 Python/3.9.10', 'Date': 'Mon, 09 May 2022 17:15:55 GMT', 'Content-Type': 'application/json', 'Content-Length': '116', 'Connection': 'close'}),\n",
       " 'status': 400,\n",
       " 'version': 11,\n",
       " 'reason': 'BAD REQUEST',\n",
       " 'strict': 0,\n",
       " 'decode_content': False,\n",
       " 'retries': Retry(total=0, connect=None, read=False, redirect=None, status=None),\n",
       " 'enforce_content_length': False,\n",
       " 'auto_close': True,\n",
       " '_decoder': None,\n",
       " '_body': None,\n",
       " '_fp': <http.client.HTTPResponse at 0x112314970>,\n",
       " '_original_response': <http.client.HTTPResponse at 0x112314970>,\n",
       " '_fp_bytes_read': 116,\n",
       " 'msg': None,\n",
       " '_request_url': None,\n",
       " '_pool': <urllib3.connectionpool.HTTPConnectionPool at 0x1118e6f10>,\n",
       " '_connection': None,\n",
       " 'chunked': False,\n",
       " 'chunk_left': None,\n",
       " 'length_remaining': 0}"
      ]
     },
     "execution_count": 16,
     "metadata": {},
     "output_type": "execute_result"
    }
   ],
   "source": [
    "r.raw.__dict__"
   ]
  },
  {
   "cell_type": "code",
   "execution_count": 31,
   "id": "a6e31d8a-666d-4630-81d4-955283363502",
   "metadata": {},
   "outputs": [
    {
     "data": {
      "text/plain": [
       "<Response [200]>"
      ]
     },
     "execution_count": 31,
     "metadata": {},
     "output_type": "execute_result"
    }
   ],
   "source": [
    "r = requests.delete(\n",
    "                TestContact.endpoint,\n",
    "                json={\n",
    "                    **DATA,\n",
    "                },\n",
    "            ); r"
   ]
  },
  {
   "cell_type": "code",
   "execution_count": 26,
   "id": "9971b314-6ee8-42dc-9b1a-1f4cefe09481",
   "metadata": {},
   "outputs": [
    {
     "data": {
      "text/plain": [
       "<Response [200]>"
      ]
     },
     "execution_count": 26,
     "metadata": {},
     "output_type": "execute_result"
    }
   ],
   "source": [
    "r = requests.post(\n",
    "                TestContact.endpoint,\n",
    "                json={\n",
    "                    **DATA,\n",
    "                    \"send_welcome_email\": True,\n",
    "                    \"attributes\": ATTRS,\n",
    "                },\n",
    "            ); r"
   ]
  },
  {
   "cell_type": "code",
   "execution_count": 23,
   "id": "6e6579e8-a068-4ab0-a8c7-4d40cf1650d2",
   "metadata": {},
   "outputs": [
    {
     "data": {
      "text/plain": [
       "{'email': 'christopherkelly@engi.network',\n",
       " 'contact_list_name': 'engi-newsletter'}"
      ]
     },
     "execution_count": 23,
     "metadata": {},
     "output_type": "execute_result"
    }
   ],
   "source": [
    "DATA"
   ]
  },
  {
   "cell_type": "code",
   "execution_count": 27,
   "id": "93fe4d21-4e87-4019-b221-347c27513ae2",
   "metadata": {},
   "outputs": [
    {
     "data": {
      "text/plain": [
       "<Response [200]>"
      ]
     },
     "execution_count": 27,
     "metadata": {},
     "output_type": "execute_result"
    }
   ],
   "source": [
    "r = requests.get(TestContact.endpoint, json=DATA); r #meta = r.json(); meta"
   ]
  },
  {
   "cell_type": "code",
   "execution_count": 128,
   "id": "956190aa-79a4-4ed3-8c54-9e8a24814647",
   "metadata": {},
   "outputs": [
    {
     "data": {
      "text/plain": [
       "{'engi-investor': 'OPT_IN',\n",
       " 'engi-newsletter': 'OPT_IN',\n",
       " 'engi-programmer': 'OPT_IN',\n",
       " 'engi-curious': 'OPT_OUT',\n",
       " 'engi-business': 'OPT_IN'}"
      ]
     },
     "execution_count": 128,
     "metadata": {},
     "output_type": "execute_result"
    }
   ],
   "source": [
    "dict([(d[\"TopicName\"], d[\"SubscriptionStatus\"]) for d in meta[\"TopicPreferences\"]])"
   ]
  },
  {
   "cell_type": "code",
   "execution_count": 126,
   "id": "dab537ab-19f6-4df7-846b-a022a9d01fb5",
   "metadata": {},
   "outputs": [
    {
     "data": {
      "text/plain": [
       "<Response [200]>"
      ]
     },
     "execution_count": 126,
     "metadata": {},
     "output_type": "execute_result"
    }
   ],
   "source": [
    "r = requests.put(\n",
    "                TestContact.endpoint,\n",
    "                json={\n",
    "                    **DATA,\n",
    "                    \"topics_unsubscribe\": TOPICS[-1],\n",
    "                },\n",
    "            ); r"
   ]
  },
  {
   "cell_type": "code",
   "execution_count": 132,
   "id": "fd64dc8e-7238-4872-a858-d5f86c2a7d56",
   "metadata": {},
   "outputs": [],
   "source": [
    "data = DATA.copy()\n",
    "email = \"{}@engi.network\"\n",
    "\n",
    "for i in range(20):\n",
    "    data[\"email\"] = email.format(i)\n",
    "    requests.delete(TestContact.endpoint, data={\n",
    "                    **data,\n",
    "                })"
   ]
  },
  {
   "cell_type": "code",
   "execution_count": null,
   "id": "689559bc-a2c9-463c-addc-77fbc31ee0c8",
   "metadata": {},
   "outputs": [],
   "source": [
    "data = DATA.copy()\n",
    "email = \"{}@engi.network\"\n",
    "\n",
    "for i in range(20):\n",
    "    data[\"email\"] = email.format(i)\n",
    "    requests.post(TestContact.endpoint, data={\n",
    "                    **data,\n",
    "                    \"topics\": TOPICS,\n",
    "                    \"attributes\": ATTRS,\n",
    "                })"
   ]
  },
  {
   "cell_type": "code",
   "execution_count": 6,
   "id": "74be026d-05d9-48cf-a760-63ca6581f9ff",
   "metadata": {},
   "outputs": [],
   "source": [
    "%run ../send.py"
   ]
  },
  {
   "cell_type": "code",
   "execution_count": 3,
   "id": "be82413b-4ca2-4870-92d9-1c19009a346c",
   "metadata": {},
   "outputs": [],
   "source": [
    "args = {\n",
    "    \"contact_list_name\": \"engi-newsletter\",\n",
    "    \"template_name\": \"engi-newsletter-welcome-template\",\n",
    "    \"from_email\": \"g@engi.network\",\n",
    "    \"default_attributes\": '{\"name\": \"friend\", \"favoriteanimal\": \"elephant\"}',\n",
    "    \"topic\": \"engi-newsletter\",\n",
    "}"
   ]
  },
  {
   "cell_type": "code",
   "execution_count": 4,
   "id": "603c5537-8cc3-4f79-a2a7-32cd7b16bfa9",
   "metadata": {},
   "outputs": [
    {
     "data": {
      "text/plain": [
       "<botocore.client.SESV2 at 0x1103c1580>"
      ]
     },
     "execution_count": 4,
     "metadata": {},
     "output_type": "execute_result"
    }
   ],
   "source": []
  },
  {
   "cell_type": "code",
   "execution_count": null,
   "id": "f2a08f69-da22-431b-96ed-0cae0bc590e4",
   "metadata": {},
   "outputs": [],
   "source": [
    "list(list_contacts(ses_client, args[\"contact_list_name\"], args[\"topic\"]))"
   ]
  },
  {
   "cell_type": "code",
   "execution_count": 8,
   "id": "db78c16d-a416-498a-8eed-c8df4ba21909",
   "metadata": {},
   "outputs": [],
   "source": [
    "from kombu.utils.url import safequote"
   ]
  },
  {
   "cell_type": "code",
   "execution_count": 9,
   "id": "76e5e61b-dbba-4d43-ac99-9a713d7dd8c5",
   "metadata": {},
   "outputs": [],
   "source": [
    "%run ../tasks.py"
   ]
  },
  {
   "cell_type": "code",
   "execution_count": 10,
   "id": "0ce6f2d9-7f50-47b2-b0bb-130a63a732fb",
   "metadata": {},
   "outputs": [],
   "source": [
    "r = add.delay(2, 2)"
   ]
  },
  {
   "cell_type": "code",
   "execution_count": 11,
   "id": "dd2dcae3-6d31-4be9-93a4-c00d756470d3",
   "metadata": {},
   "outputs": [
    {
     "data": {
      "text/plain": [
       "<AsyncResult: f5f1736f-1d2d-4151-9624-3f226b50ec0f>"
      ]
     },
     "execution_count": 11,
     "metadata": {},
     "output_type": "execute_result"
    }
   ],
   "source": [
    "r"
   ]
  },
  {
   "cell_type": "code",
   "execution_count": null,
   "id": "06eb5234-ee89-42d0-bce1-9247d602e4c8",
   "metadata": {},
   "outputs": [],
   "source": []
  }
 ],
 "metadata": {
  "kernelspec": {
   "display_name": "Python 3 (ipykernel)",
   "language": "python",
   "name": "python3"
  },
  "language_info": {
   "codemirror_mode": {
    "name": "ipython",
    "version": 3
   },
   "file_extension": ".py",
   "mimetype": "text/x-python",
   "name": "python",
   "nbconvert_exporter": "python",
   "pygments_lexer": "ipython3",
   "version": "3.9.10"
  }
 },
 "nbformat": 4,
 "nbformat_minor": 5
}
