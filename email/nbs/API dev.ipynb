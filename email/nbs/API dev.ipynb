{
 "cells": [
  {
   "cell_type": "code",
   "execution_count": 10,
   "id": "bc03d664-011f-4b81-9cef-90f731e6905c",
   "metadata": {},
   "outputs": [],
   "source": [
    "%run ../test/test_email_server.py"
   ]
  },
  {
   "cell_type": "code",
   "execution_count": 13,
   "id": "6f03bd63-2a09-4627-8e17-a4a0fe1a214a",
   "metadata": {},
   "outputs": [
    {
     "data": {
      "text/plain": [
       "'http://127.0.0.1:5000/contact'"
      ]
     },
     "execution_count": 13,
     "metadata": {},
     "output_type": "execute_result"
    }
   ],
   "source": [
    "TestContact.endpoint"
   ]
  },
  {
   "cell_type": "code",
   "execution_count": 17,
   "id": "fd64dc8e-7238-4872-a858-d5f86c2a7d56",
   "metadata": {},
   "outputs": [],
   "source": [
    "data = DATA.copy()\n",
    "email = \"{}@engi.network\"\n",
    "\n",
    "for i in range(20):\n",
    "    data[\"email\"] = email.format(i)\n",
    "    requests.post(TestContact.endpoint, data={\n",
    "                    **data,\n",
    "                    \"topics\": TOPICS,\n",
    "                    \"attributes\": ATTRS,\n",
    "                })"
   ]
  },
  {
   "cell_type": "code",
   "execution_count": null,
   "id": "74be026d-05d9-48cf-a760-63ca6581f9ff",
   "metadata": {},
   "outputs": [],
   "source": []
  }
 ],
 "metadata": {
  "kernelspec": {
   "display_name": "Python 3 (ipykernel)",
   "language": "python",
   "name": "python3"
  },
  "language_info": {
   "codemirror_mode": {
    "name": "ipython",
    "version": 3
   },
   "file_extension": ".py",
   "mimetype": "text/x-python",
   "name": "python",
   "nbconvert_exporter": "python",
   "pygments_lexer": "ipython3",
   "version": "3.9.9"
  }
 },
 "nbformat": 4,
 "nbformat_minor": 5
}
