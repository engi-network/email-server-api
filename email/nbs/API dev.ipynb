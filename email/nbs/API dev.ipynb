{
 "cells": [
  {
   "cell_type": "code",
   "execution_count": 1,
   "id": "d9c9b3a6-c3cc-479b-8495-93f27a303950",
   "metadata": {},
   "outputs": [],
   "source": [
    "import requests"
   ]
  },
  {
   "cell_type": "code",
   "execution_count": 18,
   "id": "6b419a7d-4c45-494c-a1dd-72185a53fb91",
   "metadata": {},
   "outputs": [],
   "source": [
    "URL = \"http://127.0.0.1:5000\""
   ]
  },
  {
   "cell_type": "code",
   "execution_count": 6,
   "id": "cc83a7aa-7cab-4d6c-8ad9-50993392fa2a",
   "metadata": {},
   "outputs": [],
   "source": [
    "endpoint = \"ping\"\n",
    "r = requests.get(f\"{URL}/{endpoint}\")"
   ]
  },
  {
   "cell_type": "code",
   "execution_count": 7,
   "id": "a31ae911-73b7-4919-bdea-a6dfdc97c080",
   "metadata": {},
   "outputs": [
    {
     "data": {
      "text/plain": [
       "'pong'"
      ]
     },
     "execution_count": 7,
     "metadata": {},
     "output_type": "execute_result"
    }
   ],
   "source": [
    "r.json()"
   ]
  },
  {
   "cell_type": "code",
   "execution_count": 20,
   "id": "14e5e1f0-8f57-475c-bb8c-dfa38c1d9e52",
   "metadata": {},
   "outputs": [],
   "source": [
    "endpoint = \"contact\"\n",
    "email = \"christopherkelly@engi.network\"\n",
    "topic = \"engi-newsletter\""
   ]
  },
  {
   "cell_type": "code",
   "execution_count": 22,
   "id": "518e302b-897e-4e5f-a1b8-adfe9a35091d",
   "metadata": {},
   "outputs": [
    {
     "data": {
      "text/plain": [
       "<Response [200]>"
      ]
     },
     "execution_count": 22,
     "metadata": {},
     "output_type": "execute_result"
    }
   ],
   "source": [
    "r = requests.post(f\"{URL}/{endpoint}\", data={\"email\": email, \"topic\": topic}); r"
   ]
  },
  {
   "cell_type": "code",
   "execution_count": 16,
   "id": "6a212abb-592e-47f3-99a2-e35b7597e5f5",
   "metadata": {},
   "outputs": [
    {
     "data": {
      "text/plain": [
       "404"
      ]
     },
     "execution_count": 16,
     "metadata": {},
     "output_type": "execute_result"
    }
   ],
   "source": []
  },
  {
   "cell_type": "code",
   "execution_count": null,
   "id": "7dbd3cef-1e7c-4cec-87eb-2026cd39a0c9",
   "metadata": {},
   "outputs": [],
   "source": []
  }
 ],
 "metadata": {
  "kernelspec": {
   "display_name": "Python 3 (ipykernel)",
   "language": "python",
   "name": "python3"
  },
  "language_info": {
   "codemirror_mode": {
    "name": "ipython",
    "version": 3
   },
   "file_extension": ".py",
   "mimetype": "text/x-python",
   "name": "python",
   "nbconvert_exporter": "python",
   "pygments_lexer": "ipython3",
   "version": "3.9.9"
  }
 },
 "nbformat": 4,
 "nbformat_minor": 5
}
