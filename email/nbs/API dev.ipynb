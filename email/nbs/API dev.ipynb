{
 "cells": [
  {
   "cell_type": "code",
   "execution_count": 1,
   "id": "bc03d664-011f-4b81-9cef-90f731e6905c",
   "metadata": {},
   "outputs": [],
   "source": [
    "%run ../test/test_email_server.py"
   ]
  },
  {
   "cell_type": "code",
   "execution_count": 2,
   "id": "6f03bd63-2a09-4627-8e17-a4a0fe1a214a",
   "metadata": {},
   "outputs": [
    {
     "data": {
      "text/plain": [
       "'http://127.0.0.1:8000/contact'"
      ]
     },
     "execution_count": 2,
     "metadata": {},
     "output_type": "execute_result"
    }
   ],
   "source": [
    "TestContact.endpoint"
   ]
  },
  {
   "cell_type": "code",
   "execution_count": 3,
   "id": "cc924544-4976-4bba-8bd0-2722e1ff1c68",
   "metadata": {},
   "outputs": [
    {
     "data": {
      "text/plain": [
       "'http://127.0.0.1:8000'"
      ]
     },
     "execution_count": 3,
     "metadata": {},
     "output_type": "execute_result"
    }
   ],
   "source": [
    "URL"
   ]
  },
  {
   "cell_type": "code",
   "execution_count": 4,
   "id": "51ce4f26-a855-4f5a-a06e-0249674bd64c",
   "metadata": {},
   "outputs": [
    {
     "data": {
      "text/plain": [
       "['engi-newsletter',\n",
       " 'engi-programmer',\n",
       " 'engi-business',\n",
       " 'engi-investor',\n",
       " 'engi-curious']"
      ]
     },
     "execution_count": 4,
     "metadata": {},
     "output_type": "execute_result"
    }
   ],
   "source": [
    "TOPICS"
   ]
  },
  {
   "cell_type": "code",
   "execution_count": 54,
   "id": "7e42fe7c-af0e-489b-aba5-fdf1b3a499d9",
   "metadata": {},
   "outputs": [],
   "source": [
    "r = requests.post(\n",
    "                TestContact.endpoint,\n",
    "                data={\n",
    "                    **DATA,\n",
    "                    \"topics\": TOPICS,\n",
    "                    \"attributes\": ATTRS,\n",
    "                },\n",
    "            )"
   ]
  },
  {
   "cell_type": "code",
   "execution_count": 55,
   "id": "3fbd0f5e-5725-43cd-9404-96f70f078052",
   "metadata": {},
   "outputs": [
    {
     "data": {
      "text/plain": [
       "{'ResponseMetadata': {'RequestId': '8b18b55e-b0f3-409d-a6a5-dbde18a028b4',\n",
       "  'HTTPStatusCode': 200,\n",
       "  'HTTPHeaders': {'date': 'Fri, 11 Mar 2022 15:54:57 GMT',\n",
       "   'content-type': 'application/json',\n",
       "   'content-length': '2',\n",
       "   'connection': 'keep-alive',\n",
       "   'x-amzn-requestid': '8b18b55e-b0f3-409d-a6a5-dbde18a028b4'},\n",
       "  'RetryAttempts': 0},\n",
       " 'ContactListName': None,\n",
       " 'EmailAddress': None,\n",
       " 'TopicDefaultPreferences': None,\n",
       " 'AttributesData': None,\n",
       " 'TopicPreferences': None,\n",
       " 'UnsubscribeAll': None,\n",
       " 'CreatedTimestamp': None,\n",
       " 'LastUpdatedTimestamp': None}"
      ]
     },
     "execution_count": 55,
     "metadata": {},
     "output_type": "execute_result"
    }
   ],
   "source": [
    "r.json()"
   ]
  },
  {
   "cell_type": "code",
   "execution_count": 74,
   "id": "a6e31d8a-666d-4630-81d4-955283363502",
   "metadata": {},
   "outputs": [],
   "source": [
    "r = requests.delete(\n",
    "                TestContact.endpoint,\n",
    "                data={\n",
    "                    **DATA,\n",
    "                },\n",
    "            )"
   ]
  },
  {
   "cell_type": "code",
   "execution_count": 75,
   "id": "a433a67d-7528-4847-9791-d0ff1e23d178",
   "metadata": {},
   "outputs": [
    {
     "data": {
      "text/plain": [
       "<Response [200]>"
      ]
     },
     "execution_count": 75,
     "metadata": {},
     "output_type": "execute_result"
    }
   ],
   "source": [
    "r"
   ]
  },
  {
   "cell_type": "code",
   "execution_count": 71,
   "id": "93fe4d21-4e87-4019-b221-347c27513ae2",
   "metadata": {},
   "outputs": [],
   "source": [
    "r = requests.get(TestContact.endpoint, params=DATA)"
   ]
  },
  {
   "cell_type": "code",
   "execution_count": 72,
   "id": "5c5cf7d8-a908-48f2-96c2-440f494de1df",
   "metadata": {},
   "outputs": [
    {
     "data": {
      "text/plain": [
       "{'ResponseMetadata': {'RequestId': 'f148ac16-6479-4594-92e3-8b03e0d529c4',\n",
       "  'HTTPStatusCode': 200,\n",
       "  'HTTPHeaders': {'date': 'Fri, 11 Mar 2022 15:57:30 GMT',\n",
       "   'content-type': 'application/x-amz-json-1.1',\n",
       "   'content-length': '561',\n",
       "   'connection': 'keep-alive',\n",
       "   'x-amzn-requestid': 'f148ac16-6479-4594-92e3-8b03e0d529c4'},\n",
       "  'RetryAttempts': 0},\n",
       " 'ContactListName': 'engi-newsletter',\n",
       " 'EmailAddress': 'christopherkelly@engi.network',\n",
       " 'TopicDefaultPreferences': None,\n",
       " 'AttributesData': None,\n",
       " 'TopicPreferences': [{'TopicName': 'engi-investor',\n",
       "   'SubscriptionStatus': 'OPT_IN'},\n",
       "  {'TopicName': 'engi-newsletter', 'SubscriptionStatus': 'OPT_IN'},\n",
       "  {'TopicName': 'engi-programmer', 'SubscriptionStatus': 'OPT_IN'},\n",
       "  {'TopicName': 'engi-curious', 'SubscriptionStatus': 'OPT_OUT'},\n",
       "  {'TopicName': 'engi-business', 'SubscriptionStatus': 'OPT_IN'}],\n",
       " 'UnsubscribeAll': False,\n",
       " 'CreatedTimestamp': '2022-03-11T07:54:57.078000-08:00',\n",
       " 'LastUpdatedTimestamp': '2022-03-11T07:57:18.069000-08:00'}"
      ]
     },
     "execution_count": 72,
     "metadata": {},
     "output_type": "execute_result"
    }
   ],
   "source": [
    "meta = r.json(); meta"
   ]
  },
  {
   "cell_type": "code",
   "execution_count": 73,
   "id": "956190aa-79a4-4ed3-8c54-9e8a24814647",
   "metadata": {},
   "outputs": [
    {
     "data": {
      "text/plain": [
       "{'engi-investor': 'OPT_IN',\n",
       " 'engi-newsletter': 'OPT_IN',\n",
       " 'engi-programmer': 'OPT_IN',\n",
       " 'engi-curious': 'OPT_OUT',\n",
       " 'engi-business': 'OPT_IN'}"
      ]
     },
     "execution_count": 73,
     "metadata": {},
     "output_type": "execute_result"
    }
   ],
   "source": [
    "dict([(d[\"TopicName\"], d[\"SubscriptionStatus\"]) for d in meta[\"TopicPreferences\"]])"
   ]
  },
  {
   "cell_type": "code",
   "execution_count": 68,
   "id": "dab537ab-19f6-4df7-846b-a022a9d01fb5",
   "metadata": {},
   "outputs": [],
   "source": [
    "r = requests.put(\n",
    "                TestContact.endpoint,\n",
    "                data={\n",
    "                    **DATA,\n",
    "                    \"topics_unsubscribe\": TOPICS[-1],\n",
    "                },\n",
    "            )"
   ]
  },
  {
   "cell_type": "code",
   "execution_count": 69,
   "id": "4bc80b73-6bb9-42aa-bbce-cd1d0a27c6ff",
   "metadata": {},
   "outputs": [
    {
     "data": {
      "text/plain": [
       "{'ResponseMetadata': {'RequestId': 'b94e6dce-5700-41ca-bf77-069cc96630ba',\n",
       "  'HTTPStatusCode': 200,\n",
       "  'HTTPHeaders': {'date': 'Fri, 11 Mar 2022 15:57:18 GMT',\n",
       "   'content-type': 'application/json',\n",
       "   'content-length': '2',\n",
       "   'connection': 'keep-alive',\n",
       "   'x-amzn-requestid': 'b94e6dce-5700-41ca-bf77-069cc96630ba'},\n",
       "  'RetryAttempts': 0},\n",
       " 'ContactListName': None,\n",
       " 'EmailAddress': None,\n",
       " 'TopicDefaultPreferences': None,\n",
       " 'AttributesData': None,\n",
       " 'TopicPreferences': None,\n",
       " 'UnsubscribeAll': None,\n",
       " 'CreatedTimestamp': None,\n",
       " 'LastUpdatedTimestamp': None}"
      ]
     },
     "execution_count": 69,
     "metadata": {},
     "output_type": "execute_result"
    }
   ],
   "source": [
    "meta = r.json(); meta"
   ]
  },
  {
   "cell_type": "code",
   "execution_count": 31,
   "id": "8a3b2bd8-147a-4e09-9ed6-1237666662cd",
   "metadata": {},
   "outputs": [
    {
     "ename": "TypeError",
     "evalue": "'NoneType' object is not iterable",
     "output_type": "error",
     "traceback": [
      "\u001b[0;31m---------------------------------------------------------------------------\u001b[0m",
      "\u001b[0;31mTypeError\u001b[0m                                 Traceback (most recent call last)",
      "Input \u001b[0;32mIn [31]\u001b[0m, in \u001b[0;36m<cell line: 1>\u001b[0;34m()\u001b[0m\n\u001b[0;32m----> 1\u001b[0m [d[\u001b[38;5;124m\"\u001b[39m\u001b[38;5;124mTopicName\u001b[39m\u001b[38;5;124m\"\u001b[39m] \u001b[38;5;28;01mfor\u001b[39;00m d \u001b[38;5;129;01min\u001b[39;00m meta[\u001b[38;5;124m\"\u001b[39m\u001b[38;5;124mTopicPreferences\u001b[39m\u001b[38;5;124m\"\u001b[39m]]\n",
      "\u001b[0;31mTypeError\u001b[0m: 'NoneType' object is not iterable"
     ]
    }
   ],
   "source": [
    "[d[\"TopicName\"] for d in meta[\"TopicPreferences\"]]"
   ]
  },
  {
   "cell_type": "code",
   "execution_count": 17,
   "id": "fd64dc8e-7238-4872-a858-d5f86c2a7d56",
   "metadata": {},
   "outputs": [],
   "source": [
    "data = DATA.copy()\n",
    "email = \"{}@engi.network\"\n",
    "\n",
    "for i in range(20):\n",
    "    data[\"email\"] = email.format(i)\n",
    "    requests.post(TestContact.endpoint, data={\n",
    "                    **data,\n",
    "                    \"topics\": TOPICS,\n",
    "                    \"attributes\": ATTRS,\n",
    "                })"
   ]
  },
  {
   "cell_type": "code",
   "execution_count": 6,
   "id": "74be026d-05d9-48cf-a760-63ca6581f9ff",
   "metadata": {},
   "outputs": [],
   "source": [
    "%run ../send.py"
   ]
  },
  {
   "cell_type": "code",
   "execution_count": 3,
   "id": "be82413b-4ca2-4870-92d9-1c19009a346c",
   "metadata": {},
   "outputs": [],
   "source": [
    "args = {\n",
    "    \"contact_list_name\": \"engi-newsletter\",\n",
    "    \"template_name\": \"engi-newsletter-welcome-template\",\n",
    "    \"from_email\": \"g@engi.network\",\n",
    "    \"default_attributes\": '{\"name\": \"friend\", \"favoriteanimal\": \"elephant\"}',\n",
    "    \"topic\": \"engi-newsletter\",\n",
    "}"
   ]
  },
  {
   "cell_type": "code",
   "execution_count": 4,
   "id": "603c5537-8cc3-4f79-a2a7-32cd7b16bfa9",
   "metadata": {},
   "outputs": [
    {
     "data": {
      "text/plain": [
       "<botocore.client.SESV2 at 0x1103c1580>"
      ]
     },
     "execution_count": 4,
     "metadata": {},
     "output_type": "execute_result"
    }
   ],
   "source": []
  },
  {
   "cell_type": "code",
   "execution_count": null,
   "id": "f2a08f69-da22-431b-96ed-0cae0bc590e4",
   "metadata": {},
   "outputs": [],
   "source": [
    "list(list_contacts(ses_client, args[\"contact_list_name\"], args[\"topic\"]))"
   ]
  },
  {
   "cell_type": "code",
   "execution_count": 8,
   "id": "db78c16d-a416-498a-8eed-c8df4ba21909",
   "metadata": {},
   "outputs": [],
   "source": [
    "from kombu.utils.url import safequote"
   ]
  },
  {
   "cell_type": "code",
   "execution_count": 9,
   "id": "76e5e61b-dbba-4d43-ac99-9a713d7dd8c5",
   "metadata": {},
   "outputs": [],
   "source": [
    "%run ../tasks.py"
   ]
  },
  {
   "cell_type": "code",
   "execution_count": 10,
   "id": "0ce6f2d9-7f50-47b2-b0bb-130a63a732fb",
   "metadata": {},
   "outputs": [],
   "source": [
    "r = add.delay(2, 2)"
   ]
  },
  {
   "cell_type": "code",
   "execution_count": 11,
   "id": "dd2dcae3-6d31-4be9-93a4-c00d756470d3",
   "metadata": {},
   "outputs": [
    {
     "data": {
      "text/plain": [
       "<AsyncResult: f5f1736f-1d2d-4151-9624-3f226b50ec0f>"
      ]
     },
     "execution_count": 11,
     "metadata": {},
     "output_type": "execute_result"
    }
   ],
   "source": [
    "r"
   ]
  },
  {
   "cell_type": "code",
   "execution_count": null,
   "id": "06eb5234-ee89-42d0-bce1-9247d602e4c8",
   "metadata": {},
   "outputs": [],
   "source": []
  }
 ],
 "metadata": {
  "kernelspec": {
   "display_name": "Python 3 (ipykernel)",
   "language": "python",
   "name": "python3"
  },
  "language_info": {
   "codemirror_mode": {
    "name": "ipython",
    "version": 3
   },
   "file_extension": ".py",
   "mimetype": "text/x-python",
   "name": "python",
   "nbconvert_exporter": "python",
   "pygments_lexer": "ipython3",
   "version": "3.9.9"
  }
 },
 "nbformat": 4,
 "nbformat_minor": 5
}
