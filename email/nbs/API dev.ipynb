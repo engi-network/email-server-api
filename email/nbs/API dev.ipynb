{
 "cells": [
  {
   "cell_type": "code",
   "execution_count": 13,
   "id": "bc03d664-011f-4b81-9cef-90f731e6905c",
   "metadata": {},
   "outputs": [],
   "source": [
    "%run ../test/test_email_server.py"
   ]
  },
  {
   "cell_type": "code",
   "execution_count": 14,
   "id": "6f03bd63-2a09-4627-8e17-a4a0fe1a214a",
   "metadata": {},
   "outputs": [
    {
     "data": {
      "text/plain": [
       "'http://127.0.0.1:5000/contact'"
      ]
     },
     "execution_count": 14,
     "metadata": {},
     "output_type": "execute_result"
    }
   ],
   "source": [
    "TestContact.endpoint"
   ]
  },
  {
   "cell_type": "code",
   "execution_count": 15,
   "id": "cc924544-4976-4bba-8bd0-2722e1ff1c68",
   "metadata": {},
   "outputs": [
    {
     "data": {
      "text/plain": [
       "'http://127.0.0.1:5000'"
      ]
     },
     "execution_count": 15,
     "metadata": {},
     "output_type": "execute_result"
    }
   ],
   "source": [
    "URL"
   ]
  },
  {
   "cell_type": "code",
   "execution_count": 19,
   "id": "4e5fba25-3ce0-42b0-93ca-d0b47c0dc28a",
   "metadata": {},
   "outputs": [
    {
     "data": {
      "text/plain": [
       "<Response [200]>"
      ]
     },
     "execution_count": 19,
     "metadata": {},
     "output_type": "execute_result"
    }
   ],
   "source": [
    "requests.get(f\"{URL}/add\")"
   ]
  },
  {
   "cell_type": "code",
   "execution_count": 17,
   "id": "fd64dc8e-7238-4872-a858-d5f86c2a7d56",
   "metadata": {},
   "outputs": [],
   "source": [
    "data = DATA.copy()\n",
    "email = \"{}@engi.network\"\n",
    "\n",
    "for i in range(20):\n",
    "    data[\"email\"] = email.format(i)\n",
    "    requests.post(TestContact.endpoint, data={\n",
    "                    **data,\n",
    "                    \"topics\": TOPICS,\n",
    "                    \"attributes\": ATTRS,\n",
    "                })"
   ]
  },
  {
   "cell_type": "code",
   "execution_count": 6,
   "id": "74be026d-05d9-48cf-a760-63ca6581f9ff",
   "metadata": {},
   "outputs": [],
   "source": [
    "%run ../send.py"
   ]
  },
  {
   "cell_type": "code",
   "execution_count": 3,
   "id": "be82413b-4ca2-4870-92d9-1c19009a346c",
   "metadata": {},
   "outputs": [],
   "source": [
    "args = {\n",
    "    \"contact_list_name\": \"engi-newsletter\",\n",
    "    \"template_name\": \"engi-newsletter-welcome-template\",\n",
    "    \"from_email\": \"g@engi.network\",\n",
    "    \"default_attributes\": '{\"name\": \"friend\", \"favoriteanimal\": \"elephant\"}',\n",
    "    \"topic\": \"engi-newsletter\",\n",
    "}"
   ]
  },
  {
   "cell_type": "code",
   "execution_count": 4,
   "id": "603c5537-8cc3-4f79-a2a7-32cd7b16bfa9",
   "metadata": {},
   "outputs": [
    {
     "data": {
      "text/plain": [
       "<botocore.client.SESV2 at 0x1103c1580>"
      ]
     },
     "execution_count": 4,
     "metadata": {},
     "output_type": "execute_result"
    }
   ],
   "source": []
  },
  {
   "cell_type": "code",
   "execution_count": null,
   "id": "f2a08f69-da22-431b-96ed-0cae0bc590e4",
   "metadata": {},
   "outputs": [],
   "source": [
    "list(list_contacts(ses_client, args[\"contact_list_name\"], args[\"topic\"]))"
   ]
  },
  {
   "cell_type": "code",
   "execution_count": 8,
   "id": "db78c16d-a416-498a-8eed-c8df4ba21909",
   "metadata": {},
   "outputs": [],
   "source": [
    "from kombu.utils.url import safequote"
   ]
  },
  {
   "cell_type": "code",
   "execution_count": 9,
   "id": "76e5e61b-dbba-4d43-ac99-9a713d7dd8c5",
   "metadata": {},
   "outputs": [],
   "source": [
    "%run ../tasks.py"
   ]
  },
  {
   "cell_type": "code",
   "execution_count": 10,
   "id": "0ce6f2d9-7f50-47b2-b0bb-130a63a732fb",
   "metadata": {},
   "outputs": [],
   "source": [
    "r = add.delay(2, 2)"
   ]
  },
  {
   "cell_type": "code",
   "execution_count": 11,
   "id": "dd2dcae3-6d31-4be9-93a4-c00d756470d3",
   "metadata": {},
   "outputs": [
    {
     "data": {
      "text/plain": [
       "<AsyncResult: f5f1736f-1d2d-4151-9624-3f226b50ec0f>"
      ]
     },
     "execution_count": 11,
     "metadata": {},
     "output_type": "execute_result"
    }
   ],
   "source": [
    "r"
   ]
  },
  {
   "cell_type": "code",
   "execution_count": null,
   "id": "06eb5234-ee89-42d0-bce1-9247d602e4c8",
   "metadata": {},
   "outputs": [],
   "source": []
  }
 ],
 "metadata": {
  "kernelspec": {
   "display_name": "Python 3 (ipykernel)",
   "language": "python",
   "name": "python3"
  },
  "language_info": {
   "codemirror_mode": {
    "name": "ipython",
    "version": 3
   },
   "file_extension": ".py",
   "mimetype": "text/x-python",
   "name": "python",
   "nbconvert_exporter": "python",
   "pygments_lexer": "ipython3",
   "version": "3.9.9"
  }
 },
 "nbformat": 4,
 "nbformat_minor": 5
}
