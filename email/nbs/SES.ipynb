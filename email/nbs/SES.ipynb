{
 "cells": [
  {
   "cell_type": "code",
   "execution_count": 1,
   "id": "b6aae82a",
   "metadata": {},
   "outputs": [],
   "source": [
    "import boto3"
   ]
  },
  {
   "cell_type": "code",
   "execution_count": 2,
   "id": "9d7b7060-82e4-43fe-9ebf-0546d6cf9e5e",
   "metadata": {},
   "outputs": [],
   "source": [
    "email = \"christopherkelly@engi.network\""
   ]
  },
  {
   "cell_type": "code",
   "execution_count": 10,
   "id": "ac9c4a56-ee66-444b-a821-e9918bf73d26",
   "metadata": {},
   "outputs": [],
   "source": [
    "contact_list = \"engi-newsletter\"\n",
    "template_name = \"engi-newsletter-welcome-template\""
   ]
  },
  {
   "cell_type": "markdown",
   "id": "3a1add70",
   "metadata": {
    "tags": []
   },
   "source": [
    "### Session Management"
   ]
  },
  {
   "cell_type": "markdown",
   "id": "2646d0ce-88f7-4200-b0f8-f4b46e0165a1",
   "metadata": {
    "jp-MarkdownHeadingCollapsed": true,
    "tags": []
   },
   "source": [
    "#### Profile"
   ]
  },
  {
   "cell_type": "code",
   "execution_count": 11,
   "id": "5d81642d",
   "metadata": {},
   "outputs": [],
   "source": [
    "session = boto3.session.Session(profile_name=\"163803973373_SystemAdministrator\")"
   ]
  },
  {
   "cell_type": "code",
   "execution_count": 12,
   "id": "39a49d84",
   "metadata": {},
   "outputs": [
    {
     "data": {
      "text/plain": [
       "'163803973373_SystemAdministrator'"
      ]
     },
     "execution_count": 12,
     "metadata": {},
     "output_type": "execute_result"
    }
   ],
   "source": [
    "session.profile_name"
   ]
  },
  {
   "cell_type": "code",
   "execution_count": 13,
   "id": "88b65266",
   "metadata": {},
   "outputs": [
    {
     "data": {
      "text/plain": [
       "['cloudformation',\n",
       " 'cloudwatch',\n",
       " 'dynamodb',\n",
       " 'ec2',\n",
       " 'glacier',\n",
       " 'iam',\n",
       " 'opsworks',\n",
       " 's3',\n",
       " 'sns',\n",
       " 'sqs']"
      ]
     },
     "execution_count": 13,
     "metadata": {},
     "output_type": "execute_result"
    }
   ],
   "source": [
    "session.get_available_resources()"
   ]
  },
  {
   "cell_type": "code",
   "execution_count": 10,
   "id": "15bd3d27",
   "metadata": {},
   "outputs": [
    {
     "ename": "NoRegionError",
     "evalue": "You must specify a region.",
     "output_type": "error",
     "traceback": [
      "\u001b[0;31m---------------------------------------------------------------------------\u001b[0m",
      "\u001b[0;31mNoRegionError\u001b[0m                             Traceback (most recent call last)",
      "Input \u001b[0;32mIn [10]\u001b[0m, in \u001b[0;36m<cell line: 1>\u001b[0;34m()\u001b[0m\n\u001b[0;32m----> 1\u001b[0m \u001b[43msession\u001b[49m\u001b[38;5;241;43m.\u001b[39;49m\u001b[43mclient\u001b[49m\u001b[43m(\u001b[49m\u001b[38;5;124;43m\"\u001b[39;49m\u001b[38;5;124;43mses\u001b[39;49m\u001b[38;5;124;43m\"\u001b[39;49m\u001b[43m)\u001b[49m\n",
      "File \u001b[0;32m~/.local/share/virtualenvs/server-HR28Vc4A/lib/python3.9/site-packages/boto3/session.py:294\u001b[0m, in \u001b[0;36mSession.client\u001b[0;34m(self, service_name, region_name, api_version, use_ssl, verify, endpoint_url, aws_access_key_id, aws_secret_access_key, aws_session_token, config)\u001b[0m\n\u001b[1;32m    212\u001b[0m \u001b[38;5;28;01mdef\u001b[39;00m \u001b[38;5;21mclient\u001b[39m(\n\u001b[1;32m    213\u001b[0m     \u001b[38;5;28mself\u001b[39m,\n\u001b[1;32m    214\u001b[0m     service_name,\n\u001b[0;32m   (...)\u001b[0m\n\u001b[1;32m    223\u001b[0m     config\u001b[38;5;241m=\u001b[39m\u001b[38;5;28;01mNone\u001b[39;00m,\n\u001b[1;32m    224\u001b[0m ):\n\u001b[1;32m    225\u001b[0m     \u001b[38;5;124;03m\"\"\"\u001b[39;00m\n\u001b[1;32m    226\u001b[0m \u001b[38;5;124;03m    Create a low-level service client by name.\u001b[39;00m\n\u001b[1;32m    227\u001b[0m \n\u001b[0;32m   (...)\u001b[0m\n\u001b[1;32m    292\u001b[0m \n\u001b[1;32m    293\u001b[0m \u001b[38;5;124;03m    \"\"\"\u001b[39;00m\n\u001b[0;32m--> 294\u001b[0m     \u001b[38;5;28;01mreturn\u001b[39;00m \u001b[38;5;28;43mself\u001b[39;49m\u001b[38;5;241;43m.\u001b[39;49m\u001b[43m_session\u001b[49m\u001b[38;5;241;43m.\u001b[39;49m\u001b[43mcreate_client\u001b[49m\u001b[43m(\u001b[49m\n\u001b[1;32m    295\u001b[0m \u001b[43m        \u001b[49m\u001b[43mservice_name\u001b[49m\u001b[43m,\u001b[49m\n\u001b[1;32m    296\u001b[0m \u001b[43m        \u001b[49m\u001b[43mregion_name\u001b[49m\u001b[38;5;241;43m=\u001b[39;49m\u001b[43mregion_name\u001b[49m\u001b[43m,\u001b[49m\n\u001b[1;32m    297\u001b[0m \u001b[43m        \u001b[49m\u001b[43mapi_version\u001b[49m\u001b[38;5;241;43m=\u001b[39;49m\u001b[43mapi_version\u001b[49m\u001b[43m,\u001b[49m\n\u001b[1;32m    298\u001b[0m \u001b[43m        \u001b[49m\u001b[43muse_ssl\u001b[49m\u001b[38;5;241;43m=\u001b[39;49m\u001b[43muse_ssl\u001b[49m\u001b[43m,\u001b[49m\n\u001b[1;32m    299\u001b[0m \u001b[43m        \u001b[49m\u001b[43mverify\u001b[49m\u001b[38;5;241;43m=\u001b[39;49m\u001b[43mverify\u001b[49m\u001b[43m,\u001b[49m\n\u001b[1;32m    300\u001b[0m \u001b[43m        \u001b[49m\u001b[43mendpoint_url\u001b[49m\u001b[38;5;241;43m=\u001b[39;49m\u001b[43mendpoint_url\u001b[49m\u001b[43m,\u001b[49m\n\u001b[1;32m    301\u001b[0m \u001b[43m        \u001b[49m\u001b[43maws_access_key_id\u001b[49m\u001b[38;5;241;43m=\u001b[39;49m\u001b[43maws_access_key_id\u001b[49m\u001b[43m,\u001b[49m\n\u001b[1;32m    302\u001b[0m \u001b[43m        \u001b[49m\u001b[43maws_secret_access_key\u001b[49m\u001b[38;5;241;43m=\u001b[39;49m\u001b[43maws_secret_access_key\u001b[49m\u001b[43m,\u001b[49m\n\u001b[1;32m    303\u001b[0m \u001b[43m        \u001b[49m\u001b[43maws_session_token\u001b[49m\u001b[38;5;241;43m=\u001b[39;49m\u001b[43maws_session_token\u001b[49m\u001b[43m,\u001b[49m\n\u001b[1;32m    304\u001b[0m \u001b[43m        \u001b[49m\u001b[43mconfig\u001b[49m\u001b[38;5;241;43m=\u001b[39;49m\u001b[43mconfig\u001b[49m\u001b[43m,\u001b[49m\n\u001b[1;32m    305\u001b[0m \u001b[43m    \u001b[49m\u001b[43m)\u001b[49m\n",
      "File \u001b[0;32m~/.local/share/virtualenvs/server-HR28Vc4A/lib/python3.9/site-packages/botocore/session.py:870\u001b[0m, in \u001b[0;36mSession.create_client\u001b[0;34m(self, service_name, region_name, api_version, use_ssl, verify, endpoint_url, aws_access_key_id, aws_secret_access_key, aws_session_token, config)\u001b[0m\n\u001b[1;32m    864\u001b[0m     smart_defaults_factory\u001b[38;5;241m.\u001b[39mmerge_smart_defaults(\n\u001b[1;32m    865\u001b[0m         config_store, defaults_mode, region_name)\n\u001b[1;32m    866\u001b[0m client_creator \u001b[38;5;241m=\u001b[39m botocore\u001b[38;5;241m.\u001b[39mclient\u001b[38;5;241m.\u001b[39mClientCreator(\n\u001b[1;32m    867\u001b[0m     loader, endpoint_resolver, \u001b[38;5;28mself\u001b[39m\u001b[38;5;241m.\u001b[39muser_agent(), event_emitter,\n\u001b[1;32m    868\u001b[0m     retryhandler, translate, response_parser_factory,\n\u001b[1;32m    869\u001b[0m     exceptions_factory, config_store)\n\u001b[0;32m--> 870\u001b[0m client \u001b[38;5;241m=\u001b[39m \u001b[43mclient_creator\u001b[49m\u001b[38;5;241;43m.\u001b[39;49m\u001b[43mcreate_client\u001b[49m\u001b[43m(\u001b[49m\n\u001b[1;32m    871\u001b[0m \u001b[43m    \u001b[49m\u001b[43mservice_name\u001b[49m\u001b[38;5;241;43m=\u001b[39;49m\u001b[43mservice_name\u001b[49m\u001b[43m,\u001b[49m\u001b[43m \u001b[49m\u001b[43mregion_name\u001b[49m\u001b[38;5;241;43m=\u001b[39;49m\u001b[43mregion_name\u001b[49m\u001b[43m,\u001b[49m\n\u001b[1;32m    872\u001b[0m \u001b[43m    \u001b[49m\u001b[43mis_secure\u001b[49m\u001b[38;5;241;43m=\u001b[39;49m\u001b[43muse_ssl\u001b[49m\u001b[43m,\u001b[49m\u001b[43m \u001b[49m\u001b[43mendpoint_url\u001b[49m\u001b[38;5;241;43m=\u001b[39;49m\u001b[43mendpoint_url\u001b[49m\u001b[43m,\u001b[49m\u001b[43m \u001b[49m\u001b[43mverify\u001b[49m\u001b[38;5;241;43m=\u001b[39;49m\u001b[43mverify\u001b[49m\u001b[43m,\u001b[49m\n\u001b[1;32m    873\u001b[0m \u001b[43m    \u001b[49m\u001b[43mcredentials\u001b[49m\u001b[38;5;241;43m=\u001b[39;49m\u001b[43mcredentials\u001b[49m\u001b[43m,\u001b[49m\u001b[43m \u001b[49m\u001b[43mscoped_config\u001b[49m\u001b[38;5;241;43m=\u001b[39;49m\u001b[38;5;28;43mself\u001b[39;49m\u001b[38;5;241;43m.\u001b[39;49m\u001b[43mget_scoped_config\u001b[49m\u001b[43m(\u001b[49m\u001b[43m)\u001b[49m\u001b[43m,\u001b[49m\n\u001b[1;32m    874\u001b[0m \u001b[43m    \u001b[49m\u001b[43mclient_config\u001b[49m\u001b[38;5;241;43m=\u001b[39;49m\u001b[43mconfig\u001b[49m\u001b[43m,\u001b[49m\u001b[43m \u001b[49m\u001b[43mapi_version\u001b[49m\u001b[38;5;241;43m=\u001b[39;49m\u001b[43mapi_version\u001b[49m\u001b[43m)\u001b[49m\n\u001b[1;32m    875\u001b[0m monitor \u001b[38;5;241m=\u001b[39m \u001b[38;5;28mself\u001b[39m\u001b[38;5;241m.\u001b[39m_get_internal_component(\u001b[38;5;124m'\u001b[39m\u001b[38;5;124mmonitor\u001b[39m\u001b[38;5;124m'\u001b[39m)\n\u001b[1;32m    876\u001b[0m \u001b[38;5;28;01mif\u001b[39;00m monitor \u001b[38;5;129;01mis\u001b[39;00m \u001b[38;5;129;01mnot\u001b[39;00m \u001b[38;5;28;01mNone\u001b[39;00m:\n",
      "File \u001b[0;32m~/.local/share/virtualenvs/server-HR28Vc4A/lib/python3.9/site-packages/botocore/client.py:95\u001b[0m, in \u001b[0;36mClientCreator.create_client\u001b[0;34m(self, service_name, region_name, is_secure, endpoint_url, verify, credentials, scoped_config, api_version, client_config)\u001b[0m\n\u001b[1;32m     89\u001b[0m region_name, client_config \u001b[38;5;241m=\u001b[39m \u001b[38;5;28mself\u001b[39m\u001b[38;5;241m.\u001b[39m_normalize_fips_region(\n\u001b[1;32m     90\u001b[0m     region_name, client_config)\n\u001b[1;32m     91\u001b[0m endpoint_bridge \u001b[38;5;241m=\u001b[39m ClientEndpointBridge(\n\u001b[1;32m     92\u001b[0m     \u001b[38;5;28mself\u001b[39m\u001b[38;5;241m.\u001b[39m_endpoint_resolver, scoped_config, client_config,\n\u001b[1;32m     93\u001b[0m     service_signing_name\u001b[38;5;241m=\u001b[39mservice_model\u001b[38;5;241m.\u001b[39mmetadata\u001b[38;5;241m.\u001b[39mget(\u001b[38;5;124m'\u001b[39m\u001b[38;5;124msigningName\u001b[39m\u001b[38;5;124m'\u001b[39m),\n\u001b[1;32m     94\u001b[0m     config_store\u001b[38;5;241m=\u001b[39m\u001b[38;5;28mself\u001b[39m\u001b[38;5;241m.\u001b[39m_config_store)\n\u001b[0;32m---> 95\u001b[0m client_args \u001b[38;5;241m=\u001b[39m \u001b[38;5;28;43mself\u001b[39;49m\u001b[38;5;241;43m.\u001b[39;49m\u001b[43m_get_client_args\u001b[49m\u001b[43m(\u001b[49m\n\u001b[1;32m     96\u001b[0m \u001b[43m    \u001b[49m\u001b[43mservice_model\u001b[49m\u001b[43m,\u001b[49m\u001b[43m \u001b[49m\u001b[43mregion_name\u001b[49m\u001b[43m,\u001b[49m\u001b[43m \u001b[49m\u001b[43mis_secure\u001b[49m\u001b[43m,\u001b[49m\u001b[43m \u001b[49m\u001b[43mendpoint_url\u001b[49m\u001b[43m,\u001b[49m\n\u001b[1;32m     97\u001b[0m \u001b[43m    \u001b[49m\u001b[43mverify\u001b[49m\u001b[43m,\u001b[49m\u001b[43m \u001b[49m\u001b[43mcredentials\u001b[49m\u001b[43m,\u001b[49m\u001b[43m \u001b[49m\u001b[43mscoped_config\u001b[49m\u001b[43m,\u001b[49m\u001b[43m \u001b[49m\u001b[43mclient_config\u001b[49m\u001b[43m,\u001b[49m\u001b[43m \u001b[49m\u001b[43mendpoint_bridge\u001b[49m\u001b[43m)\u001b[49m\n\u001b[1;32m     98\u001b[0m service_client \u001b[38;5;241m=\u001b[39m \u001b[38;5;28mcls\u001b[39m(\u001b[38;5;241m*\u001b[39m\u001b[38;5;241m*\u001b[39mclient_args)\n\u001b[1;32m     99\u001b[0m \u001b[38;5;28mself\u001b[39m\u001b[38;5;241m.\u001b[39m_register_retries(service_client)\n",
      "File \u001b[0;32m~/.local/share/virtualenvs/server-HR28Vc4A/lib/python3.9/site-packages/botocore/client.py:364\u001b[0m, in \u001b[0;36mClientCreator._get_client_args\u001b[0;34m(self, service_model, region_name, is_secure, endpoint_url, verify, credentials, scoped_config, client_config, endpoint_bridge)\u001b[0m\n\u001b[1;32m    357\u001b[0m \u001b[38;5;28;01mdef\u001b[39;00m \u001b[38;5;21m_get_client_args\u001b[39m(\u001b[38;5;28mself\u001b[39m, service_model, region_name, is_secure,\n\u001b[1;32m    358\u001b[0m                      endpoint_url, verify, credentials,\n\u001b[1;32m    359\u001b[0m                      scoped_config, client_config, endpoint_bridge):\n\u001b[1;32m    360\u001b[0m     args_creator \u001b[38;5;241m=\u001b[39m ClientArgsCreator(\n\u001b[1;32m    361\u001b[0m         \u001b[38;5;28mself\u001b[39m\u001b[38;5;241m.\u001b[39m_event_emitter, \u001b[38;5;28mself\u001b[39m\u001b[38;5;241m.\u001b[39m_user_agent,\n\u001b[1;32m    362\u001b[0m         \u001b[38;5;28mself\u001b[39m\u001b[38;5;241m.\u001b[39m_response_parser_factory, \u001b[38;5;28mself\u001b[39m\u001b[38;5;241m.\u001b[39m_loader,\n\u001b[1;32m    363\u001b[0m         \u001b[38;5;28mself\u001b[39m\u001b[38;5;241m.\u001b[39m_exceptions_factory, config_store\u001b[38;5;241m=\u001b[39m\u001b[38;5;28mself\u001b[39m\u001b[38;5;241m.\u001b[39m_config_store)\n\u001b[0;32m--> 364\u001b[0m     \u001b[38;5;28;01mreturn\u001b[39;00m \u001b[43margs_creator\u001b[49m\u001b[38;5;241;43m.\u001b[39;49m\u001b[43mget_client_args\u001b[49m\u001b[43m(\u001b[49m\n\u001b[1;32m    365\u001b[0m \u001b[43m        \u001b[49m\u001b[43mservice_model\u001b[49m\u001b[43m,\u001b[49m\u001b[43m \u001b[49m\u001b[43mregion_name\u001b[49m\u001b[43m,\u001b[49m\u001b[43m \u001b[49m\u001b[43mis_secure\u001b[49m\u001b[43m,\u001b[49m\u001b[43m \u001b[49m\u001b[43mendpoint_url\u001b[49m\u001b[43m,\u001b[49m\n\u001b[1;32m    366\u001b[0m \u001b[43m        \u001b[49m\u001b[43mverify\u001b[49m\u001b[43m,\u001b[49m\u001b[43m \u001b[49m\u001b[43mcredentials\u001b[49m\u001b[43m,\u001b[49m\u001b[43m \u001b[49m\u001b[43mscoped_config\u001b[49m\u001b[43m,\u001b[49m\u001b[43m \u001b[49m\u001b[43mclient_config\u001b[49m\u001b[43m,\u001b[49m\u001b[43m \u001b[49m\u001b[43mendpoint_bridge\u001b[49m\u001b[43m)\u001b[49m\n",
      "File \u001b[0;32m~/.local/share/virtualenvs/server-HR28Vc4A/lib/python3.9/site-packages/botocore/args.py:72\u001b[0m, in \u001b[0;36mClientArgsCreator.get_client_args\u001b[0;34m(self, service_model, region_name, is_secure, endpoint_url, verify, credentials, scoped_config, client_config, endpoint_bridge)\u001b[0m\n\u001b[1;32m     69\u001b[0m \u001b[38;5;28;01mdef\u001b[39;00m \u001b[38;5;21mget_client_args\u001b[39m(\u001b[38;5;28mself\u001b[39m, service_model, region_name, is_secure,\n\u001b[1;32m     70\u001b[0m                     endpoint_url, verify, credentials, scoped_config,\n\u001b[1;32m     71\u001b[0m                     client_config, endpoint_bridge):\n\u001b[0;32m---> 72\u001b[0m     final_args \u001b[38;5;241m=\u001b[39m \u001b[38;5;28;43mself\u001b[39;49m\u001b[38;5;241;43m.\u001b[39;49m\u001b[43mcompute_client_args\u001b[49m\u001b[43m(\u001b[49m\n\u001b[1;32m     73\u001b[0m \u001b[43m        \u001b[49m\u001b[43mservice_model\u001b[49m\u001b[43m,\u001b[49m\u001b[43m \u001b[49m\u001b[43mclient_config\u001b[49m\u001b[43m,\u001b[49m\u001b[43m \u001b[49m\u001b[43mendpoint_bridge\u001b[49m\u001b[43m,\u001b[49m\u001b[43m \u001b[49m\u001b[43mregion_name\u001b[49m\u001b[43m,\u001b[49m\n\u001b[1;32m     74\u001b[0m \u001b[43m        \u001b[49m\u001b[43mendpoint_url\u001b[49m\u001b[43m,\u001b[49m\u001b[43m \u001b[49m\u001b[43mis_secure\u001b[49m\u001b[43m,\u001b[49m\u001b[43m \u001b[49m\u001b[43mscoped_config\u001b[49m\u001b[43m)\u001b[49m\n\u001b[1;32m     76\u001b[0m     service_name \u001b[38;5;241m=\u001b[39m final_args[\u001b[38;5;124m'\u001b[39m\u001b[38;5;124mservice_name\u001b[39m\u001b[38;5;124m'\u001b[39m] \u001b[38;5;66;03m# noqa\u001b[39;00m\n\u001b[1;32m     77\u001b[0m     parameter_validation \u001b[38;5;241m=\u001b[39m final_args[\u001b[38;5;124m'\u001b[39m\u001b[38;5;124mparameter_validation\u001b[39m\u001b[38;5;124m'\u001b[39m]\n",
      "File \u001b[0;32m~/.local/share/virtualenvs/server-HR28Vc4A/lib/python3.9/site-packages/botocore/args.py:149\u001b[0m, in \u001b[0;36mClientArgsCreator.compute_client_args\u001b[0;34m(self, service_model, client_config, endpoint_bridge, region_name, endpoint_url, is_secure, scoped_config)\u001b[0m\n\u001b[1;32m    146\u001b[0m         user_agent \u001b[38;5;241m+\u001b[39m\u001b[38;5;241m=\u001b[39m \u001b[38;5;124m'\u001b[39m\u001b[38;5;124m \u001b[39m\u001b[38;5;132;01m%s\u001b[39;00m\u001b[38;5;124m'\u001b[39m \u001b[38;5;241m%\u001b[39m client_config\u001b[38;5;241m.\u001b[39muser_agent_extra\n\u001b[1;32m    148\u001b[0m s3_config \u001b[38;5;241m=\u001b[39m \u001b[38;5;28mself\u001b[39m\u001b[38;5;241m.\u001b[39mcompute_s3_config(client_config)\n\u001b[0;32m--> 149\u001b[0m endpoint_config \u001b[38;5;241m=\u001b[39m \u001b[38;5;28;43mself\u001b[39;49m\u001b[38;5;241;43m.\u001b[39;49m\u001b[43m_compute_endpoint_config\u001b[49m\u001b[43m(\u001b[49m\n\u001b[1;32m    150\u001b[0m \u001b[43m    \u001b[49m\u001b[43mservice_name\u001b[49m\u001b[38;5;241;43m=\u001b[39;49m\u001b[43mservice_name\u001b[49m\u001b[43m,\u001b[49m\n\u001b[1;32m    151\u001b[0m \u001b[43m    \u001b[49m\u001b[43mregion_name\u001b[49m\u001b[38;5;241;43m=\u001b[39;49m\u001b[43mregion_name\u001b[49m\u001b[43m,\u001b[49m\n\u001b[1;32m    152\u001b[0m \u001b[43m    \u001b[49m\u001b[43mendpoint_url\u001b[49m\u001b[38;5;241;43m=\u001b[39;49m\u001b[43mendpoint_url\u001b[49m\u001b[43m,\u001b[49m\n\u001b[1;32m    153\u001b[0m \u001b[43m    \u001b[49m\u001b[43mis_secure\u001b[49m\u001b[38;5;241;43m=\u001b[39;49m\u001b[43mis_secure\u001b[49m\u001b[43m,\u001b[49m\n\u001b[1;32m    154\u001b[0m \u001b[43m    \u001b[49m\u001b[43mendpoint_bridge\u001b[49m\u001b[38;5;241;43m=\u001b[39;49m\u001b[43mendpoint_bridge\u001b[49m\u001b[43m,\u001b[49m\n\u001b[1;32m    155\u001b[0m \u001b[43m    \u001b[49m\u001b[43ms3_config\u001b[49m\u001b[38;5;241;43m=\u001b[39;49m\u001b[43ms3_config\u001b[49m\u001b[43m,\u001b[49m\n\u001b[1;32m    156\u001b[0m \u001b[43m\u001b[49m\u001b[43m)\u001b[49m\n\u001b[1;32m    157\u001b[0m endpoint_variant_tags \u001b[38;5;241m=\u001b[39m endpoint_config[\u001b[38;5;124m'\u001b[39m\u001b[38;5;124mmetadata\u001b[39m\u001b[38;5;124m'\u001b[39m]\u001b[38;5;241m.\u001b[39mget(\u001b[38;5;124m'\u001b[39m\u001b[38;5;124mtags\u001b[39m\u001b[38;5;124m'\u001b[39m, [])\n\u001b[1;32m    158\u001b[0m \u001b[38;5;66;03m# Create a new client config to be passed to the client based\u001b[39;00m\n\u001b[1;32m    159\u001b[0m \u001b[38;5;66;03m# on the final values. We do not want the user to be able\u001b[39;00m\n\u001b[1;32m    160\u001b[0m \u001b[38;5;66;03m# to try to modify an existing client with a client config.\u001b[39;00m\n",
      "File \u001b[0;32m~/.local/share/virtualenvs/server-HR28Vc4A/lib/python3.9/site-packages/botocore/args.py:235\u001b[0m, in \u001b[0;36mClientArgsCreator._compute_endpoint_config\u001b[0;34m(self, service_name, region_name, endpoint_url, is_secure, endpoint_bridge, s3_config)\u001b[0m\n\u001b[1;32m    233\u001b[0m \u001b[38;5;28;01mif\u001b[39;00m service_name \u001b[38;5;241m==\u001b[39m \u001b[38;5;124m'\u001b[39m\u001b[38;5;124msts\u001b[39m\u001b[38;5;124m'\u001b[39m:\n\u001b[1;32m    234\u001b[0m     \u001b[38;5;28;01mreturn\u001b[39;00m \u001b[38;5;28mself\u001b[39m\u001b[38;5;241m.\u001b[39m_compute_sts_endpoint_config(\u001b[38;5;241m*\u001b[39m\u001b[38;5;241m*\u001b[39mresolve_endpoint_kwargs)\n\u001b[0;32m--> 235\u001b[0m \u001b[38;5;28;01mreturn\u001b[39;00m \u001b[38;5;28;43mself\u001b[39;49m\u001b[38;5;241;43m.\u001b[39;49m\u001b[43m_resolve_endpoint\u001b[49m\u001b[43m(\u001b[49m\u001b[38;5;241;43m*\u001b[39;49m\u001b[38;5;241;43m*\u001b[39;49m\u001b[43mresolve_endpoint_kwargs\u001b[49m\u001b[43m)\u001b[49m\n",
      "File \u001b[0;32m~/.local/share/virtualenvs/server-HR28Vc4A/lib/python3.9/site-packages/botocore/args.py:321\u001b[0m, in \u001b[0;36mClientArgsCreator._resolve_endpoint\u001b[0;34m(self, service_name, region_name, endpoint_url, is_secure, endpoint_bridge)\u001b[0m\n\u001b[1;32m    319\u001b[0m \u001b[38;5;28;01mdef\u001b[39;00m \u001b[38;5;21m_resolve_endpoint\u001b[39m(\u001b[38;5;28mself\u001b[39m, service_name, region_name,\n\u001b[1;32m    320\u001b[0m                       endpoint_url, is_secure, endpoint_bridge):\n\u001b[0;32m--> 321\u001b[0m     \u001b[38;5;28;01mreturn\u001b[39;00m \u001b[43mendpoint_bridge\u001b[49m\u001b[38;5;241;43m.\u001b[39;49m\u001b[43mresolve\u001b[49m\u001b[43m(\u001b[49m\n\u001b[1;32m    322\u001b[0m \u001b[43m        \u001b[49m\u001b[43mservice_name\u001b[49m\u001b[43m,\u001b[49m\u001b[43m \u001b[49m\u001b[43mregion_name\u001b[49m\u001b[43m,\u001b[49m\u001b[43m \u001b[49m\u001b[43mendpoint_url\u001b[49m\u001b[43m,\u001b[49m\u001b[43m \u001b[49m\u001b[43mis_secure\u001b[49m\u001b[43m)\u001b[49m\n",
      "File \u001b[0;32m~/.local/share/virtualenvs/server-HR28Vc4A/lib/python3.9/site-packages/botocore/client.py:445\u001b[0m, in \u001b[0;36mClientEndpointBridge.resolve\u001b[0;34m(self, service_name, region_name, endpoint_url, is_secure)\u001b[0m\n\u001b[1;32m    440\u001b[0m use_dualstack_endpoint \u001b[38;5;241m=\u001b[39m \u001b[38;5;28mself\u001b[39m\u001b[38;5;241m.\u001b[39m_resolve_use_dualstack_endpoint(\n\u001b[1;32m    441\u001b[0m     service_name)\n\u001b[1;32m    442\u001b[0m use_fips_endpoint \u001b[38;5;241m=\u001b[39m \u001b[38;5;28mself\u001b[39m\u001b[38;5;241m.\u001b[39m_resolve_endpoint_variant_config_var(\n\u001b[1;32m    443\u001b[0m     \u001b[38;5;124m'\u001b[39m\u001b[38;5;124muse_fips_endpoint\u001b[39m\u001b[38;5;124m'\u001b[39m\n\u001b[1;32m    444\u001b[0m )\n\u001b[0;32m--> 445\u001b[0m resolved \u001b[38;5;241m=\u001b[39m \u001b[38;5;28;43mself\u001b[39;49m\u001b[38;5;241;43m.\u001b[39;49m\u001b[43mendpoint_resolver\u001b[49m\u001b[38;5;241;43m.\u001b[39;49m\u001b[43mconstruct_endpoint\u001b[49m\u001b[43m(\u001b[49m\n\u001b[1;32m    446\u001b[0m \u001b[43m    \u001b[49m\u001b[43mservice_name\u001b[49m\u001b[43m,\u001b[49m\u001b[43m \u001b[49m\u001b[43mregion_name\u001b[49m\u001b[43m,\u001b[49m\n\u001b[1;32m    447\u001b[0m \u001b[43m    \u001b[49m\u001b[43muse_dualstack_endpoint\u001b[49m\u001b[38;5;241;43m=\u001b[39;49m\u001b[43muse_dualstack_endpoint\u001b[49m\u001b[43m,\u001b[49m\n\u001b[1;32m    448\u001b[0m \u001b[43m    \u001b[49m\u001b[43muse_fips_endpoint\u001b[49m\u001b[38;5;241;43m=\u001b[39;49m\u001b[43muse_fips_endpoint\u001b[49m\u001b[43m,\u001b[49m\n\u001b[1;32m    449\u001b[0m \u001b[43m\u001b[49m\u001b[43m)\u001b[49m\n\u001b[1;32m    451\u001b[0m \u001b[38;5;66;03m# If we can't resolve the region, we'll attempt to get a global\u001b[39;00m\n\u001b[1;32m    452\u001b[0m \u001b[38;5;66;03m# endpoint for non-regionalized services (iam, route53, etc)\u001b[39;00m\n\u001b[1;32m    453\u001b[0m \u001b[38;5;28;01mif\u001b[39;00m \u001b[38;5;129;01mnot\u001b[39;00m resolved:\n\u001b[1;32m    454\u001b[0m     \u001b[38;5;66;03m# TODO: fallback partition_name should be configurable in the\u001b[39;00m\n\u001b[1;32m    455\u001b[0m     \u001b[38;5;66;03m# future for users to define as needed.\u001b[39;00m\n",
      "File \u001b[0;32m~/.local/share/virtualenvs/server-HR28Vc4A/lib/python3.9/site-packages/botocore/regions.py:181\u001b[0m, in \u001b[0;36mEndpointResolver.construct_endpoint\u001b[0;34m(self, service_name, region_name, partition_name, use_dualstack_endpoint, use_fips_endpoint)\u001b[0m\n\u001b[1;32m    177\u001b[0m \u001b[38;5;28;01mif\u001b[39;00m use_dualstack_endpoint \u001b[38;5;129;01mand\u001b[39;00m (\n\u001b[1;32m    178\u001b[0m         partition[\u001b[38;5;124m'\u001b[39m\u001b[38;5;124mpartition\u001b[39m\u001b[38;5;124m'\u001b[39m] \u001b[38;5;129;01min\u001b[39;00m\n\u001b[1;32m    179\u001b[0m         \u001b[38;5;28mself\u001b[39m\u001b[38;5;241m.\u001b[39m_UNSUPPORTED_DUALSTACK_PARTITIONS):\n\u001b[1;32m    180\u001b[0m     \u001b[38;5;28;01mcontinue\u001b[39;00m\n\u001b[0;32m--> 181\u001b[0m result \u001b[38;5;241m=\u001b[39m \u001b[38;5;28;43mself\u001b[39;49m\u001b[38;5;241;43m.\u001b[39;49m\u001b[43m_endpoint_for_partition\u001b[49m\u001b[43m(\u001b[49m\n\u001b[1;32m    182\u001b[0m \u001b[43m    \u001b[49m\u001b[43mpartition\u001b[49m\u001b[43m,\u001b[49m\u001b[43m \u001b[49m\u001b[43mservice_name\u001b[49m\u001b[43m,\u001b[49m\u001b[43m \u001b[49m\u001b[43mregion_name\u001b[49m\u001b[43m,\u001b[49m\u001b[43m \u001b[49m\u001b[43muse_dualstack_endpoint\u001b[49m\u001b[43m,\u001b[49m\n\u001b[1;32m    183\u001b[0m \u001b[43m    \u001b[49m\u001b[43muse_fips_endpoint\u001b[49m\n\u001b[1;32m    184\u001b[0m \u001b[43m\u001b[49m\u001b[43m)\u001b[49m\n\u001b[1;32m    185\u001b[0m \u001b[38;5;28;01mif\u001b[39;00m result:\n\u001b[1;32m    186\u001b[0m     \u001b[38;5;28;01mreturn\u001b[39;00m result\n",
      "File \u001b[0;32m~/.local/share/virtualenvs/server-HR28Vc4A/lib/python3.9/site-packages/botocore/regions.py:215\u001b[0m, in \u001b[0;36mEndpointResolver._endpoint_for_partition\u001b[0;34m(self, partition, service_name, region_name, use_dualstack_endpoint, use_fips_endpoint, force_partition)\u001b[0m\n\u001b[1;32m    213\u001b[0m         region_name \u001b[38;5;241m=\u001b[39m service_data[\u001b[38;5;124m'\u001b[39m\u001b[38;5;124mpartitionEndpoint\u001b[39m\u001b[38;5;124m'\u001b[39m]\n\u001b[1;32m    214\u001b[0m     \u001b[38;5;28;01melse\u001b[39;00m:\n\u001b[0;32m--> 215\u001b[0m         \u001b[38;5;28;01mraise\u001b[39;00m NoRegionError()\n\u001b[1;32m    217\u001b[0m resolve_kwargs \u001b[38;5;241m=\u001b[39m {\n\u001b[1;32m    218\u001b[0m     \u001b[38;5;124m'\u001b[39m\u001b[38;5;124mpartition\u001b[39m\u001b[38;5;124m'\u001b[39m: partition,\n\u001b[1;32m    219\u001b[0m     \u001b[38;5;124m'\u001b[39m\u001b[38;5;124mservice_name\u001b[39m\u001b[38;5;124m'\u001b[39m: service_name,\n\u001b[0;32m   (...)\u001b[0m\n\u001b[1;32m    223\u001b[0m     \u001b[38;5;124m'\u001b[39m\u001b[38;5;124muse_fips_endpoint\u001b[39m\u001b[38;5;124m'\u001b[39m: use_fips_endpoint,\n\u001b[1;32m    224\u001b[0m }\n\u001b[1;32m    226\u001b[0m \u001b[38;5;66;03m# Attempt to resolve the exact region for this partition.\u001b[39;00m\n",
      "\u001b[0;31mNoRegionError\u001b[0m: You must specify a region."
     ]
    }
   ],
   "source": [
    "session.client(\"ses\")"
   ]
  },
  {
   "cell_type": "markdown",
   "id": "1682f936-b84b-4a72-97f8-4ad93b552050",
   "metadata": {},
   "source": [
    "#### Traditional"
   ]
  },
  {
   "cell_type": "code",
   "execution_count": 6,
   "id": "e87efbc9",
   "metadata": {},
   "outputs": [],
   "source": [
    "client = boto3.client(\"sesv2\")"
   ]
  },
  {
   "cell_type": "markdown",
   "id": "7435aeaf",
   "metadata": {
    "tags": []
   },
   "source": [
    "### Templates"
   ]
  },
  {
   "cell_type": "code",
   "execution_count": 5,
   "id": "fbcabdf6",
   "metadata": {},
   "outputs": [
    {
     "data": {
      "text/plain": [
       "{'ResponseMetadata': {'RequestId': '37d3105a-f475-4afc-8179-c7a085e77ded',\n",
       "  'HTTPStatusCode': 200,\n",
       "  'HTTPHeaders': {'date': 'Wed, 09 Mar 2022 18:05:26 GMT',\n",
       "   'content-type': 'application/x-amz-json-1.1',\n",
       "   'content-length': '124',\n",
       "   'connection': 'keep-alive',\n",
       "   'x-amzn-requestid': '37d3105a-f475-4afc-8179-c7a085e77ded'},\n",
       "  'RetryAttempts': 0},\n",
       " 'TemplatesMetadata': [{'TemplateName': 'engi-newsletter-welcome-template',\n",
       "   'CreatedTimestamp': datetime.datetime(2021, 10, 10, 12, 59, 20, tzinfo=tzlocal())}]}"
      ]
     },
     "execution_count": 5,
     "metadata": {},
     "output_type": "execute_result"
    }
   ],
   "source": [
    "client.list_email_templates()"
   ]
  },
  {
   "cell_type": "code",
   "execution_count": 11,
   "id": "f44bf0c0-8183-4753-a96f-7bf175af2775",
   "metadata": {},
   "outputs": [
    {
     "data": {
      "text/plain": [
       "{'ResponseMetadata': {'RequestId': '9d57b0b7-a1d0-491f-80a4-755d5f42278c',\n",
       "  'HTTPStatusCode': 200,\n",
       "  'HTTPHeaders': {'date': 'Wed, 09 Mar 2022 19:14:46 GMT',\n",
       "   'content-type': 'application/x-amz-json-1.1',\n",
       "   'content-length': '261',\n",
       "   'connection': 'keep-alive',\n",
       "   'x-amzn-requestid': '9d57b0b7-a1d0-491f-80a4-755d5f42278c'},\n",
       "  'RetryAttempts': 0},\n",
       " 'TemplateName': 'engi-newsletter-welcome-template',\n",
       " 'TemplateContent': {'Subject': 'Greetings, {{name}}!',\n",
       "  'Text': 'Dear {{name}},\\\\r\\\\nYour favorite animal is {{favoriteanimal}}.',\n",
       "  'Html': '<h1>Hello {{name}},</h1><p>Your favorite animal is {{favoriteanimal}}.</p>'}}"
      ]
     },
     "execution_count": 11,
     "metadata": {},
     "output_type": "execute_result"
    }
   ],
   "source": [
    "client.get_email_template(TemplateName=template_name)"
   ]
  },
  {
   "cell_type": "markdown",
   "id": "7e087281",
   "metadata": {
    "tags": []
   },
   "source": [
    "### Contact Lists"
   ]
  },
  {
   "cell_type": "code",
   "execution_count": 7,
   "id": "f40d9436",
   "metadata": {},
   "outputs": [
    {
     "data": {
      "text/plain": [
       "{'ResponseMetadata': {'RequestId': '3d25cd4b-b5e1-49bb-ada0-4cd35acf4399',\n",
       "  'HTTPStatusCode': 200,\n",
       "  'HTTPHeaders': {'date': 'Wed, 09 Mar 2022 15:52:58 GMT',\n",
       "   'content-type': 'application/x-amz-json-1.1',\n",
       "   'content-length': '113',\n",
       "   'connection': 'keep-alive',\n",
       "   'x-amzn-requestid': '3d25cd4b-b5e1-49bb-ada0-4cd35acf4399'},\n",
       "  'RetryAttempts': 0},\n",
       " 'ContactLists': [{'ContactListName': 'engi-newsletter',\n",
       "   'LastUpdatedTimestamp': datetime.datetime(2021, 10, 10, 12, 46, 2, 662000, tzinfo=tzlocal())}]}"
      ]
     },
     "execution_count": 7,
     "metadata": {},
     "output_type": "execute_result"
    }
   ],
   "source": [
    "client.list_contact_lists()"
   ]
  },
  {
   "cell_type": "code",
   "execution_count": 8,
   "id": "a90ca945",
   "metadata": {},
   "outputs": [
    {
     "data": {
      "text/plain": [
       "{'ResponseMetadata': {'RequestId': '3abaa14f-3896-4eee-a1aa-49c295ef2039',\n",
       "  'HTTPStatusCode': 200,\n",
       "  'HTTPHeaders': {'date': 'Wed, 09 Mar 2022 15:53:01 GMT',\n",
       "   'content-type': 'application/x-amz-json-1.1',\n",
       "   'content-length': '377',\n",
       "   'connection': 'keep-alive',\n",
       "   'x-amzn-requestid': '3abaa14f-3896-4eee-a1aa-49c295ef2039'},\n",
       "  'RetryAttempts': 0},\n",
       " 'ContactListName': 'engi-newsletter',\n",
       " 'Topics': [{'TopicName': 'engi-newsletter',\n",
       "   'DisplayName': 'The Engi Newsletter',\n",
       "   'Description': 'subscribe to updates about the development of engi',\n",
       "   'DefaultSubscriptionStatus': 'OPT_IN'}],\n",
       " 'Description': 'the engi newsletter',\n",
       " 'CreatedTimestamp': datetime.datetime(2021, 10, 10, 12, 46, 2, 662000, tzinfo=tzlocal()),\n",
       " 'LastUpdatedTimestamp': datetime.datetime(2021, 10, 10, 12, 46, 2, 662000, tzinfo=tzlocal()),\n",
       " 'Tags': [{'Key': 'engi', 'Value': 'newsletter'}]}"
      ]
     },
     "execution_count": 8,
     "metadata": {},
     "output_type": "execute_result"
    }
   ],
   "source": [
    "client.get_contact_list(ContactListName=contact_list)"
   ]
  },
  {
   "cell_type": "code",
   "execution_count": 18,
   "id": "37bb4af9-82c9-4d7a-9754-5b31eb72b76a",
   "metadata": {},
   "outputs": [
    {
     "data": {
      "text/plain": [
       "{'ResponseMetadata': {'RequestId': '035cb0f4-edb8-4b0b-aac4-58466c241168',\n",
       "  'HTTPStatusCode': 200,\n",
       "  'HTTPHeaders': {'date': 'Wed, 09 Mar 2022 18:49:14 GMT',\n",
       "   'content-type': 'application/json',\n",
       "   'content-length': '242',\n",
       "   'connection': 'close',\n",
       "   'x-amzn-requestid': '035cb0f4-edb8-4b0b-aac4-58466c241168'},\n",
       "  'RetryAttempts': 0},\n",
       " 'Contacts': [{'EmailAddress': 'g@engi.network',\n",
       "   'TopicPreferences': [{'TopicName': 'engi-newsletter',\n",
       "     'SubscriptionStatus': 'OPT_IN'}],\n",
       "   'UnsubscribeAll': False,\n",
       "   'LastUpdatedTimestamp': datetime.datetime(2021, 10, 10, 14, 25, 19, 33000, tzinfo=tzlocal())}]}"
      ]
     },
     "execution_count": 18,
     "metadata": {},
     "output_type": "execute_result"
    }
   ],
   "source": [
    "client.list_contacts(ContactListName=contact_list)"
   ]
  },
  {
   "cell_type": "markdown",
   "id": "80951465-19e0-4b89-b48b-4390c934099c",
   "metadata": {},
   "source": [
    "### Contact Management"
   ]
  },
  {
   "cell_type": "code",
   "execution_count": 10,
   "id": "3e03b95c-389a-4b86-a95e-9e99c1cdccb8",
   "metadata": {},
   "outputs": [
    {
     "data": {
      "text/plain": [
       "{'ResponseMetadata': {'RequestId': '63f3d541-d178-4c48-a1f5-aaa80d8ead11',\n",
       "  'HTTPStatusCode': 200,\n",
       "  'HTTPHeaders': {'date': 'Wed, 09 Mar 2022 16:13:05 GMT',\n",
       "   'content-type': 'application/json',\n",
       "   'content-length': '2',\n",
       "   'connection': 'keep-alive',\n",
       "   'x-amzn-requestid': '63f3d541-d178-4c48-a1f5-aaa80d8ead11'},\n",
       "  'RetryAttempts': 0}}"
      ]
     },
     "execution_count": 10,
     "metadata": {},
     "output_type": "execute_result"
    }
   ],
   "source": [
    "client.create_contact(\n",
    "    ContactListName=contact_list,\n",
    "    EmailAddress=email\n",
    ")"
   ]
  },
  {
   "cell_type": "code",
   "execution_count": 23,
   "id": "1063237e-5ffb-4e7d-ad03-6af9151871d2",
   "metadata": {},
   "outputs": [
    {
     "data": {
      "text/plain": [
       "{'ResponseMetadata': {'RequestId': '43753071-b5c2-437d-a5a2-01d4bf26c184',\n",
       "  'HTTPStatusCode': 200,\n",
       "  'HTTPHeaders': {'date': 'Wed, 09 Mar 2022 18:52:47 GMT',\n",
       "   'content-type': 'application/x-amz-json-1.1',\n",
       "   'content-length': '370',\n",
       "   'connection': 'keep-alive',\n",
       "   'x-amzn-requestid': '43753071-b5c2-437d-a5a2-01d4bf26c184'},\n",
       "  'RetryAttempts': 0},\n",
       " 'ContactListName': 'engi-newsletter',\n",
       " 'EmailAddress': 'christopherkelly@engi.network',\n",
       " 'TopicPreferences': [{'TopicName': 'engi-newsletter',\n",
       "   'SubscriptionStatus': 'OPT_IN'}],\n",
       " 'UnsubscribeAll': False,\n",
       " 'AttributesData': '{\"name\": \"chris\", \"favoriteanimal\": \"bonobo\"}',\n",
       " 'CreatedTimestamp': datetime.datetime(2022, 3, 9, 10, 52, 29, 352000, tzinfo=tzlocal()),\n",
       " 'LastUpdatedTimestamp': datetime.datetime(2022, 3, 9, 10, 52, 29, 352000, tzinfo=tzlocal())}"
      ]
     },
     "execution_count": 23,
     "metadata": {},
     "output_type": "execute_result"
    }
   ],
   "source": [
    "r = client.get_contact(\n",
    "    ContactListName=contact_list,\n",
    "    EmailAddress=email\n",
    "); r"
   ]
  },
  {
   "cell_type": "code",
   "execution_count": 19,
   "id": "10598007-a659-430b-817a-c9d974e1fbd9",
   "metadata": {},
   "outputs": [],
   "source": [
    "email = \"g@engi.network\""
   ]
  },
  {
   "cell_type": "code",
   "execution_count": 20,
   "id": "0741ef29-094a-48d8-a059-7695d75d5bd4",
   "metadata": {},
   "outputs": [
    {
     "data": {
      "text/plain": [
       "{'ResponseMetadata': {'RequestId': '20754a1d-00af-48e1-b5e2-e1958c4fc3da',\n",
       "  'HTTPStatusCode': 200,\n",
       "  'HTTPHeaders': {'date': 'Wed, 09 Mar 2022 18:49:29 GMT',\n",
       "   'content-type': 'application/x-amz-json-1.1',\n",
       "   'content-length': '304',\n",
       "   'connection': 'keep-alive',\n",
       "   'x-amzn-requestid': '20754a1d-00af-48e1-b5e2-e1958c4fc3da'},\n",
       "  'RetryAttempts': 0},\n",
       " 'ContactListName': 'engi-newsletter',\n",
       " 'EmailAddress': 'g@engi.network',\n",
       " 'TopicPreferences': [{'TopicName': 'engi-newsletter',\n",
       "   'SubscriptionStatus': 'OPT_IN'}],\n",
       " 'UnsubscribeAll': False,\n",
       " 'CreatedTimestamp': datetime.datetime(2021, 10, 10, 14, 25, 19, 33000, tzinfo=tzlocal()),\n",
       " 'LastUpdatedTimestamp': datetime.datetime(2021, 10, 10, 14, 25, 19, 33000, tzinfo=tzlocal())}"
      ]
     },
     "execution_count": 20,
     "metadata": {},
     "output_type": "execute_result"
    }
   ],
   "source": [
    "r = client.get_contact(\n",
    "    ContactListName=contact_list,\n",
    "    EmailAddress=email\n",
    "); r"
   ]
  },
  {
   "cell_type": "code",
   "execution_count": null,
   "id": "9680be7a-6eda-4cd9-bd19-60ee87aa8477",
   "metadata": {},
   "outputs": [],
   "source": []
  },
  {
   "cell_type": "code",
   "execution_count": 16,
   "id": "e3e0546b-87b7-49cd-9f4f-1f3af69ac26b",
   "metadata": {},
   "outputs": [
    {
     "data": {
      "text/plain": [
       "['engi-newsletter']"
      ]
     },
     "execution_count": 16,
     "metadata": {},
     "output_type": "execute_result"
    }
   ],
   "source": [
    "[d[\"TopicName\"] for d in r[\"TopicPreferences\"]]"
   ]
  },
  {
   "cell_type": "code",
   "execution_count": 18,
   "id": "d29592bb-6609-475a-bbfd-5b868457275d",
   "metadata": {},
   "outputs": [
    {
     "data": {
      "text/plain": [
       "200"
      ]
     },
     "execution_count": 18,
     "metadata": {},
     "output_type": "execute_result"
    }
   ],
   "source": [
    "r[\"ResponseMetadata\"][\"HTTPStatusCode\"]"
   ]
  },
  {
   "cell_type": "code",
   "execution_count": 21,
   "id": "569c49b6-b489-4f09-b977-ff1e9dbd34ed",
   "metadata": {},
   "outputs": [
    {
     "data": {
      "text/plain": [
       "{'ResponseMetadata': {'RequestId': '2537df60-c3b2-4065-bc78-3818f725b131',\n",
       "  'HTTPStatusCode': 200,\n",
       "  'HTTPHeaders': {'date': 'Wed, 09 Mar 2022 18:49:37 GMT',\n",
       "   'content-type': 'application/x-amz-json-1.1',\n",
       "   'content-length': '2',\n",
       "   'connection': 'keep-alive',\n",
       "   'x-amzn-requestid': '2537df60-c3b2-4065-bc78-3818f725b131'},\n",
       "  'RetryAttempts': 0}}"
      ]
     },
     "execution_count": 21,
     "metadata": {},
     "output_type": "execute_result"
    }
   ],
   "source": [
    "r = client.delete_contact(\n",
    "    ContactListName=contact_list,\n",
    "    EmailAddress=email\n",
    "); r"
   ]
  },
  {
   "cell_type": "markdown",
   "id": "40940791-4916-4d83-96eb-5dc46a97be65",
   "metadata": {},
   "source": [
    "### Sending Email"
   ]
  },
  {
   "cell_type": "code",
   "execution_count": 4,
   "id": "458ea5e1-0f99-453e-b665-e9f694ba9aa2",
   "metadata": {},
   "outputs": [],
   "source": [
    "from_addr = \"g@engi.network\"\n",
    "to_addr = \"christopherkelly@engi.network\""
   ]
  },
  {
   "cell_type": "code",
   "execution_count": 28,
   "id": "3748d1c8-1b1a-4268-a6da-666cc6f7ae3d",
   "metadata": {},
   "outputs": [
    {
     "data": {
      "text/plain": [
       "{'Template': {'TemplateName': 'string',\n",
       "  'TemplateArn': 'string',\n",
       "  'TemplateData': 'string'}}"
      ]
     },
     "execution_count": 28,
     "metadata": {},
     "output_type": "execute_result"
    }
   ],
   "source": [
    "       { }"
   ]
  },
  {
   "cell_type": "code",
   "execution_count": 7,
   "id": "a7ad2624-e8c3-40a6-a811-5c536c12a5f6",
   "metadata": {},
   "outputs": [],
   "source": [
    "r = client.send_email(\n",
    "    FromEmailAddress=from_addr,\n",
    "    Destination={\n",
    "        'ToAddresses': [\n",
    "            to_addr,\n",
    "        ],\n",
    "    },\n",
    "    Content={\n",
    "        'Simple': {\n",
    "            'Subject': {\n",
    "                'Data': 'test 1',\n",
    "                'Charset': 'UTF-8'\n",
    "            },\n",
    "            'Body': {\n",
    "                'Text': {\n",
    "                    'Data': 'body',\n",
    "                    'Charset': 'UTF-8'\n",
    "                },\n",
    "                'Html': {\n",
    "                    'Data': '<p>body</p>',\n",
    "                    'Charset': 'UTF-8'\n",
    "                }\n",
    "            }\n",
    "        },\n",
    "\n",
    "\n",
    "    },\n",
    "    ListManagementOptions={\n",
    "        'ContactListName': contact_list,\n",
    "        'TopicName': contact_list\n",
    "    }\n",
    ")"
   ]
  },
  {
   "cell_type": "code",
   "execution_count": 8,
   "id": "25610188-4ca8-43a9-9dec-873a930fc2f8",
   "metadata": {},
   "outputs": [
    {
     "data": {
      "text/plain": [
       "{'ResponseMetadata': {'RequestId': '9dba4950-a902-44bf-96c8-d93ff6e3b34c',\n",
       "  'HTTPStatusCode': 200,\n",
       "  'HTTPHeaders': {'date': 'Wed, 09 Mar 2022 19:09:26 GMT',\n",
       "   'content-type': 'application/json',\n",
       "   'content-length': '76',\n",
       "   'connection': 'keep-alive',\n",
       "   'x-amzn-requestid': '9dba4950-a902-44bf-96c8-d93ff6e3b34c'},\n",
       "  'RetryAttempts': 0},\n",
       " 'MessageId': '0101017f701607b8-0f106dd6-8da9-4405-89d7-bce6cb37cc50-000000'}"
      ]
     },
     "execution_count": 8,
     "metadata": {},
     "output_type": "execute_result"
    }
   ],
   "source": [
    "r"
   ]
  },
  {
   "cell_type": "code",
   "execution_count": 12,
   "id": "8c3796f2-ff1b-4fda-b4f9-5789b7ee280d",
   "metadata": {},
   "outputs": [],
   "source": [
    "r = client.send_email(\n",
    "    FromEmailAddress=from_addr,\n",
    "    Destination={\n",
    "        'ToAddresses': [\n",
    "            to_addr,\n",
    "        ],\n",
    "    },\n",
    "    Content={\n",
    "        'Template': {\n",
    "            'TemplateName': template_name,\n",
    "            'TemplateData': '{\"name\": \"chris\", \"favoriteanimal\": \"bonobo\"}'\n",
    "        },\n",
    "    },\n",
    "    ListManagementOptions={\n",
    "        'ContactListName': contact_list,\n",
    "        'TopicName': contact_list\n",
    "    }\n",
    ")"
   ]
  },
  {
   "cell_type": "code",
   "execution_count": 13,
   "id": "afce4e1d-42d3-4432-90a2-664d37312032",
   "metadata": {},
   "outputs": [
    {
     "data": {
      "text/plain": [
       "{'ResponseMetadata': {'RequestId': 'a43bbb84-9255-487c-a209-b2f06f0eff33',\n",
       "  'HTTPStatusCode': 200,\n",
       "  'HTTPHeaders': {'date': 'Wed, 09 Mar 2022 19:15:32 GMT',\n",
       "   'content-type': 'application/json',\n",
       "   'content-length': '76',\n",
       "   'connection': 'keep-alive',\n",
       "   'x-amzn-requestid': 'a43bbb84-9255-487c-a209-b2f06f0eff33'},\n",
       "  'RetryAttempts': 0},\n",
       " 'MessageId': '0101017f701b9cb4-7bc88b05-8b74-4155-ad63-2b88cb0a666c-000000'}"
      ]
     },
     "execution_count": 13,
     "metadata": {},
     "output_type": "execute_result"
    }
   ],
   "source": [
    "r"
   ]
  },
  {
   "cell_type": "markdown",
   "id": "c66cda2a-f062-405f-91ca-c0ef18d7f485",
   "metadata": {},
   "source": [
    "### Scratch Pad"
   ]
  },
  {
   "cell_type": "code",
   "execution_count": 9,
   "id": "0d9c49da-7509-4b3f-99e7-8dbc582bebb0",
   "metadata": {},
   "outputs": [
    {
     "data": {
      "text/plain": [
       "['AccountSuspendedException',\n",
       " 'AlreadyExistsException',\n",
       " 'BadRequestException',\n",
       " 'ClientError',\n",
       " 'ConcurrentModificationException',\n",
       " 'ConflictException',\n",
       " 'InvalidNextTokenException',\n",
       " 'LimitExceededException',\n",
       " 'MailFromDomainNotVerifiedException',\n",
       " 'MessageRejected',\n",
       " 'NotFoundException',\n",
       " 'SendingPausedException',\n",
       " 'TooManyRequestsException',\n",
       " '__class__',\n",
       " '__delattr__',\n",
       " '__dict__',\n",
       " '__dir__',\n",
       " '__doc__',\n",
       " '__eq__',\n",
       " '__format__',\n",
       " '__ge__',\n",
       " '__getattr__',\n",
       " '__getattribute__',\n",
       " '__gt__',\n",
       " '__hash__',\n",
       " '__init__',\n",
       " '__init_subclass__',\n",
       " '__le__',\n",
       " '__lt__',\n",
       " '__module__',\n",
       " '__ne__',\n",
       " '__new__',\n",
       " '__reduce__',\n",
       " '__reduce_ex__',\n",
       " '__repr__',\n",
       " '__setattr__',\n",
       " '__sizeof__',\n",
       " '__str__',\n",
       " '__subclasshook__',\n",
       " '__weakref__',\n",
       " '_code_to_exception',\n",
       " 'from_code']"
      ]
     },
     "execution_count": 9,
     "metadata": {},
     "output_type": "execute_result"
    }
   ],
   "source": [
    "dir(client.exceptions)"
   ]
  },
  {
   "cell_type": "code",
   "execution_count": 7,
   "id": "9a4ed51e-f905-49e2-9268-660733819666",
   "metadata": {},
   "outputs": [],
   "source": [
    "s = \"{ \\\"name\\\":\\\"Alejandro\\\", \\\"favoriteanimal\\\": \\\"alligator\\\" }\""
   ]
  },
  {
   "cell_type": "code",
   "execution_count": 9,
   "id": "213ce415-56cf-4cc9-b086-75c0f8855348",
   "metadata": {},
   "outputs": [],
   "source": [
    "import json"
   ]
  },
  {
   "cell_type": "code",
   "execution_count": 11,
   "id": "0002b0b4-787c-4ff1-adbc-793b373ce135",
   "metadata": {},
   "outputs": [
    {
     "data": {
      "text/plain": [
       "{'name': 'Alejandro', 'favoriteanimal': 'alligator'}"
      ]
     },
     "execution_count": 11,
     "metadata": {},
     "output_type": "execute_result"
    }
   ],
   "source": [
    "json.loads(s)"
   ]
  },
  {
   "cell_type": "code",
   "execution_count": 14,
   "id": "c661d823-a276-4b2a-84bf-7aee374df5c4",
   "metadata": {},
   "outputs": [
    {
     "data": {
      "text/plain": [
       "'\"{\\\\\"name\\\\\": \\\\\"Alejandro\\\\\", \\\\\"favoriteanimal\\\\\": \\\\\"alligator\\\\\"}\"'"
      ]
     },
     "execution_count": 14,
     "metadata": {},
     "output_type": "execute_result"
    }
   ],
   "source": [
    "json.dumps(json.dumps(_11))"
   ]
  },
  {
   "cell_type": "code",
   "execution_count": null,
   "id": "b83da9be-4997-4812-80ba-3537cc01bdf1",
   "metadata": {},
   "outputs": [],
   "source": []
  }
 ],
 "metadata": {
  "kernelspec": {
   "display_name": "Python 3 (ipykernel)",
   "language": "python",
   "name": "python3"
  },
  "language_info": {
   "codemirror_mode": {
    "name": "ipython",
    "version": 3
   },
   "file_extension": ".py",
   "mimetype": "text/x-python",
   "name": "python",
   "nbconvert_exporter": "python",
   "pygments_lexer": "ipython3",
   "version": "3.9.9"
  }
 },
 "nbformat": 4,
 "nbformat_minor": 5
}
