{
 "cells": [
  {
   "cell_type": "code",
   "execution_count": 4,
   "id": "b6aae82a",
   "metadata": {},
   "outputs": [],
   "source": [
    "import boto3"
   ]
  },
  {
   "cell_type": "code",
   "execution_count": 5,
   "id": "9d7b7060-82e4-43fe-9ebf-0546d6cf9e5e",
   "metadata": {},
   "outputs": [],
   "source": [
    "email = \"christopherkelly@engi.network\"\n",
    "from_addr = email"
   ]
  },
  {
   "cell_type": "code",
   "execution_count": 6,
   "id": "ac9c4a56-ee66-444b-a821-e9918bf73d26",
   "metadata": {},
   "outputs": [],
   "source": [
    "contact_list = \"engi-newsletter\"\n",
    "template_name = \"engi-newsletter-welcome-template\"\n",
    "test_topic = \"engi-test\""
   ]
  },
  {
   "cell_type": "code",
   "execution_count": 7,
   "id": "e87efbc9",
   "metadata": {},
   "outputs": [],
   "source": [
    "ses_client = boto3.client(\"sesv2\")"
   ]
  },
  {
   "cell_type": "markdown",
   "id": "a397c906-6ffe-4065-abb3-43f19473d7e9",
   "metadata": {
    "jp-MarkdownHeadingCollapsed": true,
    "tags": []
   },
   "source": [
    "### Celery SQS backend"
   ]
  },
  {
   "cell_type": "markdown",
   "id": "bc15bdee-340e-4927-892b-edf44c27763b",
   "metadata": {},
   "source": [
    "See https://docs.celeryq.dev/en/stable/getting-started/backends-and-brokers/sqs.html#broker-sqs\n",
    "\n",
    "Be careful about having multiple Celery workers dequeueing jobs from the same queue!"
   ]
  },
  {
   "cell_type": "code",
   "execution_count": 5,
   "id": "83a5c95b-5853-487d-b585-e22ce3062ab7",
   "metadata": {},
   "outputs": [],
   "source": [
    "sqs_client = boto3.client(\"sqs\")"
   ]
  },
  {
   "cell_type": "code",
   "execution_count": 6,
   "id": "ffc9c56c-d91d-4abd-b980-9210d4de35ca",
   "metadata": {},
   "outputs": [
    {
     "data": {
      "text/plain": [
       "{'QueueUrls': ['https://us-west-2.queue.amazonaws.com/163803973373/celery',\n",
       "  'https://us-west-2.queue.amazonaws.com/163803973373/dev-email-server-celery',\n",
       "  'https://us-west-2.queue.amazonaws.com/163803973373/e969e804-d411-48ef-b050-df6afcced3da-same-story-test-queue',\n",
       "  'https://us-west-2.queue.amazonaws.com/163803973373/prod-email-server-celery',\n",
       "  'https://us-west-2.queue.amazonaws.com/163803973373/same-story-api',\n",
       "  'https://us-west-2.queue.amazonaws.com/163803973373/same-story-check-queue'],\n",
       " 'ResponseMetadata': {'RequestId': 'd646e254-f674-5b63-a3a4-b8a7bde16f0c',\n",
       "  'HTTPStatusCode': 200,\n",
       "  'HTTPHeaders': {'x-amzn-requestid': 'd646e254-f674-5b63-a3a4-b8a7bde16f0c',\n",
       "   'date': 'Mon, 09 May 2022 17:03:17 GMT',\n",
       "   'content-type': 'text/xml',\n",
       "   'content-length': '825'},\n",
       "  'RetryAttempts': 0}}"
      ]
     },
     "execution_count": 6,
     "metadata": {},
     "output_type": "execute_result"
    }
   ],
   "source": [
    "sqs_client.list_queues()"
   ]
  },
  {
   "cell_type": "code",
   "execution_count": 12,
   "id": "baf45e7c-c433-4381-a54d-348c3d5b8c49",
   "metadata": {},
   "outputs": [
    {
     "data": {
      "text/plain": [
       "{'ResponseMetadata': {'RequestId': 'd2087a39-6373-51b8-a351-2086db9ae309',\n",
       "  'HTTPStatusCode': 200,\n",
       "  'HTTPHeaders': {'x-amzn-requestid': 'd2087a39-6373-51b8-a351-2086db9ae309',\n",
       "   'date': 'Thu, 31 Mar 2022 14:11:53 GMT',\n",
       "   'content-type': 'text/xml',\n",
       "   'content-length': '211'},\n",
       "  'RetryAttempts': 0}}"
      ]
     },
     "execution_count": 12,
     "metadata": {},
     "output_type": "execute_result"
    }
   ],
   "source": [
    "sqs_client.delete_queue(QueueUrl=\"https://us-west-2.queue.amazonaws.com/163803973373/celery-email-server-devcelery\")"
   ]
  },
  {
   "cell_type": "code",
   "execution_count": 5,
   "id": "bf0b3955-4c5d-4528-947d-aa08e79e9d82",
   "metadata": {},
   "outputs": [],
   "source": [
    "topics = [\n",
    "    {\n",
    "        'TopicName': 'engi-programmer',\n",
    "        'DisplayName': 'Engi Programmers',\n",
    "        'Description': 'updates of specific interest for programmers',\n",
    "        'DefaultSubscriptionStatus': 'OPT_IN'\n",
    "    },\n",
    "    {\n",
    "        'TopicName': 'engi-business',\n",
    "        'DisplayName': 'Engi Business',\n",
    "        'Description': 'updates of specific interest for business',\n",
    "        'DefaultSubscriptionStatus': 'OPT_IN'\n",
    "    },\n",
    "    {\n",
    "        'TopicName': 'engi-investor',\n",
    "        'DisplayName': 'Engi Investor',\n",
    "        'Description': 'updates of specific interest for investors',\n",
    "        'DefaultSubscriptionStatus': 'OPT_IN'\n",
    "    },\n",
    "    {\n",
    "        'TopicName': 'engi-curious',\n",
    "        'DisplayName': 'Engi Curious',\n",
    "        'Description': 'updates of interest for the curious',\n",
    "        'DefaultSubscriptionStatus': 'OPT_IN'\n",
    "    },\n",
    "    {\n",
    "        'TopicName': 'engi-newsletter',\n",
    "        'DisplayName': 'The Engi Newsletter',\n",
    "        'Description': 'subscribe to updates about the development of engi',\n",
    "        'DefaultSubscriptionStatus': 'OPT_IN'\n",
    "    },\n",
    "]"
   ]
  },
  {
   "cell_type": "markdown",
   "id": "7435aeaf",
   "metadata": {
    "tags": []
   },
   "source": [
    "### Templates"
   ]
  },
  {
   "cell_type": "code",
   "execution_count": 13,
   "id": "fbcabdf6",
   "metadata": {},
   "outputs": [
    {
     "data": {
      "text/plain": [
       "{'ResponseMetadata': {'RequestId': 'af2ec099-de91-4516-8e8f-ac0c224aefac',\n",
       "  'HTTPStatusCode': 200,\n",
       "  'HTTPHeaders': {'date': 'Thu, 21 Jul 2022 14:24:30 GMT',\n",
       "   'content-type': 'application/x-amz-json-1.1',\n",
       "   'content-length': '267',\n",
       "   'connection': 'keep-alive',\n",
       "   'x-amzn-requestid': 'af2ec099-de91-4516-8e8f-ac0c224aefac'},\n",
       "  'RetryAttempts': 0},\n",
       " 'TemplatesMetadata': [{'TemplateName': 'engi-contact-us-template',\n",
       "   'CreatedTimestamp': datetime.datetime(2022, 7, 21, 7, 24, 24, 508000, tzinfo=tzlocal())},\n",
       "  {'TemplateName': 'welcome',\n",
       "   'CreatedTimestamp': datetime.datetime(2022, 7, 18, 17, 51, 6, 613000, tzinfo=tzlocal())},\n",
       "  {'TemplateName': 'engi-newsletter-welcome-template',\n",
       "   'CreatedTimestamp': datetime.datetime(2021, 10, 10, 12, 59, 20, tzinfo=tzlocal())}]}"
      ]
     },
     "execution_count": 13,
     "metadata": {},
     "output_type": "execute_result"
    }
   ],
   "source": [
    "ses_client.list_email_templates()"
   ]
  },
  {
   "cell_type": "code",
   "execution_count": 20,
   "id": "afb65839-ef4d-4271-9feb-f628d3fa59f8",
   "metadata": {
    "collapsed": true,
    "jupyter": {
     "outputs_hidden": true
    },
    "tags": []
   },
   "outputs": [
    {
     "data": {
      "text/plain": [
       "{'ResponseMetadata': {'RequestId': '0b56f2b8-ed71-4b44-8c76-df7f4648869a',\n",
       "  'HTTPStatusCode': 200,\n",
       "  'HTTPHeaders': {'date': 'Thu, 21 Jul 2022 15:20:07 GMT',\n",
       "   'content-type': 'application/x-amz-json-1.1',\n",
       "   'content-length': '6530',\n",
       "   'connection': 'keep-alive',\n",
       "   'x-amzn-requestid': '0b56f2b8-ed71-4b44-8c76-df7f4648869a'},\n",
       "  'RetryAttempts': 0},\n",
       " 'TemplateName': 'welcome',\n",
       " 'TemplateContent': {'Subject': 'Welcome to Engi',\n",
       "  'Text': 'Welcome to Engi',\n",
       "  'Html': '\\n<html>\\n  <head>\\n    <meta http-equiv=\\'Content-Type\\' content=\\'text/html; charset=utf-8\\'>\\n    <meta name=\\'viewport\\' content=\\'width=device-width\\'>\\n    <meta http-equiv=\\'X-UA-Compatible\\' content=\\'IE=edge\\'>\\n  </head>\\n  <script>\\n  </script>\\n  <style type=\\'text/css\\'>\\n    html, \\n    body {\\n      height: 100%;\\n      margin: 0px;\\n    }\\n\\n    * {\\n      box-sizing: border-box;\\n    }\\n\\n    a[x-apple-data-detectors=true] {\\n      color: inherit !important;\\n      text-decoration: none !important;\\n    }\\n\\n    a {\\n      text-decoration: none;\\n    }\\n\\n    @font-face {\\n      font-family: \\'grifter\\';\\n      src: url(\\'https://engi-email-template.s3.us-west-2.amazonaws.com/welcome-template/grifterbold.otf\\') format(\\'truetype\\');\\n    }\\n\\n    #root {\\n      display: flex;\\n      flex-direction: column;\\n      justify-content: start;\\n      align-items: center;\\n      height: fit-content;\\n      width: 100%;\\n      background-color: #F3F5F9;\\n      padding: 32px;\\n    }\\n\\n    .content {\\n      max-width: 543px;\\n      background-color: #b5b5b5;\\n      padding: 40px 16px 36px 16px;\\n      display: flex;\\n      flex-direction: column;\\n      justify-content: center;\\n      align-items: center;\\n    }\\n\\n    .logo {\\n      margin: auto;\\n      height: auto;\\n      width: auto;\\n    }\\n\\n    .heading {\\n      font-weight: 700;\\n      font-size: 28px;\\n      line-height: 40px;\\n      text-align: center;\\n      letter-spacing: 0.01em;\\n      font-family: \\'grifter\\';\\n    }\\n\\n    .paragraph {\\n      font-style: normal;\\n      font-weight: 400;\\n      font-size: 14px;\\n      line-height: 24px;\\n      text-align: center;\\n      color: rgba(35, 35, 35, 0.6);\\n    }\\n\\n    .home-image {\\n      margin: auto;\\n      width: 100%;\\n    }\\n\\n    .button {\\n      display: flex;\\n      flex-direction: row;\\n      justify-content: center;\\n      align-items: center;\\n      padding: 16px 32px;\\n      background: rgba(0, 0, 0, 0.21);\\n      border: 1px solid #FFFFFF;\\n      width: 100%;\\n      color: white;\\n      font-weight: 700;\\n      font-size: 16px;\\n    }\\n\\n    .support_link {\\n      background-color: rgb(169, 92, 225);\\n      text-decoration: underline;\\n      color: rgba(35, 35, 35, 0.6);\\n    }\\n\\n    .text-center {\\n      text-align: center;\\n    }\\n\\n    .text-left {\\n      text-align: left;\\n    }\\n\\n    .text-sm {\\n      font-size: 14px;\\n    }\\n\\n    #footer {\\n      display: flex;\\n      justify-content: center;\\n      align-items: center;\\n      flex-direction: column;\\n      font-family: Arial, Helvetica, sans-serif;\\n      margin-top: 48px;\\n    }\\n\\n    .footer_info {\\n      color: #8A8A8A;\\n      margin-bottom: 24px;\\n    }\\n\\n    .terms_links {\\n      display: flex;\\n      justify-content: space-between;\\n      align-items: center;\\n      flex-direction: column;\\n      gap: 4px;\\n    }\\n\\n    .terms_links > a {\\n      color: black;\\n    }\\n\\n    .social_links {\\n      display: flex;\\n      justify-content: space-between;\\n      align-items: center;\\n    }\\n    \\n    .social_links > a {\\n      margin-right: 4px;\\n    }\\n\\n    .social_links > a:last-of-type {\\n      margin-right: 0px;\\n    }\\n\\n\\n    @media (max-width: 660px) {\\n      .content {\\n        padding: 52px 12px 32px 12px;\\n      }\\n\\n      .stay_tuned {\\n        text-align: center;\\n      }\\n    }\\n\\n  </style>\\n  <body>\\n    <div id=\\'root\\'>\\n      <div class=\\'content\\'>\\n        <img class=\\'logo\\' src=\\'https://engi-email-template.s3.us-west-2.amazonaws.com/welcome-template/logo.svg\\' alt=\\'logo\\' width=\"\" height=\"\"/>\\n        <h1 class=\\'heading\\'>\\n          Greetings!\\n        </h1>\\n        <p class=\\'paragraph\\'>\\n          Welcome {{firstname}},<br/><br/>\\n\\n          We are incredibly excited to have you. Join us on our journey to make professional programming flexible, fast, and fun for businesses and coders alike!\\n        </p>\\n        <img class=\"home-image\" src=\\'https://engi-email-template.s3.us-west-2.amazonaws.com/welcome-template/main.svg\\' alt=\\'main_image\\' />\\n        <!-- <h2 class=\\'text-xl leading-5 text-bold text-text-primary\\' >Weekly Product Update</h2>\\n        <p class=\\'text-sm mt-2 text-text-primary/60 mt-2\\'>\\n          Engi empowers programmers to flexibly earn money writing code. Work whenever, wherever, and however on the jobs that you want. Lorem ipsum dolor sit amet, consectetur et dolore magna aliqua.  Ut enim ad minim veniam, quis nostrud exercitation ullamco laboris.\\n        </p> -->\\n        <a href=\\'https://engi.network/\\' target=\\'_blank\\' class=\\'button mb-9\\'>See Our Website</a>\\n        <p class=\\'paragraph stay_tuned text-left mb-6\\'>\\n          Stay tuned for product updates 🚀 If at any time you have questions or need assistance, please contact us at  <a href=\\'mailto:support@engi.com\\' class=\\'support_link\\'>support@engi.com</a>.\\n          <br/><br/>\\n          Cheers,<br/> Team Engi!\\n        </p>\\n        \\n      </div>\\n      <div id=\\'footer\\'>\\n        <img src=\\'https://engi-email-template.s3.us-west-2.amazonaws.com/welcome-template/engi.svg\\' alt=\\'engi\\' width=\\'80px\\' />\\n        <div class=\\'social_links\\'>\\n          <a href=\\'https://facebook.com\\' target=\\'_blank\\' class=\\'mr-6\\'><img src=\\'https://engi-email-template.s3.us-west-2.amazonaws.com/welcome-template/facebook.svg\\' alt=\\'facebook\\'/></a>\\n          <a href=\\'https://www.linkedin.com/company/engi-network\\' target=\\'_blank\\' class=\\'mr-6\\'><img src=\\'https://engi-email-template.s3.us-west-2.amazonaws.com/welcome-template/linkedin.svg\\' alt=\\'linkedin\\'/></a>\\n          <a href=\\'https://twitter.com/engi_network\\' target=\\'_blank\\' class=\\'mr-6\\'><img src=\\'https://engi-email-template.s3.us-west-2.amazonaws.com/welcome-template/twitter.svg\\' alt=\\'twitter\\'/></a>\\n          <a href=\\'https://instagram.com/engi.network?igshid=YmMyMTA2M2Y=\\' target=\\'_blank\\'><img src=\\'https://engi-email-template.s3.us-west-2.amazonaws.com/welcome-template/instagram.svg\\' alt=\\'instagram\\'/></a>\\n        </div>\\n        <p class=\\'footer_info paragraph text-sm\\'>\\n          Accelerate your product teams and earn cash writing code today\\n        </p>\\n        <div class=\\'terms_links text-text-primary text-sm\\'>\\n          <a href=\\'https://engi.network/\\' target=\\'_blank\\'>Privacy Policy</a>\\n          <a href=\\'https://engi.network/\\' target=\\'_blank\\'>Terms and Conditions</a>\\n          <a href=\\'https://engi.network/\\' target=\\'_blank\\'>Unsubscribe</a>\\n        </div>\\n      </div>\\n    </div>\\n  </body>\\n</html>\\n'}}"
      ]
     },
     "execution_count": 20,
     "metadata": {},
     "output_type": "execute_result"
    }
   ],
   "source": [
    "ses_client.get_email_template(TemplateName=\"welcome\")"
   ]
  },
  {
   "cell_type": "code",
   "execution_count": 46,
   "id": "f44bf0c0-8183-4753-a96f-7bf175af2775",
   "metadata": {},
   "outputs": [
    {
     "data": {
      "text/plain": [
       "{'ResponseMetadata': {'RequestId': 'e68dd22f-5556-4d9b-9e31-602b500cc3b5',\n",
       "  'HTTPStatusCode': 200,\n",
       "  'HTTPHeaders': {'date': 'Thu, 21 Jul 2022 15:35:34 GMT',\n",
       "   'content-type': 'application/x-amz-json-1.1',\n",
       "   'content-length': '235',\n",
       "   'connection': 'keep-alive',\n",
       "   'x-amzn-requestid': 'e68dd22f-5556-4d9b-9e31-602b500cc3b5'},\n",
       "  'RetryAttempts': 0},\n",
       " 'TemplateName': 'engi-newsletter-welcome-template',\n",
       " 'TemplateContent': {'Subject': 'Welcome to Engi',\n",
       "  'Text': 'Hi friend!\\nThanks for subscribing to Engi updates.',\n",
       "  'Html': '<h1>Hi friend!</h1><p>Thanks for subscribing to Engi updates.</p>'}}"
      ]
     },
     "execution_count": 46,
     "metadata": {},
     "output_type": "execute_result"
    }
   ],
   "source": [
    "ses_client.get_email_template(TemplateName=template_name)"
   ]
  },
  {
   "cell_type": "code",
   "execution_count": 7,
   "id": "5a2b6d6b-7746-4574-96bc-8dcdbc683a4f",
   "metadata": {},
   "outputs": [
    {
     "data": {
      "text/plain": [
       "{'ResponseMetadata': {'RequestId': '5a77b059-c6f6-4b64-a738-637fe57c375b',\n",
       "  'HTTPStatusCode': 200,\n",
       "  'HTTPHeaders': {'date': 'Wed, 30 Mar 2022 23:37:34 GMT',\n",
       "   'content-type': 'application/json',\n",
       "   'content-length': '2',\n",
       "   'connection': 'keep-alive',\n",
       "   'x-amzn-requestid': '5a77b059-c6f6-4b64-a738-637fe57c375b'},\n",
       "  'RetryAttempts': 0}}"
      ]
     },
     "execution_count": 7,
     "metadata": {},
     "output_type": "execute_result"
    }
   ],
   "source": [
    "client.update_email_template(\n",
    "    TemplateName=template_name,\n",
    "    TemplateContent={\n",
    "        'Subject': 'Welcome to Engi',\n",
    "        'Text': 'Hi friend!\\nThanks for subscribing to Engi updates.',\n",
    "        'Html': '<h1>Hi friend!</h1><p>Thanks for subscribing to Engi updates.</p>'\n",
    "    }\n",
    ")"
   ]
  },
  {
   "cell_type": "markdown",
   "id": "78d8ced9-61cd-4fe9-99e7-3e69c1e2118c",
   "metadata": {},
   "source": [
    "### Contact Us"
   ]
  },
  {
   "cell_type": "code",
   "execution_count": 74,
   "id": "47edfbf4-b38b-45cc-9774-b58d4ee5ccee",
   "metadata": {},
   "outputs": [],
   "source": [
    "TemplateContent={\n",
    "        \"Subject\": \"{{subject}}\",\n",
    "        \"Text\": \"From: {{first_name}} {{last_name}} <{{email}}>\\r\\n{{message}}\",\n",
    "        \"Html\": \"From: {{first_name}} {{last_name}} <{{email}}><p/>{{message}}\",\n",
    "    }"
   ]
  },
  {
   "cell_type": "code",
   "execution_count": 71,
   "id": "31a02098-e46a-4dad-be1b-413b2038c7fb",
   "metadata": {},
   "outputs": [],
   "source": [
    "TemplateContent={\n",
    "        \"Subject\": \"{{subject}}\",\n",
    "        \"Text\": \"From: {{first_name}} {{last_name}}\",\n",
    "    }"
   ]
  },
  {
   "cell_type": "code",
   "execution_count": 75,
   "id": "d05b90fb-7405-44c2-8796-8d268d47644a",
   "metadata": {},
   "outputs": [
    {
     "data": {
      "text/plain": [
       "{'ResponseMetadata': {'RequestId': 'f9bd0a27-7183-463f-8946-a8b126b144ee',\n",
       "  'HTTPStatusCode': 200,\n",
       "  'HTTPHeaders': {'date': 'Thu, 21 Jul 2022 15:46:30 GMT',\n",
       "   'content-type': 'application/json',\n",
       "   'content-length': '2',\n",
       "   'connection': 'keep-alive',\n",
       "   'x-amzn-requestid': 'f9bd0a27-7183-463f-8946-a8b126b144ee'},\n",
       "  'RetryAttempts': 0}}"
      ]
     },
     "execution_count": 75,
     "metadata": {},
     "output_type": "execute_result"
    }
   ],
   "source": [
    "ses_client.update_email_template(\n",
    "    TemplateName=\"engi-contact-us-template\",\n",
    "    TemplateContent=TemplateContent\n",
    "    )"
   ]
  },
  {
   "cell_type": "code",
   "execution_count": 79,
   "id": "44a9ee74-306f-4358-9302-bc1493c3dd24",
   "metadata": {},
   "outputs": [],
   "source": [
    "TemplateContent={\n",
    "        \"Subject\": \"Thank you for contacting Engi\",\n",
    "        \"Text\": \"Dear {{first_name}}, thank you for contacting us about\\r\\n{{subject}}\",\n",
    "        \"Html\": \"Dear {{first_name}}, thank you for contacting us about<p/>{{subject}}\",\n",
    "    }"
   ]
  },
  {
   "cell_type": "code",
   "execution_count": 82,
   "id": "c6467206-b04e-4db1-a9d1-69a0609f40fc",
   "metadata": {},
   "outputs": [
    {
     "data": {
      "text/plain": [
       "{'ResponseMetadata': {'RequestId': '6b505bd2-34d9-4bce-9a2d-586573cd953e',\n",
       "  'HTTPStatusCode': 200,\n",
       "  'HTTPHeaders': {'date': 'Thu, 21 Jul 2022 16:42:42 GMT',\n",
       "   'content-type': 'application/json',\n",
       "   'content-length': '2',\n",
       "   'connection': 'keep-alive',\n",
       "   'x-amzn-requestid': '6b505bd2-34d9-4bce-9a2d-586573cd953e'},\n",
       "  'RetryAttempts': 0}}"
      ]
     },
     "execution_count": 82,
     "metadata": {},
     "output_type": "execute_result"
    }
   ],
   "source": [
    "ses_client.create_email_template(\n",
    "    TemplateName=\"engi-contact-us-response-template\",\n",
    "    TemplateContent=TemplateContent\n",
    "    )"
   ]
  },
  {
   "cell_type": "code",
   "execution_count": 14,
   "id": "f9f62be3-84c4-4b34-904b-454caa17ad32",
   "metadata": {},
   "outputs": [],
   "source": [
    "import json"
   ]
  },
  {
   "cell_type": "code",
   "execution_count": 15,
   "id": "fc7ad7ee-6af5-418f-9b30-6bd77ffd8482",
   "metadata": {},
   "outputs": [
    {
     "data": {
      "text/plain": [
       "'{\"email\": \"christopherkelly@engi.network\", \"first_name\": \"chris\", \"last_name\": \"kelly\", \"subject\": \"Python support\", \"message\": \"Will Engi support Python and pytest?\"}'"
      ]
     },
     "execution_count": 15,
     "metadata": {},
     "output_type": "execute_result"
    }
   ],
   "source": [
    "json.dumps({'email': 'christopherkelly@engi.network', 'first_name': 'chris', 'last_name': 'kelly', 'subject': 'Python support', 'message': 'Will Engi support Python and pytest?'})"
   ]
  },
  {
   "cell_type": "code",
   "execution_count": 25,
   "id": "7256afac-82a9-463d-8bcc-1d545d37bdb5",
   "metadata": {},
   "outputs": [],
   "source": [
    "template_data = json.dumps(\n",
    "                {\n",
    "                    \"email\": email,\n",
    "                    \"first_name\": \"chris\",\n",
    "                    \"last_name\": \"kelly\",\n",
    "                    \"subject\": \"test\",\n",
    "                    \"message\": \"test\",\n",
    "                }\n",
    "            )"
   ]
  },
  {
   "cell_type": "code",
   "execution_count": 26,
   "id": "2ecd2ad5-a2cc-435a-8246-360dba1f2eb9",
   "metadata": {},
   "outputs": [
    {
     "data": {
      "text/plain": [
       "'{\"email\": \"christopherkelly@engi.network\", \"first_name\": \"chris\", \"last_name\": \"kelly\", \"subject\": \"test\", \"message\": \"test\"}'"
      ]
     },
     "execution_count": 26,
     "metadata": {},
     "output_type": "execute_result"
    }
   ],
   "source": [
    "template_data"
   ]
  },
  {
   "cell_type": "code",
   "execution_count": null,
   "id": "5b1de34a-d706-42f7-a829-21219aa40e29",
   "metadata": {},
   "outputs": [],
   "source": [
    "'{\"name\": \"chris\", \"favoriteanimal\": \"bonobo\"}'"
   ]
  },
  {
   "cell_type": "code",
   "execution_count": 40,
   "id": "8a25142c-b35d-446c-8421-ec5bcaa81437",
   "metadata": {},
   "outputs": [
    {
     "data": {
      "text/plain": [
       "'christopherkelly@engi.network'"
      ]
     },
     "execution_count": 40,
     "metadata": {},
     "output_type": "execute_result"
    }
   ],
   "source": [
    "to_addr"
   ]
  },
  {
   "cell_type": "code",
   "execution_count": 42,
   "id": "6834def3-f0c6-4580-b378-2b7ffa1788de",
   "metadata": {},
   "outputs": [],
   "source": []
  },
  {
   "cell_type": "code",
   "execution_count": 77,
   "id": "6fd8a74e-1707-4b39-8165-4aee003dceb9",
   "metadata": {},
   "outputs": [
    {
     "data": {
      "text/plain": [
       "{'ResponseMetadata': {'RequestId': 'b8284d30-79c0-480f-b7c7-604ae7ce0be0',\n",
       "  'HTTPStatusCode': 200,\n",
       "  'HTTPHeaders': {'date': 'Thu, 21 Jul 2022 15:46:59 GMT',\n",
       "   'content-type': 'application/json',\n",
       "   'content-length': '76',\n",
       "   'connection': 'keep-alive',\n",
       "   'x-amzn-requestid': 'b8284d30-79c0-480f-b7c7-604ae7ce0be0'},\n",
       "  'RetryAttempts': 0},\n",
       " 'MessageId': '010101822170d547-91c60db7-991a-49d0-a571-c9f3f004e94c-000000'}"
      ]
     },
     "execution_count": 77,
     "metadata": {},
     "output_type": "execute_result"
    }
   ],
   "source": [
    "#\"TemplateData\": template_data,\n",
    "r = ses_client.send_email(\n",
    "    FromEmailAddress=from_addr,\n",
    "    Destination={\n",
    "        \"ToAddresses\": [\n",
    "            to_addr,\n",
    "        ],\n",
    "    },\n",
    "    Content={\n",
    "        \"Template\": {\n",
    "            \"TemplateName\": \"engi-contact-us-template\",\n",
    "            \"TemplateData\": template_data,\n",
    "        },\n",
    "    },\n",
    "); r"
   ]
  },
  {
   "cell_type": "code",
   "execution_count": 57,
   "id": "a3cc3598-caec-4afa-8733-a49939ebefc5",
   "metadata": {},
   "outputs": [
    {
     "data": {
      "text/plain": [
       "{'ResponseMetadata': {'RequestId': 'fad39755-e32a-4b83-be89-815412a0d9c9',\n",
       "  'HTTPStatusCode': 200,\n",
       "  'HTTPHeaders': {'date': 'Thu, 21 Jul 2022 15:40:11 GMT',\n",
       "   'content-type': 'application/json',\n",
       "   'content-length': '76',\n",
       "   'connection': 'keep-alive',\n",
       "   'x-amzn-requestid': 'fad39755-e32a-4b83-be89-815412a0d9c9'},\n",
       "  'RetryAttempts': 0},\n",
       " 'MessageId': '01010182216a9e75-1afe515a-8f37-416f-ac4a-cb06aab67d3d-000000'}"
      ]
     },
     "execution_count": 57,
     "metadata": {},
     "output_type": "execute_result"
    }
   ],
   "source": [
    "r"
   ]
  },
  {
   "cell_type": "code",
   "execution_count": null,
   "id": "1365747f-1784-40d6-8ece-5addfb9cf359",
   "metadata": {},
   "outputs": [],
   "source": [
    "r = ses_client.send_email(\n",
    "    FromEmailAddress=from_addr,\n",
    "    Destination={\n",
    "        'ToAddresses': [\n",
    "            to_addr,\n",
    "        ],\n",
    "    },\n",
    "    Content={\n",
    "        'Simple': {\n",
    "            'Subject': {\n",
    "                'Data': 'test 1',\n",
    "                'Charset': 'UTF-8'\n",
    "            },\n",
    "            'Body': {\n",
    "                'Text': {\n",
    "                    'Data': 'body',\n",
    "                    'Charset': 'UTF-8'\n",
    "                },\n",
    "                'Html': {\n",
    "                    'Data': '<p>body</p>',\n",
    "                    'Charset': 'UTF-8'\n",
    "                }\n",
    "            }\n",
    "        },\n",
    "    },\n",
    "    ListManagementOptions={\n",
    "        'ContactListName': contact_list,\n",
    "        'TopicName': contact_list\n",
    "    }\n",
    "); r"
   ]
  },
  {
   "cell_type": "markdown",
   "id": "7e087281",
   "metadata": {
    "tags": []
   },
   "source": [
    "### Contact Lists"
   ]
  },
  {
   "cell_type": "code",
   "execution_count": 5,
   "id": "f40d9436",
   "metadata": {},
   "outputs": [
    {
     "data": {
      "text/plain": [
       "{'ResponseMetadata': {'RequestId': '65e9d43b-9c27-4dbd-b839-cc85619e2d72',\n",
       "  'HTTPStatusCode': 200,\n",
       "  'HTTPHeaders': {'date': 'Sat, 28 May 2022 13:51:13 GMT',\n",
       "   'content-type': 'application/x-amz-json-1.1',\n",
       "   'content-length': '113',\n",
       "   'connection': 'keep-alive',\n",
       "   'x-amzn-requestid': '65e9d43b-9c27-4dbd-b839-cc85619e2d72'},\n",
       "  'RetryAttempts': 0},\n",
       " 'ContactLists': [{'ContactListName': 'engi-newsletter',\n",
       "   'LastUpdatedTimestamp': datetime.datetime(2022, 3, 11, 6, 13, 22, 579000, tzinfo=tzlocal())}]}"
      ]
     },
     "execution_count": 5,
     "metadata": {},
     "output_type": "execute_result"
    }
   ],
   "source": [
    "ses_client.list_contact_lists()"
   ]
  },
  {
   "cell_type": "code",
   "execution_count": 65,
   "id": "a90ca945",
   "metadata": {},
   "outputs": [
    {
     "data": {
      "text/plain": [
       "{'ResponseMetadata': {'RequestId': '47a179fd-fc37-4e73-91e4-af13688b0200',\n",
       "  'HTTPStatusCode': 200,\n",
       "  'HTTPHeaders': {'date': 'Tue, 31 May 2022 14:06:54 GMT',\n",
       "   'content-type': 'application/x-amz-json-1.1',\n",
       "   'content-length': '1095',\n",
       "   'connection': 'keep-alive',\n",
       "   'x-amzn-requestid': '47a179fd-fc37-4e73-91e4-af13688b0200'},\n",
       "  'RetryAttempts': 0},\n",
       " 'ContactListName': 'engi-newsletter',\n",
       " 'Topics': [{'TopicName': 'engi-programmer',\n",
       "   'DisplayName': 'Engi Programmers',\n",
       "   'Description': 'updates of specific interest for programmers',\n",
       "   'DefaultSubscriptionStatus': 'OPT_IN'},\n",
       "  {'TopicName': 'engi-business',\n",
       "   'DisplayName': 'Engi Business',\n",
       "   'Description': 'updates of specific interest for business',\n",
       "   'DefaultSubscriptionStatus': 'OPT_IN'},\n",
       "  {'TopicName': 'engi-investor',\n",
       "   'DisplayName': 'Engi Investor',\n",
       "   'Description': 'updates of specific interest for investors',\n",
       "   'DefaultSubscriptionStatus': 'OPT_IN'},\n",
       "  {'TopicName': 'engi-curious',\n",
       "   'DisplayName': 'Engi Curious',\n",
       "   'Description': 'updates of interest for the curious',\n",
       "   'DefaultSubscriptionStatus': 'OPT_IN'},\n",
       "  {'TopicName': 'engi-newsletter',\n",
       "   'DisplayName': 'The Engi Newsletter',\n",
       "   'Description': 'subscribe to updates about the development of engi',\n",
       "   'DefaultSubscriptionStatus': 'OPT_IN'},\n",
       "  {'TopicName': 'engi-test',\n",
       "   'DisplayName': 'Engi Test',\n",
       "   'Description': 'testing',\n",
       "   'DefaultSubscriptionStatus': 'OPT_OUT'}],\n",
       " 'CreatedTimestamp': datetime.datetime(2021, 10, 10, 12, 46, 2, 662000, tzinfo=tzlocal()),\n",
       " 'LastUpdatedTimestamp': datetime.datetime(2022, 5, 31, 6, 48, 14, 819000, tzinfo=tzlocal()),\n",
       " 'Tags': [{'Key': 'engi', 'Value': 'newsletter'}]}"
      ]
     },
     "execution_count": 65,
     "metadata": {},
     "output_type": "execute_result"
    }
   ],
   "source": [
    "r = ses_client.get_contact_list(ContactListName=contact_list); r"
   ]
  },
  {
   "cell_type": "code",
   "execution_count": 66,
   "id": "b54db983-7d67-4cde-8e91-a7ab18cd8474",
   "metadata": {},
   "outputs": [
    {
     "data": {
      "text/plain": [
       "[{'TopicName': 'engi-programmer',\n",
       "  'DisplayName': 'Engi Programmers',\n",
       "  'Description': 'updates of specific interest for programmers',\n",
       "  'DefaultSubscriptionStatus': 'OPT_IN'},\n",
       " {'TopicName': 'engi-business',\n",
       "  'DisplayName': 'Engi Business',\n",
       "  'Description': 'updates of specific interest for business',\n",
       "  'DefaultSubscriptionStatus': 'OPT_IN'},\n",
       " {'TopicName': 'engi-investor',\n",
       "  'DisplayName': 'Engi Investor',\n",
       "  'Description': 'updates of specific interest for investors',\n",
       "  'DefaultSubscriptionStatus': 'OPT_IN'},\n",
       " {'TopicName': 'engi-curious',\n",
       "  'DisplayName': 'Engi Curious',\n",
       "  'Description': 'updates of interest for the curious',\n",
       "  'DefaultSubscriptionStatus': 'OPT_IN'},\n",
       " {'TopicName': 'engi-newsletter',\n",
       "  'DisplayName': 'The Engi Newsletter',\n",
       "  'Description': 'subscribe to updates about the development of engi',\n",
       "  'DefaultSubscriptionStatus': 'OPT_IN'},\n",
       " {'TopicName': 'engi-test',\n",
       "  'DisplayName': 'Engi Test',\n",
       "  'Description': 'testing',\n",
       "  'DefaultSubscriptionStatus': 'OPT_OUT'}]"
      ]
     },
     "execution_count": 66,
     "metadata": {},
     "output_type": "execute_result"
    }
   ],
   "source": [
    "r['Topics']"
   ]
  },
  {
   "cell_type": "code",
   "execution_count": 45,
   "id": "679cd023-2f80-4c3f-9239-9cb9be096fe1",
   "metadata": {},
   "outputs": [
    {
     "data": {
      "text/plain": [
       "{'ResponseMetadata': {'RequestId': '191a6fe5-9361-4358-82fc-65d679e45107',\n",
       "  'HTTPStatusCode': 200,\n",
       "  'HTTPHeaders': {'date': 'Tue, 31 May 2022 13:48:14 GMT',\n",
       "   'content-type': 'application/json',\n",
       "   'content-length': '2',\n",
       "   'connection': 'keep-alive',\n",
       "   'x-amzn-requestid': '191a6fe5-9361-4358-82fc-65d679e45107'},\n",
       "  'RetryAttempts': 0}}"
      ]
     },
     "execution_count": 45,
     "metadata": {},
     "output_type": "execute_result"
    }
   ],
   "source": [
    "r = ses_client.update_contact_list(\n",
    "    ContactListName=contact_list,\n",
    "    Topics=[\n",
    "        {\n",
    "            \"TopicName\": \"engi-programmer\",\n",
    "            \"DisplayName\": \"Engi Programmers\",\n",
    "            \"Description\": \"updates of specific interest for programmers\",\n",
    "            \"DefaultSubscriptionStatus\": \"OPT_IN\",\n",
    "        },\n",
    "        {\n",
    "            \"TopicName\": \"engi-business\",\n",
    "            \"DisplayName\": \"Engi Business\",\n",
    "            \"Description\": \"updates of specific interest for business\",\n",
    "            \"DefaultSubscriptionStatus\": \"OPT_IN\",\n",
    "        },\n",
    "        {\n",
    "            \"TopicName\": \"engi-investor\",\n",
    "            \"DisplayName\": \"Engi Investor\",\n",
    "            \"Description\": \"updates of specific interest for investors\",\n",
    "            \"DefaultSubscriptionStatus\": \"OPT_IN\",\n",
    "        },\n",
    "        {\n",
    "            \"TopicName\": \"engi-curious\",\n",
    "            \"DisplayName\": \"Engi Curious\",\n",
    "            \"Description\": \"updates of interest for the curious\",\n",
    "            \"DefaultSubscriptionStatus\": \"OPT_IN\",\n",
    "        },\n",
    "        {\n",
    "            \"TopicName\": \"engi-newsletter\",\n",
    "            \"DisplayName\": \"The Engi Newsletter\",\n",
    "            \"Description\": \"subscribe to updates about the development of engi\",\n",
    "            \"DefaultSubscriptionStatus\": \"OPT_IN\",\n",
    "        },\n",
    "        {\n",
    "            \"TopicName\": test_topic,\n",
    "            \"DisplayName\": \"Engi Test\",\n",
    "            \"Description\": \"testing\",\n",
    "            \"DefaultSubscriptionStatus\": \"OPT_OUT\",\n",
    "        },\n",
    "    ],\n",
    "); r"
   ]
  },
  {
   "cell_type": "code",
   "execution_count": 10,
   "id": "cdbae7d1-f3b6-4848-9c22-fa0015a7964c",
   "metadata": {
    "collapsed": true,
    "jupyter": {
     "outputs_hidden": true
    },
    "tags": []
   },
   "outputs": [
    {
     "ename": "BadRequestException",
     "evalue": "An error occurred (BadRequestException) when calling the CreateContactList operation: A maximum of 1 Lists allowed per account.",
     "output_type": "error",
     "traceback": [
      "\u001b[0;31m---------------------------------------------------------------------------\u001b[0m",
      "\u001b[0;31mBadRequestException\u001b[0m                       Traceback (most recent call last)",
      "Input \u001b[0;32mIn [10]\u001b[0m, in \u001b[0;36m<cell line: 1>\u001b[0;34m()\u001b[0m\n\u001b[0;32m----> 1\u001b[0m r \u001b[38;5;241m=\u001b[39m \u001b[43mses_client\u001b[49m\u001b[38;5;241;43m.\u001b[39;49m\u001b[43mcreate_contact_list\u001b[49m\u001b[43m(\u001b[49m\n\u001b[1;32m      2\u001b[0m \u001b[43m    \u001b[49m\u001b[43mContactListName\u001b[49m\u001b[38;5;241;43m=\u001b[39;49m\u001b[38;5;124;43m\"\u001b[39;49m\u001b[38;5;124;43mtesting\u001b[39;49m\u001b[38;5;124;43m\"\u001b[39;49m\u001b[43m,\u001b[49m\n\u001b[1;32m      3\u001b[0m \u001b[43m    \u001b[49m\u001b[43mTopics\u001b[49m\u001b[38;5;241;43m=\u001b[39;49m\u001b[43mr\u001b[49m\u001b[43m[\u001b[49m\u001b[38;5;124;43m'\u001b[39;49m\u001b[38;5;124;43mTopics\u001b[39;49m\u001b[38;5;124;43m'\u001b[39;49m\u001b[43m]\u001b[49m\u001b[43m,\u001b[49m\n\u001b[1;32m      4\u001b[0m \u001b[43m    \u001b[49m\u001b[43mDescription\u001b[49m\u001b[38;5;241;43m=\u001b[39;49m\u001b[38;5;124;43m\"\u001b[39;49m\u001b[38;5;124;43mtesting\u001b[39;49m\u001b[38;5;124;43m\"\u001b[39;49m\u001b[43m,\u001b[49m\n\u001b[1;32m      5\u001b[0m \u001b[43m)\u001b[49m\n",
      "File \u001b[0;32m~/.local/share/virtualenvs/email-server-api-SaTOTcjm/lib/python3.9/site-packages/botocore/client.py:508\u001b[0m, in \u001b[0;36mClientCreator._create_api_method.<locals>._api_call\u001b[0;34m(self, *args, **kwargs)\u001b[0m\n\u001b[1;32m    504\u001b[0m     \u001b[38;5;28;01mraise\u001b[39;00m \u001b[38;5;167;01mTypeError\u001b[39;00m(\n\u001b[1;32m    505\u001b[0m         \u001b[38;5;124mf\u001b[39m\u001b[38;5;124m\"\u001b[39m\u001b[38;5;132;01m{\u001b[39;00mpy_operation_name\u001b[38;5;132;01m}\u001b[39;00m\u001b[38;5;124m() only accepts keyword arguments.\u001b[39m\u001b[38;5;124m\"\u001b[39m\n\u001b[1;32m    506\u001b[0m     )\n\u001b[1;32m    507\u001b[0m \u001b[38;5;66;03m# The \"self\" in this scope is referring to the BaseClient.\u001b[39;00m\n\u001b[0;32m--> 508\u001b[0m \u001b[38;5;28;01mreturn\u001b[39;00m \u001b[38;5;28;43mself\u001b[39;49m\u001b[38;5;241;43m.\u001b[39;49m\u001b[43m_make_api_call\u001b[49m\u001b[43m(\u001b[49m\u001b[43moperation_name\u001b[49m\u001b[43m,\u001b[49m\u001b[43m \u001b[49m\u001b[43mkwargs\u001b[49m\u001b[43m)\u001b[49m\n",
      "File \u001b[0;32m~/.local/share/virtualenvs/email-server-api-SaTOTcjm/lib/python3.9/site-packages/botocore/client.py:911\u001b[0m, in \u001b[0;36mBaseClient._make_api_call\u001b[0;34m(self, operation_name, api_params)\u001b[0m\n\u001b[1;32m    909\u001b[0m     error_code \u001b[38;5;241m=\u001b[39m parsed_response\u001b[38;5;241m.\u001b[39mget(\u001b[38;5;124m\"\u001b[39m\u001b[38;5;124mError\u001b[39m\u001b[38;5;124m\"\u001b[39m, {})\u001b[38;5;241m.\u001b[39mget(\u001b[38;5;124m\"\u001b[39m\u001b[38;5;124mCode\u001b[39m\u001b[38;5;124m\"\u001b[39m)\n\u001b[1;32m    910\u001b[0m     error_class \u001b[38;5;241m=\u001b[39m \u001b[38;5;28mself\u001b[39m\u001b[38;5;241m.\u001b[39mexceptions\u001b[38;5;241m.\u001b[39mfrom_code(error_code)\n\u001b[0;32m--> 911\u001b[0m     \u001b[38;5;28;01mraise\u001b[39;00m error_class(parsed_response, operation_name)\n\u001b[1;32m    912\u001b[0m \u001b[38;5;28;01melse\u001b[39;00m:\n\u001b[1;32m    913\u001b[0m     \u001b[38;5;28;01mreturn\u001b[39;00m parsed_response\n",
      "\u001b[0;31mBadRequestException\u001b[0m: An error occurred (BadRequestException) when calling the CreateContactList operation: A maximum of 1 Lists allowed per account."
     ]
    }
   ],
   "source": [
    "r = ses_client.create_contact_list(\n",
    "    ContactListName=\"testing\",\n",
    "    Topics=r['Topics'],\n",
    "    Description=\"testing\",\n",
    ")"
   ]
  },
  {
   "cell_type": "code",
   "execution_count": null,
   "id": "21fa8963-620f-4e21-af7e-7453794e9674",
   "metadata": {},
   "outputs": [],
   "source": []
  },
  {
   "cell_type": "code",
   "execution_count": 5,
   "id": "37bb4af9-82c9-4d7a-9754-5b31eb72b76a",
   "metadata": {},
   "outputs": [
    {
     "data": {
      "text/plain": [
       "{'ResponseMetadata': {'RequestId': '540997bf-4e34-40ac-8adf-fa8871ccdc19',\n",
       "  'HTTPStatusCode': 200,\n",
       "  'HTTPHeaders': {'date': 'Thu, 02 Jun 2022 15:53:31 GMT',\n",
       "   'content-type': 'application/json',\n",
       "   'content-length': '4685',\n",
       "   'connection': 'close',\n",
       "   'x-amzn-requestid': '540997bf-4e34-40ac-8adf-fa8871ccdc19'},\n",
       "  'RetryAttempts': 0},\n",
       " 'Contacts': [{'EmailAddress': 'keith1015+engi@gmail.com',\n",
       "   'TopicDefaultPreferences': [{'TopicName': 'engi-programmer',\n",
       "     'SubscriptionStatus': 'OPT_IN'},\n",
       "    {'TopicName': 'engi-business', 'SubscriptionStatus': 'OPT_IN'},\n",
       "    {'TopicName': 'engi-investor', 'SubscriptionStatus': 'OPT_IN'},\n",
       "    {'TopicName': 'engi-curious', 'SubscriptionStatus': 'OPT_IN'},\n",
       "    {'TopicName': 'engi-newsletter', 'SubscriptionStatus': 'OPT_IN'},\n",
       "    {'TopicName': 'engi-test', 'SubscriptionStatus': 'OPT_OUT'}],\n",
       "   'UnsubscribeAll': False,\n",
       "   'LastUpdatedTimestamp': datetime.datetime(2022, 5, 26, 23, 30, 46, 92000, tzinfo=tzlocal())},\n",
       "  {'EmailAddress': 'ficegon536@nifect.com',\n",
       "   'TopicDefaultPreferences': [{'TopicName': 'engi-programmer',\n",
       "     'SubscriptionStatus': 'OPT_IN'},\n",
       "    {'TopicName': 'engi-business', 'SubscriptionStatus': 'OPT_IN'},\n",
       "    {'TopicName': 'engi-investor', 'SubscriptionStatus': 'OPT_IN'},\n",
       "    {'TopicName': 'engi-curious', 'SubscriptionStatus': 'OPT_IN'},\n",
       "    {'TopicName': 'engi-newsletter', 'SubscriptionStatus': 'OPT_IN'},\n",
       "    {'TopicName': 'engi-test', 'SubscriptionStatus': 'OPT_OUT'}],\n",
       "   'UnsubscribeAll': False,\n",
       "   'LastUpdatedTimestamp': datetime.datetime(2022, 5, 29, 9, 18, 56, 53000, tzinfo=tzlocal())},\n",
       "  {'EmailAddress': 'garrett.maring@gmail.com',\n",
       "   'TopicDefaultPreferences': [{'TopicName': 'engi-programmer',\n",
       "     'SubscriptionStatus': 'OPT_IN'},\n",
       "    {'TopicName': 'engi-business', 'SubscriptionStatus': 'OPT_IN'},\n",
       "    {'TopicName': 'engi-investor', 'SubscriptionStatus': 'OPT_IN'},\n",
       "    {'TopicName': 'engi-curious', 'SubscriptionStatus': 'OPT_IN'},\n",
       "    {'TopicName': 'engi-newsletter', 'SubscriptionStatus': 'OPT_IN'},\n",
       "    {'TopicName': 'engi-test', 'SubscriptionStatus': 'OPT_OUT'}],\n",
       "   'UnsubscribeAll': False,\n",
       "   'LastUpdatedTimestamp': datetime.datetime(2022, 3, 30, 17, 48, 45, 30000, tzinfo=tzlocal())},\n",
       "  {'EmailAddress': 'regigo2526@about27.com',\n",
       "   'TopicDefaultPreferences': [{'TopicName': 'engi-programmer',\n",
       "     'SubscriptionStatus': 'OPT_IN'},\n",
       "    {'TopicName': 'engi-business', 'SubscriptionStatus': 'OPT_IN'},\n",
       "    {'TopicName': 'engi-investor', 'SubscriptionStatus': 'OPT_IN'},\n",
       "    {'TopicName': 'engi-curious', 'SubscriptionStatus': 'OPT_IN'},\n",
       "    {'TopicName': 'engi-newsletter', 'SubscriptionStatus': 'OPT_IN'},\n",
       "    {'TopicName': 'engi-test', 'SubscriptionStatus': 'OPT_OUT'}],\n",
       "   'UnsubscribeAll': False,\n",
       "   'LastUpdatedTimestamp': datetime.datetime(2022, 5, 29, 9, 24, 37, 47000, tzinfo=tzlocal())},\n",
       "  {'EmailAddress': 'fayepa6883@falkyz.com',\n",
       "   'TopicPreferences': [{'TopicName': 'engi-curious',\n",
       "     'SubscriptionStatus': 'OPT_IN'},\n",
       "    {'TopicName': 'engi-business', 'SubscriptionStatus': 'OPT_IN'},\n",
       "    {'TopicName': 'engi-newsletter', 'SubscriptionStatus': 'OPT_IN'},\n",
       "    {'TopicName': 'engi-investor', 'SubscriptionStatus': 'OPT_IN'},\n",
       "    {'TopicName': 'engi-programmer', 'SubscriptionStatus': 'OPT_IN'}],\n",
       "   'TopicDefaultPreferences': [{'TopicName': 'engi-test',\n",
       "     'SubscriptionStatus': 'OPT_OUT'}],\n",
       "   'UnsubscribeAll': False,\n",
       "   'LastUpdatedTimestamp': datetime.datetime(2022, 6, 2, 8, 27, 54, 433000, tzinfo=tzlocal())},\n",
       "  {'EmailAddress': 'cyung10892@gmail.com',\n",
       "   'TopicDefaultPreferences': [{'TopicName': 'engi-programmer',\n",
       "     'SubscriptionStatus': 'OPT_IN'},\n",
       "    {'TopicName': 'engi-business', 'SubscriptionStatus': 'OPT_IN'},\n",
       "    {'TopicName': 'engi-investor', 'SubscriptionStatus': 'OPT_IN'},\n",
       "    {'TopicName': 'engi-curious', 'SubscriptionStatus': 'OPT_IN'},\n",
       "    {'TopicName': 'engi-newsletter', 'SubscriptionStatus': 'OPT_IN'},\n",
       "    {'TopicName': 'engi-test', 'SubscriptionStatus': 'OPT_OUT'}],\n",
       "   'UnsubscribeAll': False,\n",
       "   'LastUpdatedTimestamp': datetime.datetime(2022, 5, 13, 9, 17, 33, 254000, tzinfo=tzlocal())},\n",
       "  {'EmailAddress': 'test-cz8a8h9kx@srv1.mail-tester.com',\n",
       "   'TopicDefaultPreferences': [{'TopicName': 'engi-programmer',\n",
       "     'SubscriptionStatus': 'OPT_IN'},\n",
       "    {'TopicName': 'engi-business', 'SubscriptionStatus': 'OPT_IN'},\n",
       "    {'TopicName': 'engi-investor', 'SubscriptionStatus': 'OPT_IN'},\n",
       "    {'TopicName': 'engi-curious', 'SubscriptionStatus': 'OPT_IN'},\n",
       "    {'TopicName': 'engi-newsletter', 'SubscriptionStatus': 'OPT_IN'},\n",
       "    {'TopicName': 'engi-test', 'SubscriptionStatus': 'OPT_OUT'}],\n",
       "   'UnsubscribeAll': False,\n",
       "   'LastUpdatedTimestamp': datetime.datetime(2022, 5, 13, 12, 28, 25, 434000, tzinfo=tzlocal())},\n",
       "  {'EmailAddress': 'chrisyung@engi.network',\n",
       "   'TopicDefaultPreferences': [{'TopicName': 'engi-programmer',\n",
       "     'SubscriptionStatus': 'OPT_IN'},\n",
       "    {'TopicName': 'engi-business', 'SubscriptionStatus': 'OPT_IN'},\n",
       "    {'TopicName': 'engi-investor', 'SubscriptionStatus': 'OPT_IN'},\n",
       "    {'TopicName': 'engi-curious', 'SubscriptionStatus': 'OPT_IN'},\n",
       "    {'TopicName': 'engi-newsletter', 'SubscriptionStatus': 'OPT_IN'},\n",
       "    {'TopicName': 'engi-test', 'SubscriptionStatus': 'OPT_OUT'}],\n",
       "   'UnsubscribeAll': False,\n",
       "   'LastUpdatedTimestamp': datetime.datetime(2022, 3, 31, 16, 52, 32, 97000, tzinfo=tzlocal())},\n",
       "  {'EmailAddress': 'g@engi.network',\n",
       "   'TopicDefaultPreferences': [{'TopicName': 'engi-programmer',\n",
       "     'SubscriptionStatus': 'OPT_IN'},\n",
       "    {'TopicName': 'engi-business', 'SubscriptionStatus': 'OPT_IN'},\n",
       "    {'TopicName': 'engi-investor', 'SubscriptionStatus': 'OPT_IN'},\n",
       "    {'TopicName': 'engi-curious', 'SubscriptionStatus': 'OPT_IN'},\n",
       "    {'TopicName': 'engi-newsletter', 'SubscriptionStatus': 'OPT_IN'},\n",
       "    {'TopicName': 'engi-test', 'SubscriptionStatus': 'OPT_OUT'}],\n",
       "   'UnsubscribeAll': False,\n",
       "   'LastUpdatedTimestamp': datetime.datetime(2022, 3, 18, 11, 12, 42, 698000, tzinfo=tzlocal())}]}"
      ]
     },
     "execution_count": 5,
     "metadata": {},
     "output_type": "execute_result"
    }
   ],
   "source": [
    "ses_client.list_contacts(ContactListName=contact_list)"
   ]
  },
  {
   "cell_type": "code",
   "execution_count": 30,
   "id": "f94adb43-643f-4057-affe-91e2e7adb7c0",
   "metadata": {},
   "outputs": [],
   "source": []
  },
  {
   "cell_type": "code",
   "execution_count": 6,
   "id": "6ad72ac3-dafa-4291-ae7d-826467240938",
   "metadata": {},
   "outputs": [
    {
     "data": {
      "text/plain": [
       "{'ResponseMetadata': {'RequestId': '1999cae8-786c-44a0-bbcb-eba54003ba97',\n",
       "  'HTTPStatusCode': 200,\n",
       "  'HTTPHeaders': {'date': 'Thu, 02 Jun 2022 16:00:07 GMT',\n",
       "   'content-type': 'application/json',\n",
       "   'content-length': '32',\n",
       "   'connection': 'close',\n",
       "   'x-amzn-requestid': '1999cae8-786c-44a0-bbcb-eba54003ba97'},\n",
       "  'RetryAttempts': 0},\n",
       " 'Contacts': []}"
      ]
     },
     "execution_count": 6,
     "metadata": {},
     "output_type": "execute_result"
    }
   ],
   "source": [
    "topic = contact_list\n",
    "topic = test_topic\n",
    "r = ses_client.list_contacts(\n",
    "    ContactListName=contact_list,\n",
    "    Filter={\n",
    "        'FilteredStatus': 'OPT_IN',\n",
    "        'TopicFilter': {\n",
    "            'TopicName': topic,\n",
    "            'UseDefaultIfPreferenceUnavailable': True\n",
    "        }\n",
    "    },\n",
    "    PageSize=10,\n",
    "); r"
   ]
  },
  {
   "cell_type": "code",
   "execution_count": 40,
   "id": "80d2b0ad-fb10-496b-8aeb-4783d0205c29",
   "metadata": {},
   "outputs": [
    {
     "data": {
      "text/plain": [
       "{'ResponseMetadata': {'RequestId': '563dd851-acad-4799-889e-5d6a10a00a5c',\n",
       "  'HTTPStatusCode': 200,\n",
       "  'HTTPHeaders': {'date': 'Tue, 31 May 2022 13:41:12 GMT',\n",
       "   'content-type': 'application/json',\n",
       "   'content-length': '32',\n",
       "   'connection': 'close',\n",
       "   'x-amzn-requestid': '563dd851-acad-4799-889e-5d6a10a00a5c'},\n",
       "  'RetryAttempts': 0},\n",
       " 'Contacts': []}"
      ]
     },
     "execution_count": 40,
     "metadata": {},
     "output_type": "execute_result"
    }
   ],
   "source": [
    "r"
   ]
  },
  {
   "cell_type": "code",
   "execution_count": 14,
   "id": "117cd528-05a8-4f04-8291-7c4511341f42",
   "metadata": {},
   "outputs": [],
   "source": [
    "r = client.list_contacts(ContactListName=contact_list, NextToken=r[\"NextToken\"])"
   ]
  },
  {
   "cell_type": "code",
   "execution_count": 8,
   "id": "ccc32b57-37e3-4511-ac6e-4efd88ec4b6d",
   "metadata": {},
   "outputs": [],
   "source": [
    "r = client.update_contact_list(\n",
    "    ContactListName=contact_list,\n",
    "    Topics=topics,\n",
    ")"
   ]
  },
  {
   "cell_type": "code",
   "execution_count": 9,
   "id": "f4ca81f2-d86a-4cb0-b8b6-0f54c05c4cef",
   "metadata": {},
   "outputs": [
    {
     "data": {
      "text/plain": [
       "{'ResponseMetadata': {'RequestId': 'aac878c3-e398-487b-a1a4-36e81891dad2',\n",
       "  'HTTPStatusCode': 200,\n",
       "  'HTTPHeaders': {'date': 'Fri, 11 Mar 2022 14:13:22 GMT',\n",
       "   'content-type': 'application/json',\n",
       "   'content-length': '2',\n",
       "   'connection': 'keep-alive',\n",
       "   'x-amzn-requestid': 'aac878c3-e398-487b-a1a4-36e81891dad2'},\n",
       "  'RetryAttempts': 0}}"
      ]
     },
     "execution_count": 9,
     "metadata": {},
     "output_type": "execute_result"
    }
   ],
   "source": [
    "r"
   ]
  },
  {
   "cell_type": "markdown",
   "id": "80951465-19e0-4b89-b48b-4390c934099c",
   "metadata": {
    "jp-MarkdownHeadingCollapsed": true,
    "tags": []
   },
   "source": [
    "### Contact Management"
   ]
  },
  {
   "cell_type": "code",
   "execution_count": 51,
   "id": "3e03b95c-389a-4b86-a95e-9e99c1cdccb8",
   "metadata": {},
   "outputs": [
    {
     "data": {
      "text/plain": [
       "{'ResponseMetadata': {'RequestId': 'a543606e-da63-43a7-a66c-a418f87ba605',\n",
       "  'HTTPStatusCode': 200,\n",
       "  'HTTPHeaders': {'date': 'Tue, 31 May 2022 13:55:03 GMT',\n",
       "   'content-type': 'application/json',\n",
       "   'content-length': '2',\n",
       "   'connection': 'keep-alive',\n",
       "   'x-amzn-requestid': 'a543606e-da63-43a7-a66c-a418f87ba605'},\n",
       "  'RetryAttempts': 0}}"
      ]
     },
     "execution_count": 51,
     "metadata": {},
     "output_type": "execute_result"
    }
   ],
   "source": [
    "r = ses_client.create_contact(\n",
    "    ContactListName=contact_list,\n",
    "    EmailAddress=email\n",
    "); r"
   ]
  },
  {
   "cell_type": "code",
   "execution_count": 57,
   "id": "5a54e301-6a2a-49d0-a55d-2385a2242798",
   "metadata": {
    "tags": []
   },
   "outputs": [
    {
     "data": {
      "text/plain": [
       "{'ResponseMetadata': {'RequestId': '7741901d-d6ee-415a-bca3-7485ccd4b7ec',\n",
       "  'HTTPStatusCode': 200,\n",
       "  'HTTPHeaders': {'date': 'Thu, 02 Jun 2022 17:49:13 GMT',\n",
       "   'content-type': 'application/x-amz-json-1.1',\n",
       "   'content-length': '2',\n",
       "   'connection': 'keep-alive',\n",
       "   'x-amzn-requestid': '7741901d-d6ee-415a-bca3-7485ccd4b7ec'},\n",
       "  'RetryAttempts': 0}}"
      ]
     },
     "execution_count": 57,
     "metadata": {},
     "output_type": "execute_result"
    }
   ],
   "source": [
    "r = ses_client.delete_contact(\n",
    "    ContactListName=contact_list,\n",
    "    EmailAddress=\"garrett.maring@gmail.com\"\n",
    "); r"
   ]
  },
  {
   "cell_type": "code",
   "execution_count": 54,
   "id": "d79485a6-8099-43e9-8084-8730b3b536be",
   "metadata": {},
   "outputs": [],
   "source": [
    "r = ses_client.get_contact(\n",
    "    ContactListName=contact_list,\n",
    "    EmailAddress=\"g@engi.network\"\n",
    ")"
   ]
  },
  {
   "cell_type": "code",
   "execution_count": 55,
   "id": "4115784f-d21d-449e-b3bd-23fd4632cbf1",
   "metadata": {},
   "outputs": [
    {
     "data": {
      "text/plain": [
       "{'ResponseMetadata': {'RequestId': 'a18e0c9f-b692-4afc-a282-398159798bef',\n",
       "  'HTTPStatusCode': 200,\n",
       "  'HTTPHeaders': {'date': 'Thu, 02 Jun 2022 17:45:48 GMT',\n",
       "   'content-type': 'application/x-amz-json-1.1',\n",
       "   'content-length': '602',\n",
       "   'connection': 'keep-alive',\n",
       "   'x-amzn-requestid': 'a18e0c9f-b692-4afc-a282-398159798bef'},\n",
       "  'RetryAttempts': 0},\n",
       " 'ContactListName': 'engi-newsletter',\n",
       " 'EmailAddress': 'g@engi.network',\n",
       " 'TopicDefaultPreferences': [{'TopicName': 'engi-programmer',\n",
       "   'SubscriptionStatus': 'OPT_IN'},\n",
       "  {'TopicName': 'engi-business', 'SubscriptionStatus': 'OPT_IN'},\n",
       "  {'TopicName': 'engi-investor', 'SubscriptionStatus': 'OPT_IN'},\n",
       "  {'TopicName': 'engi-curious', 'SubscriptionStatus': 'OPT_IN'},\n",
       "  {'TopicName': 'engi-newsletter', 'SubscriptionStatus': 'OPT_IN'},\n",
       "  {'TopicName': 'engi-test', 'SubscriptionStatus': 'OPT_OUT'}],\n",
       " 'UnsubscribeAll': False,\n",
       " 'AttributesData': '{}',\n",
       " 'CreatedTimestamp': datetime.datetime(2022, 3, 17, 12, 16, 30, 922000, tzinfo=tzlocal()),\n",
       " 'LastUpdatedTimestamp': datetime.datetime(2022, 3, 18, 11, 12, 42, 698000, tzinfo=tzlocal())}"
      ]
     },
     "execution_count": 55,
     "metadata": {},
     "output_type": "execute_result"
    }
   ],
   "source": [
    "r"
   ]
  },
  {
   "cell_type": "code",
   "execution_count": 30,
   "id": "1063237e-5ffb-4e7d-ad03-6af9151871d2",
   "metadata": {},
   "outputs": [
    {
     "ename": "NotFoundException",
     "evalue": "An error occurred (NotFoundException) when calling the GetContact operation: christopherkelly@engi.network doesn't exist in List.",
     "output_type": "error",
     "traceback": [
      "\u001b[0;31m---------------------------------------------------------------------------\u001b[0m",
      "\u001b[0;31mNotFoundException\u001b[0m                         Traceback (most recent call last)",
      "Input \u001b[0;32mIn [30]\u001b[0m, in \u001b[0;36m<cell line: 1>\u001b[0;34m()\u001b[0m\n\u001b[0;32m----> 1\u001b[0m r \u001b[38;5;241m=\u001b[39m \u001b[43mses_client\u001b[49m\u001b[38;5;241;43m.\u001b[39;49m\u001b[43mget_contact\u001b[49m\u001b[43m(\u001b[49m\n\u001b[1;32m      2\u001b[0m \u001b[43m    \u001b[49m\u001b[43mContactListName\u001b[49m\u001b[38;5;241;43m=\u001b[39;49m\u001b[43mcontact_list\u001b[49m\u001b[43m,\u001b[49m\n\u001b[1;32m      3\u001b[0m \u001b[43m    \u001b[49m\u001b[43mEmailAddress\u001b[49m\u001b[38;5;241;43m=\u001b[39;49m\u001b[43memail\u001b[49m\n\u001b[1;32m      4\u001b[0m \u001b[43m)\u001b[49m\n",
      "File \u001b[0;32m~/.local/share/virtualenvs/email-server-api-SaTOTcjm/lib/python3.9/site-packages/botocore/client.py:508\u001b[0m, in \u001b[0;36mClientCreator._create_api_method.<locals>._api_call\u001b[0;34m(self, *args, **kwargs)\u001b[0m\n\u001b[1;32m    504\u001b[0m     \u001b[38;5;28;01mraise\u001b[39;00m \u001b[38;5;167;01mTypeError\u001b[39;00m(\n\u001b[1;32m    505\u001b[0m         \u001b[38;5;124mf\u001b[39m\u001b[38;5;124m\"\u001b[39m\u001b[38;5;132;01m{\u001b[39;00mpy_operation_name\u001b[38;5;132;01m}\u001b[39;00m\u001b[38;5;124m() only accepts keyword arguments.\u001b[39m\u001b[38;5;124m\"\u001b[39m\n\u001b[1;32m    506\u001b[0m     )\n\u001b[1;32m    507\u001b[0m \u001b[38;5;66;03m# The \"self\" in this scope is referring to the BaseClient.\u001b[39;00m\n\u001b[0;32m--> 508\u001b[0m \u001b[38;5;28;01mreturn\u001b[39;00m \u001b[38;5;28;43mself\u001b[39;49m\u001b[38;5;241;43m.\u001b[39;49m\u001b[43m_make_api_call\u001b[49m\u001b[43m(\u001b[49m\u001b[43moperation_name\u001b[49m\u001b[43m,\u001b[49m\u001b[43m \u001b[49m\u001b[43mkwargs\u001b[49m\u001b[43m)\u001b[49m\n",
      "File \u001b[0;32m~/.local/share/virtualenvs/email-server-api-SaTOTcjm/lib/python3.9/site-packages/botocore/client.py:911\u001b[0m, in \u001b[0;36mBaseClient._make_api_call\u001b[0;34m(self, operation_name, api_params)\u001b[0m\n\u001b[1;32m    909\u001b[0m     error_code \u001b[38;5;241m=\u001b[39m parsed_response\u001b[38;5;241m.\u001b[39mget(\u001b[38;5;124m\"\u001b[39m\u001b[38;5;124mError\u001b[39m\u001b[38;5;124m\"\u001b[39m, {})\u001b[38;5;241m.\u001b[39mget(\u001b[38;5;124m\"\u001b[39m\u001b[38;5;124mCode\u001b[39m\u001b[38;5;124m\"\u001b[39m)\n\u001b[1;32m    910\u001b[0m     error_class \u001b[38;5;241m=\u001b[39m \u001b[38;5;28mself\u001b[39m\u001b[38;5;241m.\u001b[39mexceptions\u001b[38;5;241m.\u001b[39mfrom_code(error_code)\n\u001b[0;32m--> 911\u001b[0m     \u001b[38;5;28;01mraise\u001b[39;00m error_class(parsed_response, operation_name)\n\u001b[1;32m    912\u001b[0m \u001b[38;5;28;01melse\u001b[39;00m:\n\u001b[1;32m    913\u001b[0m     \u001b[38;5;28;01mreturn\u001b[39;00m parsed_response\n",
      "\u001b[0;31mNotFoundException\u001b[0m: An error occurred (NotFoundException) when calling the GetContact operation: christopherkelly@engi.network doesn't exist in List."
     ]
    }
   ],
   "source": [
    "r = ses_client.get_contact(\n",
    "    ContactListName=contact_list,\n",
    "    EmailAddress=email\n",
    ")#; r"
   ]
  },
  {
   "cell_type": "code",
   "execution_count": 53,
   "id": "b9b2fa75-6d0e-458c-bfb0-7c62b37ec780",
   "metadata": {},
   "outputs": [
    {
     "data": {
      "text/plain": [
       "{'ResponseMetadata': {'RequestId': 'b9804bad-c7d1-412b-97f9-f061f8b0527a',\n",
       "  'HTTPStatusCode': 200,\n",
       "  'HTTPHeaders': {'date': 'Tue, 31 May 2022 13:55:25 GMT',\n",
       "   'content-type': 'application/json',\n",
       "   'content-length': '2',\n",
       "   'connection': 'keep-alive',\n",
       "   'x-amzn-requestid': 'b9804bad-c7d1-412b-97f9-f061f8b0527a'},\n",
       "  'RetryAttempts': 0}}"
      ]
     },
     "execution_count": 53,
     "metadata": {},
     "output_type": "execute_result"
    }
   ],
   "source": [
    "r = ses_client.update_contact(\n",
    "    ContactListName=contact_list,\n",
    "    EmailAddress=email,\n",
    "    TopicPreferences=[\n",
    "        {\n",
    "            'TopicName': 'engi-test',\n",
    "            'SubscriptionStatus': 'OPT_IN'\n",
    "        },\n",
    "    ],\n",
    "    UnsubscribeAll=False,\n",
    "    AttributesData='{\"name\": \"chris\", \"favoriteanimal\": \"bonobo\"}'\n",
    "); r"
   ]
  },
  {
   "cell_type": "code",
   "execution_count": 18,
   "id": "9878fe83-5537-4986-ae72-145f21b2276d",
   "metadata": {},
   "outputs": [
    {
     "data": {
      "text/plain": [
       "'christopherkelly@engi.network'"
      ]
     },
     "execution_count": 18,
     "metadata": {},
     "output_type": "execute_result"
    }
   ],
   "source": [
    "email"
   ]
  },
  {
   "cell_type": "code",
   "execution_count": 20,
   "id": "791e23cb-7c1f-4230-ba07-e7141a837795",
   "metadata": {},
   "outputs": [],
   "source": [
    "email = \"mibiliy544@dilanfa.com\""
   ]
  },
  {
   "cell_type": "code",
   "execution_count": 21,
   "id": "0741ef29-094a-48d8-a059-7695d75d5bd4",
   "metadata": {},
   "outputs": [
    {
     "data": {
      "text/plain": [
       "{'ResponseMetadata': {'RequestId': 'ee6aac12-e86d-4f58-983d-16961983f3c8',\n",
       "  'HTTPStatusCode': 200,\n",
       "  'HTTPHeaders': {'date': 'Thu, 02 Jun 2022 16:53:47 GMT',\n",
       "   'content-type': 'application/x-amz-json-1.1',\n",
       "   'content-length': '607',\n",
       "   'connection': 'keep-alive',\n",
       "   'x-amzn-requestid': 'ee6aac12-e86d-4f58-983d-16961983f3c8'},\n",
       "  'RetryAttempts': 0},\n",
       " 'ContactListName': 'engi-newsletter',\n",
       " 'EmailAddress': 'mibiliy544@dilanfa.com',\n",
       " 'TopicPreferences': [{'TopicName': 'engi-curious',\n",
       "   'SubscriptionStatus': 'OPT_IN'},\n",
       "  {'TopicName': 'engi-business', 'SubscriptionStatus': 'OPT_IN'},\n",
       "  {'TopicName': 'engi-newsletter', 'SubscriptionStatus': 'OPT_IN'},\n",
       "  {'TopicName': 'engi-investor', 'SubscriptionStatus': 'OPT_IN'},\n",
       "  {'TopicName': 'engi-programmer', 'SubscriptionStatus': 'OPT_IN'}],\n",
       " 'TopicDefaultPreferences': [{'TopicName': 'engi-test',\n",
       "   'SubscriptionStatus': 'OPT_OUT'}],\n",
       " 'UnsubscribeAll': False,\n",
       " 'AttributesData': '{}',\n",
       " 'CreatedTimestamp': datetime.datetime(2022, 6, 2, 9, 44, 28, 672000, tzinfo=tzlocal()),\n",
       " 'LastUpdatedTimestamp': datetime.datetime(2022, 6, 2, 9, 44, 28, 672000, tzinfo=tzlocal())}"
      ]
     },
     "execution_count": 21,
     "metadata": {},
     "output_type": "execute_result"
    }
   ],
   "source": [
    "r = ses_client.get_contact(\n",
    "    ContactListName=contact_list,\n",
    "    EmailAddress=email\n",
    "); r"
   ]
  },
  {
   "cell_type": "code",
   "execution_count": null,
   "id": "9680be7a-6eda-4cd9-bd19-60ee87aa8477",
   "metadata": {},
   "outputs": [],
   "source": []
  },
  {
   "cell_type": "code",
   "execution_count": 16,
   "id": "e3e0546b-87b7-49cd-9f4f-1f3af69ac26b",
   "metadata": {},
   "outputs": [
    {
     "data": {
      "text/plain": [
       "['engi-newsletter']"
      ]
     },
     "execution_count": 16,
     "metadata": {},
     "output_type": "execute_result"
    }
   ],
   "source": [
    "[d[\"TopicName\"] for d in r[\"TopicPreferences\"]]"
   ]
  },
  {
   "cell_type": "code",
   "execution_count": 18,
   "id": "d29592bb-6609-475a-bbfd-5b868457275d",
   "metadata": {},
   "outputs": [
    {
     "data": {
      "text/plain": [
       "200"
      ]
     },
     "execution_count": 18,
     "metadata": {},
     "output_type": "execute_result"
    }
   ],
   "source": [
    "r[\"ResponseMetadata\"][\"HTTPStatusCode\"]"
   ]
  },
  {
   "cell_type": "code",
   "execution_count": 27,
   "id": "902cb82b-8f27-4d82-831d-197dd81a7372",
   "metadata": {},
   "outputs": [
    {
     "data": {
      "text/plain": [
       "'mibiliy544@dilanfa.com'"
      ]
     },
     "execution_count": 27,
     "metadata": {},
     "output_type": "execute_result"
    }
   ],
   "source": [
    "email"
   ]
  },
  {
   "cell_type": "code",
   "execution_count": 7,
   "id": "569c49b6-b489-4f09-b977-ff1e9dbd34ed",
   "metadata": {},
   "outputs": [
    {
     "data": {
      "text/plain": [
       "{'ResponseMetadata': {'RequestId': 'bbe432cd-3a32-43c0-bcf5-4f62a2ac529e',\n",
       "  'HTTPStatusCode': 200,\n",
       "  'HTTPHeaders': {'date': 'Tue, 17 May 2022 19:32:20 GMT',\n",
       "   'content-type': 'application/x-amz-json-1.1',\n",
       "   'content-length': '2',\n",
       "   'connection': 'keep-alive',\n",
       "   'x-amzn-requestid': 'bbe432cd-3a32-43c0-bcf5-4f62a2ac529e'},\n",
       "  'RetryAttempts': 0}}"
      ]
     },
     "execution_count": 7,
     "metadata": {},
     "output_type": "execute_result"
    }
   ],
   "source": [
    "r = client.delete_contact(\n",
    "    ContactListName=contact_list,\n",
    "    EmailAddress=email\n",
    "); r"
   ]
  },
  {
   "cell_type": "markdown",
   "id": "40940791-4916-4d83-96eb-5dc46a97be65",
   "metadata": {},
   "source": [
    "### Sending Email"
   ]
  },
  {
   "cell_type": "code",
   "execution_count": 31,
   "id": "458ea5e1-0f99-453e-b665-e9f694ba9aa2",
   "metadata": {},
   "outputs": [],
   "source": [
    "from_addr = \"g@engi.network\"\n",
    "to_addr = \"fayepa6883@falkyz.com\"\n",
    "to_addr = from_addr\n",
    "to_addr = \"cck197@cck197.net\"\n",
    "to_addr = \"christopherkelly@engi.network\"\n",
    "#to_addr = \"mibiliy544@dilanfa.com\""
   ]
  },
  {
   "cell_type": "markdown",
   "id": "5a8fce05-2cf7-460c-8d93-9a54c602cff4",
   "metadata": {
    "tags": []
   },
   "source": [
    "#### SendEmail"
   ]
  },
  {
   "cell_type": "code",
   "execution_count": 32,
   "id": "f743d3ed-976e-432c-83ff-5db19ab0f2f3",
   "metadata": {},
   "outputs": [
    {
     "data": {
      "text/plain": [
       "'christopherkelly@engi.network'"
      ]
     },
     "execution_count": 32,
     "metadata": {},
     "output_type": "execute_result"
    }
   ],
   "source": [
    "to_addr"
   ]
  },
  {
   "cell_type": "code",
   "execution_count": 33,
   "id": "a7ad2624-e8c3-40a6-a811-5c536c12a5f6",
   "metadata": {},
   "outputs": [
    {
     "data": {
      "text/plain": [
       "{'ResponseMetadata': {'RequestId': 'd20f29d3-498c-41a9-8efb-905a067ea124',\n",
       "  'HTTPStatusCode': 200,\n",
       "  'HTTPHeaders': {'date': 'Thu, 21 Jul 2022 15:29:29 GMT',\n",
       "   'content-type': 'application/json',\n",
       "   'content-length': '76',\n",
       "   'connection': 'keep-alive',\n",
       "   'x-amzn-requestid': 'd20f29d3-498c-41a9-8efb-905a067ea124'},\n",
       "  'RetryAttempts': 0},\n",
       " 'MessageId': '010101822160d284-3c4c8f5e-c05b-43e5-8954-835b9cb232cf-000000'}"
      ]
     },
     "execution_count": 33,
     "metadata": {},
     "output_type": "execute_result"
    }
   ],
   "source": [
    "r = ses_client.send_email(\n",
    "    FromEmailAddress=from_addr,\n",
    "    Destination={\n",
    "        'ToAddresses': [\n",
    "            to_addr,\n",
    "        ],\n",
    "    },\n",
    "    Content={\n",
    "        'Simple': {\n",
    "            'Subject': {\n",
    "                'Data': 'test 1',\n",
    "                'Charset': 'UTF-8'\n",
    "            },\n",
    "            'Body': {\n",
    "                'Text': {\n",
    "                    'Data': 'body',\n",
    "                    'Charset': 'UTF-8'\n",
    "                },\n",
    "                'Html': {\n",
    "                    'Data': '<p>body</p>',\n",
    "                    'Charset': 'UTF-8'\n",
    "                }\n",
    "            }\n",
    "        },\n",
    "\n",
    "\n",
    "    },\n",
    "    ListManagementOptions={\n",
    "        'ContactListName': contact_list,\n",
    "        'TopicName': contact_list\n",
    "    }\n",
    "); r"
   ]
  },
  {
   "cell_type": "code",
   "execution_count": 35,
   "id": "3c4c833e-bea4-4d86-b052-0ee12b7ed41f",
   "metadata": {},
   "outputs": [
    {
     "data": {
      "text/plain": [
       "'christopherkelly@engi.network'"
      ]
     },
     "execution_count": 35,
     "metadata": {},
     "output_type": "execute_result"
    }
   ],
   "source": [
    "email"
   ]
  },
  {
   "cell_type": "code",
   "execution_count": 38,
   "id": "01801e1e-a000-43f5-b6ec-9c14589797c2",
   "metadata": {},
   "outputs": [],
   "source": [
    "%run ../../email/send_welcome_email.py"
   ]
  },
  {
   "cell_type": "code",
   "execution_count": 43,
   "id": "8aef5b94-9e30-4bbf-964b-277d00ac47c0",
   "metadata": {},
   "outputs": [
    {
     "data": {
      "text/plain": [
       "'cck197@cck197.net'"
      ]
     },
     "execution_count": 43,
     "metadata": {},
     "output_type": "execute_result"
    }
   ],
   "source": [
    "to_addr"
   ]
  },
  {
   "cell_type": "code",
   "execution_count": 44,
   "id": "25bf4016-0a8f-433a-a339-0a676ef61d51",
   "metadata": {},
   "outputs": [
    {
     "data": {
      "text/plain": [
       "{'ResponseMetadata': {'RequestId': 'cdec8002-fad7-43ce-b80a-84fcce9e1e59',\n",
       "  'HTTPStatusCode': 200,\n",
       "  'HTTPHeaders': {'date': 'Thu, 02 Jun 2022 17:21:21 GMT',\n",
       "   'content-type': 'application/json',\n",
       "   'content-length': '76',\n",
       "   'connection': 'keep-alive',\n",
       "   'x-amzn-requestid': 'cdec8002-fad7-43ce-b80a-84fcce9e1e59'},\n",
       "  'RetryAttempts': 0},\n",
       " 'MessageId': '01010181256fa181-aaf21a13-ba54-4c79-8f48-4eb8d7f4a20a-000000'}"
      ]
     },
     "execution_count": 44,
     "metadata": {},
     "output_type": "execute_result"
    }
   ],
   "source": [
    "attributes = \"{}\"\n",
    "ses_client.send_email(\n",
    "        FromEmailAddress=email,\n",
    "        Destination={\n",
    "            \"ToAddresses\": [\n",
    "                to_addr,\n",
    "            ],\n",
    "        },\n",
    "        Content={\n",
    "            \"Template\": {\n",
    "                \"TemplateName\": TEMPLATE_NAME,\n",
    "                \"TemplateData\": attributes,\n",
    "            },\n",
    "        },\n",
    "        ListManagementOptions={\n",
    "            \"ContactListName\": CONTACT_LIST_NAME,\n",
    "            \"TopicName\": CONTACT_LIST_NAME,\n",
    "        },\n",
    "    )"
   ]
  },
  {
   "cell_type": "code",
   "execution_count": 7,
   "id": "1dec025b-7fb5-40b7-a274-d9ff4a1f484c",
   "metadata": {},
   "outputs": [
    {
     "data": {
      "text/plain": [
       "{'ResponseMetadata': {'RequestId': '715c7a1a-8034-420e-a7dc-27786e806644',\n",
       "  'HTTPStatusCode': 200,\n",
       "  'HTTPHeaders': {'date': 'Fri, 27 May 2022 19:23:19 GMT',\n",
       "   'content-type': 'application/json',\n",
       "   'content-length': '76',\n",
       "   'connection': 'keep-alive',\n",
       "   'x-amzn-requestid': '715c7a1a-8034-420e-a7dc-27786e806644'},\n",
       "  'RetryAttempts': 0},\n",
       " 'MessageId': '0101018106f91fbd-cafcdfc8-e4dd-4dbc-9166-6046cf110d0a-000000'}"
      ]
     },
     "execution_count": 7,
     "metadata": {},
     "output_type": "execute_result"
    }
   ],
   "source": [
    "r"
   ]
  },
  {
   "cell_type": "code",
   "execution_count": 59,
   "id": "993094ac-b38b-4be4-bf83-be71957eaa29",
   "metadata": {},
   "outputs": [],
   "source": [
    "import sys"
   ]
  },
  {
   "cell_type": "code",
   "execution_count": 60,
   "id": "5b7ca3b1-e968-4ac1-8d02-549eb7f7cfeb",
   "metadata": {},
   "outputs": [],
   "source": [
    "sys.path.append('/Users/cck197/Documents/engi-network/email-server-api/email')"
   ]
  },
  {
   "cell_type": "code",
   "execution_count": 61,
   "id": "aa58affe-c0f7-4077-8b5b-cc69ee0524cd",
   "metadata": {},
   "outputs": [],
   "source": [
    "%run ../../email/bulk_email.py"
   ]
  },
  {
   "cell_type": "code",
   "execution_count": 63,
   "id": "38fc116d-8a10-482f-8285-cb2e15ac3bd6",
   "metadata": {},
   "outputs": [
    {
     "data": {
      "text/plain": [
       "[[{'EmailAddress': 'christopherkelly@engi.network',\n",
       "   'TopicPreferences': [{'TopicName': 'engi-test',\n",
       "     'SubscriptionStatus': 'OPT_IN'}],\n",
       "   'TopicDefaultPreferences': [{'TopicName': 'engi-programmer',\n",
       "     'SubscriptionStatus': 'OPT_IN'},\n",
       "    {'TopicName': 'engi-business', 'SubscriptionStatus': 'OPT_IN'},\n",
       "    {'TopicName': 'engi-investor', 'SubscriptionStatus': 'OPT_IN'},\n",
       "    {'TopicName': 'engi-curious', 'SubscriptionStatus': 'OPT_IN'},\n",
       "    {'TopicName': 'engi-newsletter', 'SubscriptionStatus': 'OPT_IN'}],\n",
       "   'UnsubscribeAll': False,\n",
       "   'LastUpdatedTimestamp': datetime.datetime(2022, 5, 31, 6, 55, 25, 97000, tzinfo=tzlocal()),\n",
       "   'AttributesData': '{\"name\": \"chris\", \"favoriteanimal\": \"bonobo\"}'}]]"
      ]
     },
     "execution_count": 63,
     "metadata": {},
     "output_type": "execute_result"
    }
   ],
   "source": [
    "list(list_contacts(contact_list, \"engi-test\"))"
   ]
  },
  {
   "cell_type": "code",
   "execution_count": 11,
   "id": "04f71e14-485c-4982-9c8a-0fc255082e0d",
   "metadata": {},
   "outputs": [],
   "source": [
    "%run ../../email/send_welcome_email.py"
   ]
  },
  {
   "cell_type": "code",
   "execution_count": 12,
   "id": "c6526d19-0b19-4a64-a6c7-e9f34975e359",
   "metadata": {},
   "outputs": [],
   "source": [
    "email='christopherkelly@engi.network'; attrs='{\"name\": \"chris\", \"favoriteanimal\": \"bonobo\"}'"
   ]
  },
  {
   "cell_type": "code",
   "execution_count": 19,
   "id": "3b8d2f8b-28ff-4b3e-8aea-ad758ad22d65",
   "metadata": {},
   "outputs": [],
   "source": [
    "FROM_EMAIL = from_addr"
   ]
  },
  {
   "cell_type": "code",
   "execution_count": 20,
   "id": "7b70d5fa-1c20-443c-ac8a-5f47b9eb30ce",
   "metadata": {},
   "outputs": [
    {
     "data": {
      "text/plain": [
       "'g@engi.network'"
      ]
     },
     "execution_count": 20,
     "metadata": {},
     "output_type": "execute_result"
    }
   ],
   "source": [
    "FROM_EMAIL"
   ]
  },
  {
   "cell_type": "code",
   "execution_count": 21,
   "id": "9f425040-1bec-47fc-b73d-b3afc3ce7fa7",
   "metadata": {},
   "outputs": [],
   "source": [
    "def send_welcome_email(to_addr, attributes):\n",
    "    return ses_client.send_email(\n",
    "        FromEmailAddress=FROM_EMAIL,\n",
    "        Destination={\n",
    "            \"ToAddresses\": [\n",
    "                to_addr,\n",
    "            ],\n",
    "        },\n",
    "        Content={\n",
    "            \"Template\": {\n",
    "                \"TemplateName\": TEMPLATE_NAME,\n",
    "                \"TemplateData\": attributes,\n",
    "            },\n",
    "        },\n",
    "        ListManagementOptions={\n",
    "            \"ContactListName\": CONTACT_LIST_NAME,\n",
    "            \"TopicName\": CONTACT_LIST_NAME,\n",
    "        },\n",
    "    )"
   ]
  },
  {
   "cell_type": "code",
   "execution_count": 22,
   "id": "e9b54298-716c-417d-b548-4b9f0ddccc25",
   "metadata": {},
   "outputs": [
    {
     "data": {
      "text/plain": [
       "{'ResponseMetadata': {'RequestId': '21bc3ead-db39-4c39-a73a-3b0ab1521578',\n",
       "  'HTTPStatusCode': 200,\n",
       "  'HTTPHeaders': {'date': 'Fri, 27 May 2022 19:29:31 GMT',\n",
       "   'content-type': 'application/json',\n",
       "   'content-length': '76',\n",
       "   'connection': 'keep-alive',\n",
       "   'x-amzn-requestid': '21bc3ead-db39-4c39-a73a-3b0ab1521578'},\n",
       "  'RetryAttempts': 0},\n",
       " 'MessageId': '0101018106fece30-cc60b955-8f1b-47fd-992f-207c42d04fa1-000000'}"
      ]
     },
     "execution_count": 22,
     "metadata": {},
     "output_type": "execute_result"
    }
   ],
   "source": [
    "send_welcome_email(email, attrs)"
   ]
  },
  {
   "cell_type": "code",
   "execution_count": null,
   "id": "12671309-d830-4d57-a1d9-59c0502be5fe",
   "metadata": {},
   "outputs": [],
   "source": [
    "# use send_bulk_email"
   ]
  },
  {
   "cell_type": "code",
   "execution_count": 15,
   "id": "1e51bf96-1315-492c-841a-57f40c785a5c",
   "metadata": {},
   "outputs": [
    {
     "data": {
      "text/plain": [
       "'engi-newsletter-welcome-template'"
      ]
     },
     "execution_count": 15,
     "metadata": {},
     "output_type": "execute_result"
    }
   ],
   "source": [
    "template_name"
   ]
  },
  {
   "cell_type": "code",
   "execution_count": 19,
   "id": "d6741354-acad-45d3-8daf-fef03f0c114d",
   "metadata": {},
   "outputs": [
    {
     "name": "stdout",
     "output_type": "stream",
     "text": [
      "Automatic pdb calling has been turned OFF\n"
     ]
    }
   ],
   "source": [
    "%pdb"
   ]
  },
  {
   "cell_type": "code",
   "execution_count": 12,
   "id": "73b74568-578c-40c6-aa7c-d8624d393878",
   "metadata": {},
   "outputs": [],
   "source": [
    "to_addr = email"
   ]
  },
  {
   "cell_type": "code",
   "execution_count": 16,
   "id": "2d061c9b-648e-4396-83f5-e808bced8f99",
   "metadata": {},
   "outputs": [
    {
     "data": {
      "text/plain": [
       "'engi-newsletter-test'"
      ]
     },
     "execution_count": 16,
     "metadata": {},
     "output_type": "execute_result"
    }
   ],
   "source": [
    "contact_list"
   ]
  },
  {
   "cell_type": "code",
   "execution_count": 14,
   "id": "1da68c4d-44b5-4742-9eb4-7fe42582bad3",
   "metadata": {
    "tags": []
   },
   "outputs": [
    {
     "ename": "NotFoundException",
     "evalue": "An error occurred (NotFoundException) when calling the SendEmail operation: List with name: engi-newsletter-test doesn't exist.",
     "output_type": "error",
     "traceback": [
      "\u001b[0;31m---------------------------------------------------------------------------\u001b[0m",
      "\u001b[0;31mNotFoundException\u001b[0m                         Traceback (most recent call last)",
      "Input \u001b[0;32mIn [14]\u001b[0m, in \u001b[0;36m<cell line: 1>\u001b[0;34m()\u001b[0m\n\u001b[0;32m----> 1\u001b[0m r \u001b[38;5;241m=\u001b[39m \u001b[43mclient\u001b[49m\u001b[38;5;241;43m.\u001b[39;49m\u001b[43msend_email\u001b[49m\u001b[43m(\u001b[49m\n\u001b[1;32m      2\u001b[0m \u001b[43m        \u001b[49m\u001b[43mFromEmailAddress\u001b[49m\u001b[38;5;241;43m=\u001b[39;49m\u001b[43mfrom_addr\u001b[49m\u001b[43m,\u001b[49m\n\u001b[1;32m      3\u001b[0m \u001b[43m        \u001b[49m\u001b[43mDestination\u001b[49m\u001b[38;5;241;43m=\u001b[39;49m\u001b[43m{\u001b[49m\n\u001b[1;32m      4\u001b[0m \u001b[43m            \u001b[49m\u001b[38;5;124;43m\"\u001b[39;49m\u001b[38;5;124;43mToAddresses\u001b[39;49m\u001b[38;5;124;43m\"\u001b[39;49m\u001b[43m:\u001b[49m\u001b[43m \u001b[49m\u001b[43m[\u001b[49m\n\u001b[1;32m      5\u001b[0m \u001b[43m                \u001b[49m\u001b[43mto_addr\u001b[49m\u001b[43m,\u001b[49m\n\u001b[1;32m      6\u001b[0m \u001b[43m            \u001b[49m\u001b[43m]\u001b[49m\u001b[43m,\u001b[49m\n\u001b[1;32m      7\u001b[0m \u001b[43m        \u001b[49m\u001b[43m}\u001b[49m\u001b[43m,\u001b[49m\n\u001b[1;32m      8\u001b[0m \u001b[43m        \u001b[49m\u001b[43mContent\u001b[49m\u001b[38;5;241;43m=\u001b[39;49m\u001b[43m{\u001b[49m\n\u001b[1;32m      9\u001b[0m \u001b[43m            \u001b[49m\u001b[38;5;124;43m\"\u001b[39;49m\u001b[38;5;124;43mTemplate\u001b[39;49m\u001b[38;5;124;43m\"\u001b[39;49m\u001b[43m:\u001b[49m\u001b[43m \u001b[49m\u001b[43m{\u001b[49m\n\u001b[1;32m     10\u001b[0m \u001b[43m                \u001b[49m\u001b[38;5;124;43m\"\u001b[39;49m\u001b[38;5;124;43mTemplateName\u001b[39;49m\u001b[38;5;124;43m\"\u001b[39;49m\u001b[43m:\u001b[49m\u001b[43m \u001b[49m\u001b[43mtemplate_name\u001b[49m\u001b[43m,\u001b[49m\n\u001b[1;32m     11\u001b[0m \u001b[43m                \u001b[49m\u001b[38;5;124;43m\"\u001b[39;49m\u001b[38;5;124;43mTemplateData\u001b[39;49m\u001b[38;5;124;43m\"\u001b[39;49m\u001b[43m:\u001b[49m\u001b[43m \u001b[49m\u001b[38;5;124;43m\"\u001b[39;49m\u001b[38;5;132;43;01m{}\u001b[39;49;00m\u001b[38;5;124;43m\"\u001b[39;49m\u001b[43m,\u001b[49m\n\u001b[1;32m     12\u001b[0m \u001b[43m            \u001b[49m\u001b[43m}\u001b[49m\u001b[43m,\u001b[49m\n\u001b[1;32m     13\u001b[0m \u001b[43m        \u001b[49m\u001b[43m}\u001b[49m\u001b[43m,\u001b[49m\n\u001b[1;32m     14\u001b[0m \u001b[43m        \u001b[49m\u001b[43mListManagementOptions\u001b[49m\u001b[38;5;241;43m=\u001b[39;49m\u001b[43m{\u001b[49m\n\u001b[1;32m     15\u001b[0m \u001b[43m            \u001b[49m\u001b[38;5;124;43m\"\u001b[39;49m\u001b[38;5;124;43mContactListName\u001b[39;49m\u001b[38;5;124;43m\"\u001b[39;49m\u001b[43m:\u001b[49m\u001b[43m \u001b[49m\u001b[43mcontact_list\u001b[49m\u001b[43m,\u001b[49m\n\u001b[1;32m     16\u001b[0m \u001b[43m            \u001b[49m\u001b[38;5;124;43m\"\u001b[39;49m\u001b[38;5;124;43mTopicName\u001b[39;49m\u001b[38;5;124;43m\"\u001b[39;49m\u001b[43m:\u001b[49m\u001b[43m \u001b[49m\u001b[43mcontact_list\u001b[49m\u001b[43m,\u001b[49m\n\u001b[1;32m     17\u001b[0m \u001b[43m        \u001b[49m\u001b[43m}\u001b[49m\n\u001b[1;32m     18\u001b[0m \u001b[43m)\u001b[49m\n",
      "File \u001b[0;32m~/.local/share/virtualenvs/server-HR28Vc4A/lib/python3.9/site-packages/botocore/client.py:395\u001b[0m, in \u001b[0;36mClientCreator._create_api_method.<locals>._api_call\u001b[0;34m(self, *args, **kwargs)\u001b[0m\n\u001b[1;32m    392\u001b[0m     \u001b[38;5;28;01mraise\u001b[39;00m \u001b[38;5;167;01mTypeError\u001b[39;00m(\n\u001b[1;32m    393\u001b[0m         \u001b[38;5;124m\"\u001b[39m\u001b[38;5;132;01m%s\u001b[39;00m\u001b[38;5;124m() only accepts keyword arguments.\u001b[39m\u001b[38;5;124m\"\u001b[39m \u001b[38;5;241m%\u001b[39m py_operation_name)\n\u001b[1;32m    394\u001b[0m \u001b[38;5;66;03m# The \"self\" in this scope is referring to the BaseClient.\u001b[39;00m\n\u001b[0;32m--> 395\u001b[0m \u001b[38;5;28;01mreturn\u001b[39;00m \u001b[38;5;28;43mself\u001b[39;49m\u001b[38;5;241;43m.\u001b[39;49m\u001b[43m_make_api_call\u001b[49m\u001b[43m(\u001b[49m\u001b[43moperation_name\u001b[49m\u001b[43m,\u001b[49m\u001b[43m \u001b[49m\u001b[43mkwargs\u001b[49m\u001b[43m)\u001b[49m\n",
      "File \u001b[0;32m~/.local/share/virtualenvs/server-HR28Vc4A/lib/python3.9/site-packages/botocore/client.py:725\u001b[0m, in \u001b[0;36mBaseClient._make_api_call\u001b[0;34m(self, operation_name, api_params)\u001b[0m\n\u001b[1;32m    723\u001b[0m     error_code \u001b[38;5;241m=\u001b[39m parsed_response\u001b[38;5;241m.\u001b[39mget(\u001b[38;5;124m\"\u001b[39m\u001b[38;5;124mError\u001b[39m\u001b[38;5;124m\"\u001b[39m, {})\u001b[38;5;241m.\u001b[39mget(\u001b[38;5;124m\"\u001b[39m\u001b[38;5;124mCode\u001b[39m\u001b[38;5;124m\"\u001b[39m)\n\u001b[1;32m    724\u001b[0m     error_class \u001b[38;5;241m=\u001b[39m \u001b[38;5;28mself\u001b[39m\u001b[38;5;241m.\u001b[39mexceptions\u001b[38;5;241m.\u001b[39mfrom_code(error_code)\n\u001b[0;32m--> 725\u001b[0m     \u001b[38;5;28;01mraise\u001b[39;00m error_class(parsed_response, operation_name)\n\u001b[1;32m    726\u001b[0m \u001b[38;5;28;01melse\u001b[39;00m:\n\u001b[1;32m    727\u001b[0m     \u001b[38;5;28;01mreturn\u001b[39;00m parsed_response\n",
      "\u001b[0;31mNotFoundException\u001b[0m: An error occurred (NotFoundException) when calling the SendEmail operation: List with name: engi-newsletter-test doesn't exist."
     ]
    }
   ],
   "source": [
    "r = client.send_email(\n",
    "        FromEmailAddress=from_addr,\n",
    "        Destination={\n",
    "            \"ToAddresses\": [\n",
    "                to_addr,\n",
    "            ],\n",
    "        },\n",
    "        Content={\n",
    "            \"Template\": {\n",
    "                \"TemplateName\": template_name,\n",
    "                \"TemplateData\": \"{}\",\n",
    "            },\n",
    "        },\n",
    "        ListManagementOptions={\n",
    "            \"ContactListName\": contact_list,\n",
    "            \"TopicName\": contact_list,\n",
    "        }\n",
    ")"
   ]
  },
  {
   "cell_type": "code",
   "execution_count": null,
   "id": "8c3796f2-ff1b-4fda-b4f9-5789b7ee280d",
   "metadata": {},
   "outputs": [],
   "source": [
    "r = client.send_email(\n",
    "    FromEmailAddress=from_addr,\n",
    "    Destination={\n",
    "        'ToAddresses': [\n",
    "            to_addr,\n",
    "        ],\n",
    "    },\n",
    "    Content={\n",
    "        'Template': {\n",
    "            'TemplateName': template_name,\n",
    "            'TemplateData': '{\"name\": \"chris\", \"favoriteanimal\": \"bonobo\"}'\n",
    "        },\n",
    "    },\n",
    "    ListManagementOptions={\n",
    "        'ContactListName': contact_list,\n",
    "        'TopicName': contact_list\n",
    "    }\n",
    ")"
   ]
  },
  {
   "cell_type": "code",
   "execution_count": null,
   "id": "afce4e1d-42d3-4432-90a2-664d37312032",
   "metadata": {},
   "outputs": [
    {
     "data": {
      "text/plain": [
       "{'ResponseMetadata': {'RequestId': '60866212-76a5-4d86-9fce-7157f48f0e0b',\n",
       "  'HTTPStatusCode': 200,\n",
       "  'HTTPHeaders': {'date': 'Thu, 10 Mar 2022 00:51:27 GMT',\n",
       "   'content-type': 'application/json',\n",
       "   'content-length': '76',\n",
       "   'connection': 'keep-alive',\n",
       "   'x-amzn-requestid': '60866212-76a5-4d86-9fce-7157f48f0e0b'},\n",
       "  'RetryAttempts': 0},\n",
       " 'MessageId': '0101017f714f27f4-74722b9e-a792-4ca1-bbeb-311a5e4c8bcd-000000'}"
      ]
     },
     "execution_count": 7,
     "metadata": {},
     "output_type": "execute_result"
    }
   ],
   "source": [
    "r"
   ]
  },
  {
   "cell_type": "markdown",
   "id": "04d7dd3a-bf12-43d0-b5dd-26a274c55493",
   "metadata": {},
   "source": [
    "#### SendBulkEmail"
   ]
  },
  {
   "cell_type": "code",
   "execution_count": 41,
   "id": "de7a7b7f-1cce-4a1f-bac9-3228184ab558",
   "metadata": {},
   "outputs": [],
   "source": [
    "contacts = list_contacts(client, contact_list, topic)"
   ]
  },
  {
   "cell_type": "code",
   "execution_count": 48,
   "id": "f1ea0570-c66e-4cb2-955f-3c985b262b03",
   "metadata": {},
   "outputs": [],
   "source": [
    "entries = [e for e in get_bulk_entries(contacts) if \"kelly\" in e[\"Destination\"][\"ToAddresses\"][0]]"
   ]
  },
  {
   "cell_type": "code",
   "execution_count": 49,
   "id": "cc7e807a-58a1-46cc-b818-eaeb8ebc3327",
   "metadata": {},
   "outputs": [
    {
     "data": {
      "text/plain": [
       "{'ResponseMetadata': {'RequestId': 'ed137a45-d649-4bf9-9eb0-4f4a751f5159',\n",
       "  'HTTPStatusCode': 200,\n",
       "  'HTTPHeaders': {'date': 'Thu, 10 Mar 2022 01:48:43 GMT',\n",
       "   'content-type': 'application/json',\n",
       "   'content-length': '136',\n",
       "   'connection': 'keep-alive',\n",
       "   'x-amzn-requestid': 'ed137a45-d649-4bf9-9eb0-4f4a751f5159'},\n",
       "  'RetryAttempts': 0},\n",
       " 'BulkEmailEntryResults': [{'Status': 'SUCCESS',\n",
       "   'MessageId': '0101017f718394bf-628b0eb5-cdce-4685-a721-ca31e611151b-000000'}]}"
      ]
     },
     "execution_count": 49,
     "metadata": {},
     "output_type": "execute_result"
    }
   ],
   "source": [
    "r = client.send_bulk_email(\n",
    "    FromEmailAddress=from_addr,\n",
    "    DefaultContent={\n",
    "        'Template': {\n",
    "            'TemplateName': template_name,\n",
    "            'TemplateData': '{\"name\": \"friend\", \"favoriteanimal\": \"not sure\"}'\n",
    "        }\n",
    "    },\n",
    "    BulkEmailEntries=entries,\n",
    "); r"
   ]
  },
  {
   "cell_type": "code",
   "execution_count": 2,
   "id": "a0088f34-60c2-4e7f-866c-3e210ab28ee6",
   "metadata": {},
   "outputs": [],
   "source": [
    "results = [{'Status': 'SUCCESS',\n",
    "   'MessageId': '0101017f718394bf-628b0eb5-cdce-4685-a721-ca31e611151b-000000'}]"
   ]
  },
  {
   "cell_type": "code",
   "execution_count": 7,
   "id": "5134f634-7b6c-49d5-bf79-90f42a60b322",
   "metadata": {},
   "outputs": [
    {
     "data": {
      "text/plain": [
       "True"
      ]
     },
     "execution_count": 7,
     "metadata": {},
     "output_type": "execute_result"
    }
   ],
   "source": [
    "all([k[\"Status\"] == \"SUCCESS\" for k in results])"
   ]
  },
  {
   "cell_type": "code",
   "execution_count": 8,
   "id": "25610188-4ca8-43a9-9dec-873a930fc2f8",
   "metadata": {},
   "outputs": [
    {
     "data": {
      "text/plain": [
       "{'ResponseMetadata': {'RequestId': '9dba4950-a902-44bf-96c8-d93ff6e3b34c',\n",
       "  'HTTPStatusCode': 200,\n",
       "  'HTTPHeaders': {'date': 'Wed, 09 Mar 2022 19:09:26 GMT',\n",
       "   'content-type': 'application/json',\n",
       "   'content-length': '76',\n",
       "   'connection': 'keep-alive',\n",
       "   'x-amzn-requestid': '9dba4950-a902-44bf-96c8-d93ff6e3b34c'},\n",
       "  'RetryAttempts': 0},\n",
       " 'MessageId': '0101017f701607b8-0f106dd6-8da9-4405-89d7-bce6cb37cc50-000000'}"
      ]
     },
     "execution_count": 8,
     "metadata": {},
     "output_type": "execute_result"
    }
   ],
   "source": [
    "r"
   ]
  },
  {
   "cell_type": "markdown",
   "id": "c66cda2a-f062-405f-91ca-c0ef18d7f485",
   "metadata": {},
   "source": [
    "### Scratch Pad"
   ]
  },
  {
   "cell_type": "code",
   "execution_count": 9,
   "id": "0d9c49da-7509-4b3f-99e7-8dbc582bebb0",
   "metadata": {},
   "outputs": [
    {
     "data": {
      "text/plain": [
       "['AccountSuspendedException',\n",
       " 'AlreadyExistsException',\n",
       " 'BadRequestException',\n",
       " 'ClientError',\n",
       " 'ConcurrentModificationException',\n",
       " 'ConflictException',\n",
       " 'InvalidNextTokenException',\n",
       " 'LimitExceededException',\n",
       " 'MailFromDomainNotVerifiedException',\n",
       " 'MessageRejected',\n",
       " 'NotFoundException',\n",
       " 'SendingPausedException',\n",
       " 'TooManyRequestsException',\n",
       " '__class__',\n",
       " '__delattr__',\n",
       " '__dict__',\n",
       " '__dir__',\n",
       " '__doc__',\n",
       " '__eq__',\n",
       " '__format__',\n",
       " '__ge__',\n",
       " '__getattr__',\n",
       " '__getattribute__',\n",
       " '__gt__',\n",
       " '__hash__',\n",
       " '__init__',\n",
       " '__init_subclass__',\n",
       " '__le__',\n",
       " '__lt__',\n",
       " '__module__',\n",
       " '__ne__',\n",
       " '__new__',\n",
       " '__reduce__',\n",
       " '__reduce_ex__',\n",
       " '__repr__',\n",
       " '__setattr__',\n",
       " '__sizeof__',\n",
       " '__str__',\n",
       " '__subclasshook__',\n",
       " '__weakref__',\n",
       " '_code_to_exception',\n",
       " 'from_code']"
      ]
     },
     "execution_count": 9,
     "metadata": {},
     "output_type": "execute_result"
    }
   ],
   "source": [
    "dir(client.exceptions)"
   ]
  },
  {
   "cell_type": "code",
   "execution_count": 7,
   "id": "9a4ed51e-f905-49e2-9268-660733819666",
   "metadata": {},
   "outputs": [],
   "source": [
    "s = \"{ \\\"name\\\":\\\"Alejandro\\\", \\\"favoriteanimal\\\": \\\"alligator\\\" }\""
   ]
  },
  {
   "cell_type": "code",
   "execution_count": 9,
   "id": "213ce415-56cf-4cc9-b086-75c0f8855348",
   "metadata": {},
   "outputs": [],
   "source": [
    "import json"
   ]
  },
  {
   "cell_type": "code",
   "execution_count": 11,
   "id": "0002b0b4-787c-4ff1-adbc-793b373ce135",
   "metadata": {},
   "outputs": [
    {
     "data": {
      "text/plain": [
       "{'name': 'Alejandro', 'favoriteanimal': 'alligator'}"
      ]
     },
     "execution_count": 11,
     "metadata": {},
     "output_type": "execute_result"
    }
   ],
   "source": [
    "json.loads(s)"
   ]
  },
  {
   "cell_type": "code",
   "execution_count": 14,
   "id": "c661d823-a276-4b2a-84bf-7aee374df5c4",
   "metadata": {},
   "outputs": [
    {
     "data": {
      "text/plain": [
       "'\"{\\\\\"name\\\\\": \\\\\"Alejandro\\\\\", \\\\\"favoriteanimal\\\\\": \\\\\"alligator\\\\\"}\"'"
      ]
     },
     "execution_count": 14,
     "metadata": {},
     "output_type": "execute_result"
    }
   ],
   "source": [
    "json.dumps(json.dumps(_11))"
   ]
  },
  {
   "cell_type": "code",
   "execution_count": 10,
   "id": "b83da9be-4997-4812-80ba-3537cc01bdf1",
   "metadata": {},
   "outputs": [],
   "source": [
    "session = boto3.Session()"
   ]
  },
  {
   "cell_type": "code",
   "execution_count": 13,
   "id": "5188189b-75d5-407c-8217-d66fadbe7006",
   "metadata": {},
   "outputs": [],
   "source": [
    "sqs_client = boto3.client(\"sqs\")"
   ]
  },
  {
   "cell_type": "code",
   "execution_count": 15,
   "id": "20ede24e-5dd0-466a-a981-47941e28dde1",
   "metadata": {},
   "outputs": [
    {
     "data": {
      "text/plain": [
       "{'ResponseMetadata': {'RequestId': 'e734cb36-9582-5571-84ea-9192a0d94383',\n",
       "  'HTTPStatusCode': 200,\n",
       "  'HTTPHeaders': {'x-amzn-requestid': 'e734cb36-9582-5571-84ea-9192a0d94383',\n",
       "   'date': 'Thu, 10 Mar 2022 17:19:23 GMT',\n",
       "   'content-type': 'text/xml',\n",
       "   'content-length': '228'},\n",
       "  'RetryAttempts': 0}}"
      ]
     },
     "execution_count": 15,
     "metadata": {},
     "output_type": "execute_result"
    }
   ],
   "source": [
    "sqs_client.list_queues()"
   ]
  },
  {
   "cell_type": "code",
   "execution_count": null,
   "id": "9006a056-59c8-45e2-b006-0e7f9b00a8c5",
   "metadata": {},
   "outputs": [],
   "source": []
  }
 ],
 "metadata": {
  "kernelspec": {
   "display_name": "Python 3 (ipykernel)",
   "language": "python",
   "name": "python3"
  },
  "language_info": {
   "codemirror_mode": {
    "name": "ipython",
    "version": 3
   },
   "file_extension": ".py",
   "mimetype": "text/x-python",
   "name": "python",
   "nbconvert_exporter": "python",
   "pygments_lexer": "ipython3",
   "version": "3.9.12"
  }
 },
 "nbformat": 4,
 "nbformat_minor": 5
}
