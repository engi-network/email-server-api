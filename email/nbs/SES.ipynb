{
 "cells": [
  {
   "cell_type": "code",
   "execution_count": 1,
   "id": "b6aae82a",
   "metadata": {},
   "outputs": [],
   "source": [
    "import boto3"
   ]
  },
  {
   "cell_type": "code",
   "execution_count": 2,
   "id": "9d7b7060-82e4-43fe-9ebf-0546d6cf9e5e",
   "metadata": {},
   "outputs": [],
   "source": [
    "email = \"christopherkelly@engi.network\""
   ]
  },
  {
   "cell_type": "code",
   "execution_count": 3,
   "id": "ac9c4a56-ee66-444b-a821-e9918bf73d26",
   "metadata": {},
   "outputs": [],
   "source": [
    "contact_list = \"engi-newsletter\"\n",
    "template_name = \"engi-newsletter-welcome-template\""
   ]
  },
  {
   "cell_type": "code",
   "execution_count": 4,
   "id": "e87efbc9",
   "metadata": {},
   "outputs": [],
   "source": [
    "client = boto3.client(\"sesv2\")"
   ]
  },
  {
   "cell_type": "markdown",
   "id": "7435aeaf",
   "metadata": {
    "jp-MarkdownHeadingCollapsed": true,
    "tags": []
   },
   "source": [
    "### Templates"
   ]
  },
  {
   "cell_type": "code",
   "execution_count": 5,
   "id": "fbcabdf6",
   "metadata": {},
   "outputs": [
    {
     "data": {
      "text/plain": [
       "{'ResponseMetadata': {'RequestId': '0d86d247-1f9e-40ab-a95f-71386d04c232',\n",
       "  'HTTPStatusCode': 200,\n",
       "  'HTTPHeaders': {'date': 'Thu, 10 Mar 2022 00:46:40 GMT',\n",
       "   'content-type': 'application/x-amz-json-1.1',\n",
       "   'content-length': '124',\n",
       "   'connection': 'keep-alive',\n",
       "   'x-amzn-requestid': '0d86d247-1f9e-40ab-a95f-71386d04c232'},\n",
       "  'RetryAttempts': 0},\n",
       " 'TemplatesMetadata': [{'TemplateName': 'engi-newsletter-welcome-template',\n",
       "   'CreatedTimestamp': datetime.datetime(2021, 10, 10, 12, 59, 20, tzinfo=tzlocal())}]}"
      ]
     },
     "execution_count": 5,
     "metadata": {},
     "output_type": "execute_result"
    }
   ],
   "source": [
    "client.list_email_templates()"
   ]
  },
  {
   "cell_type": "code",
   "execution_count": 6,
   "id": "f44bf0c0-8183-4753-a96f-7bf175af2775",
   "metadata": {},
   "outputs": [
    {
     "data": {
      "text/plain": [
       "{'ResponseMetadata': {'RequestId': '97b87444-b01f-49d2-9ef8-34db9c2b6342',\n",
       "  'HTTPStatusCode': 200,\n",
       "  'HTTPHeaders': {'date': 'Thu, 10 Mar 2022 00:46:41 GMT',\n",
       "   'content-type': 'application/x-amz-json-1.1',\n",
       "   'content-length': '261',\n",
       "   'connection': 'keep-alive',\n",
       "   'x-amzn-requestid': '97b87444-b01f-49d2-9ef8-34db9c2b6342'},\n",
       "  'RetryAttempts': 0},\n",
       " 'TemplateName': 'engi-newsletter-welcome-template',\n",
       " 'TemplateContent': {'Subject': 'Greetings, {{name}}!',\n",
       "  'Text': 'Dear {{name}},\\\\r\\\\nYour favorite animal is {{favoriteanimal}}.',\n",
       "  'Html': '<h1>Hello {{name}},</h1><p>Your favorite animal is {{favoriteanimal}}.</p>'}}"
      ]
     },
     "execution_count": 6,
     "metadata": {},
     "output_type": "execute_result"
    }
   ],
   "source": [
    "client.get_email_template(TemplateName=template_name)"
   ]
  },
  {
   "cell_type": "markdown",
   "id": "7e087281",
   "metadata": {
    "tags": []
   },
   "source": [
    "### Contact Lists"
   ]
  },
  {
   "cell_type": "code",
   "execution_count": 7,
   "id": "f40d9436",
   "metadata": {},
   "outputs": [
    {
     "data": {
      "text/plain": [
       "{'ResponseMetadata': {'RequestId': '3d25cd4b-b5e1-49bb-ada0-4cd35acf4399',\n",
       "  'HTTPStatusCode': 200,\n",
       "  'HTTPHeaders': {'date': 'Wed, 09 Mar 2022 15:52:58 GMT',\n",
       "   'content-type': 'application/x-amz-json-1.1',\n",
       "   'content-length': '113',\n",
       "   'connection': 'keep-alive',\n",
       "   'x-amzn-requestid': '3d25cd4b-b5e1-49bb-ada0-4cd35acf4399'},\n",
       "  'RetryAttempts': 0},\n",
       " 'ContactLists': [{'ContactListName': 'engi-newsletter',\n",
       "   'LastUpdatedTimestamp': datetime.datetime(2021, 10, 10, 12, 46, 2, 662000, tzinfo=tzlocal())}]}"
      ]
     },
     "execution_count": 7,
     "metadata": {},
     "output_type": "execute_result"
    }
   ],
   "source": [
    "client.list_contact_lists()"
   ]
  },
  {
   "cell_type": "code",
   "execution_count": 8,
   "id": "a90ca945",
   "metadata": {},
   "outputs": [
    {
     "data": {
      "text/plain": [
       "{'ResponseMetadata': {'RequestId': '3abaa14f-3896-4eee-a1aa-49c295ef2039',\n",
       "  'HTTPStatusCode': 200,\n",
       "  'HTTPHeaders': {'date': 'Wed, 09 Mar 2022 15:53:01 GMT',\n",
       "   'content-type': 'application/x-amz-json-1.1',\n",
       "   'content-length': '377',\n",
       "   'connection': 'keep-alive',\n",
       "   'x-amzn-requestid': '3abaa14f-3896-4eee-a1aa-49c295ef2039'},\n",
       "  'RetryAttempts': 0},\n",
       " 'ContactListName': 'engi-newsletter',\n",
       " 'Topics': [{'TopicName': 'engi-newsletter',\n",
       "   'DisplayName': 'The Engi Newsletter',\n",
       "   'Description': 'subscribe to updates about the development of engi',\n",
       "   'DefaultSubscriptionStatus': 'OPT_IN'}],\n",
       " 'Description': 'the engi newsletter',\n",
       " 'CreatedTimestamp': datetime.datetime(2021, 10, 10, 12, 46, 2, 662000, tzinfo=tzlocal()),\n",
       " 'LastUpdatedTimestamp': datetime.datetime(2021, 10, 10, 12, 46, 2, 662000, tzinfo=tzlocal()),\n",
       " 'Tags': [{'Key': 'engi', 'Value': 'newsletter'}]}"
      ]
     },
     "execution_count": 8,
     "metadata": {},
     "output_type": "execute_result"
    }
   ],
   "source": [
    "client.get_contact_list(ContactListName=contact_list)"
   ]
  },
  {
   "cell_type": "code",
   "execution_count": 6,
   "id": "37bb4af9-82c9-4d7a-9754-5b31eb72b76a",
   "metadata": {},
   "outputs": [
    {
     "data": {
      "text/plain": [
       "{'ResponseMetadata': {'RequestId': 'a98d80e6-bcd4-492e-9ec6-74ab637bab37',\n",
       "  'HTTPStatusCode': 200,\n",
       "  'HTTPHeaders': {'date': 'Wed, 09 Mar 2022 21:35:43 GMT',\n",
       "   'content-type': 'application/json',\n",
       "   'content-length': '32',\n",
       "   'connection': 'close',\n",
       "   'x-amzn-requestid': 'a98d80e6-bcd4-492e-9ec6-74ab637bab37'},\n",
       "  'RetryAttempts': 0},\n",
       " 'Contacts': []}"
      ]
     },
     "execution_count": 6,
     "metadata": {},
     "output_type": "execute_result"
    }
   ],
   "source": [
    "client.list_contacts(ContactListName=contact_list)"
   ]
  },
  {
   "cell_type": "code",
   "execution_count": 11,
   "id": "6ad72ac3-dafa-4291-ae7d-826467240938",
   "metadata": {},
   "outputs": [
    {
     "data": {
      "text/plain": [
       "{'ResponseMetadata': {'RequestId': '00c7113d-4248-4d1f-90f8-fe6ea4c5b4ef',\n",
       "  'HTTPStatusCode': 200,\n",
       "  'HTTPHeaders': {'date': 'Thu, 10 Mar 2022 00:57:18 GMT',\n",
       "   'content-type': 'application/json',\n",
       "   'content-length': '3063',\n",
       "   'connection': 'close',\n",
       "   'x-amzn-requestid': '00c7113d-4248-4d1f-90f8-fe6ea4c5b4ef'},\n",
       "  'RetryAttempts': 0},\n",
       " 'Contacts': [{'EmailAddress': '12@engi.network',\n",
       "   'TopicPreferences': [{'TopicName': 'engi-newsletter',\n",
       "     'SubscriptionStatus': 'OPT_IN'}],\n",
       "   'UnsubscribeAll': False,\n",
       "   'LastUpdatedTimestamp': datetime.datetime(2022, 3, 9, 13, 46, 45, 86000, tzinfo=tzlocal())},\n",
       "  {'EmailAddress': '3@engi.network',\n",
       "   'TopicPreferences': [{'TopicName': 'engi-newsletter',\n",
       "     'SubscriptionStatus': 'OPT_IN'}],\n",
       "   'UnsubscribeAll': False,\n",
       "   'LastUpdatedTimestamp': datetime.datetime(2022, 3, 9, 13, 46, 44, 276000, tzinfo=tzlocal())},\n",
       "  {'EmailAddress': '18@engi.network',\n",
       "   'TopicPreferences': [{'TopicName': 'engi-newsletter',\n",
       "     'SubscriptionStatus': 'OPT_IN'}],\n",
       "   'UnsubscribeAll': False,\n",
       "   'LastUpdatedTimestamp': datetime.datetime(2022, 3, 9, 13, 46, 45, 850000, tzinfo=tzlocal())},\n",
       "  {'EmailAddress': '9@engi.network',\n",
       "   'TopicPreferences': [{'TopicName': 'engi-newsletter',\n",
       "     'SubscriptionStatus': 'OPT_IN'}],\n",
       "   'UnsubscribeAll': False,\n",
       "   'LastUpdatedTimestamp': datetime.datetime(2022, 3, 9, 13, 46, 44, 839000, tzinfo=tzlocal())},\n",
       "  {'EmailAddress': 'christopherkelly@engi.network',\n",
       "   'TopicPreferences': [{'TopicName': 'engi-newsletter',\n",
       "     'SubscriptionStatus': 'OPT_IN'}],\n",
       "   'UnsubscribeAll': False,\n",
       "   'LastUpdatedTimestamp': datetime.datetime(2022, 3, 9, 13, 37, 22, 96000, tzinfo=tzlocal())},\n",
       "  {'EmailAddress': '6@engi.network',\n",
       "   'TopicPreferences': [{'TopicName': 'engi-newsletter',\n",
       "     'SubscriptionStatus': 'OPT_IN'}],\n",
       "   'UnsubscribeAll': False,\n",
       "   'LastUpdatedTimestamp': datetime.datetime(2022, 3, 9, 13, 46, 44, 550000, tzinfo=tzlocal())},\n",
       "  {'EmailAddress': '0@engi.network',\n",
       "   'TopicPreferences': [{'TopicName': 'engi-newsletter',\n",
       "     'SubscriptionStatus': 'OPT_IN'}],\n",
       "   'UnsubscribeAll': False,\n",
       "   'LastUpdatedTimestamp': datetime.datetime(2022, 3, 9, 13, 46, 44, 5000, tzinfo=tzlocal())},\n",
       "  {'EmailAddress': '8@engi.network',\n",
       "   'TopicPreferences': [{'TopicName': 'engi-newsletter',\n",
       "     'SubscriptionStatus': 'OPT_IN'}],\n",
       "   'UnsubscribeAll': False,\n",
       "   'LastUpdatedTimestamp': datetime.datetime(2022, 3, 9, 13, 46, 44, 734000, tzinfo=tzlocal())},\n",
       "  {'EmailAddress': '10@engi.network',\n",
       "   'TopicPreferences': [{'TopicName': 'engi-newsletter',\n",
       "     'SubscriptionStatus': 'OPT_IN'}],\n",
       "   'UnsubscribeAll': False,\n",
       "   'LastUpdatedTimestamp': datetime.datetime(2022, 3, 9, 13, 46, 44, 923000, tzinfo=tzlocal())},\n",
       "  {'EmailAddress': '1@engi.network',\n",
       "   'TopicPreferences': [{'TopicName': 'engi-newsletter',\n",
       "     'SubscriptionStatus': 'OPT_IN'}],\n",
       "   'UnsubscribeAll': False,\n",
       "   'LastUpdatedTimestamp': datetime.datetime(2022, 3, 9, 13, 46, 44, 112000, tzinfo=tzlocal())}],\n",
       " 'NextToken': 'AYADeOyO+gNjH83jJrdraDUokuAAXwABABVhd3MtY3J5cHRvLXB1YmxpYy1rZXkAREFxSUc0NmFaNkFhZ0JMTDlIUC9Bd3FzMkNyV3greHlFRnNjYU5DSkJuRUdkM3VkQlJKSy9MN09pT0VldXdxUllQZz09AAEAB2F3cy1rbXMAS2Fybjphd3M6a21zOnVzLXdlc3QtMjozNDk5ODU5ODQ0NTM6a2V5Lzg2OGQyZGIzLWVhMTctNGNiMC04ZjdhLTM3ZDc5OThlMzQ1NAC4AQIBAHha5h/McZzGQg+G4g4wfhsvGI9qPQZJ1fk03QshKWP7mgFK6ymZrCRJ2/xD3B5Z2VSTAAAAfjB8BgkqhkiG9w0BBwagbzBtAgEAMGgGCSqGSIb3DQEHATAeBglghkgBZQMEAS4wEQQM3UKPT/EA6deGtgkiAgEQgDuZM79QCtvQyJPKwgNcG9DbVClQ81iZL4FbFNU1Xdz5Axn0VUi7WQB7SZMr8zrE7IB0xPeCc5UnRJxhpgIAAAAADAAAEAAAAAAAAAAAAAAAAABIla9OY2lIlDDEdXlKsRzD/////wAAAAEAAAAAAAAAAAAAAAEAAABpvlE33Eon8+61RbK2Xb//pLH7Gqhl9aMnQE57wphko64qTK29oDPcoiLgfOrjhHPEVGe9E0KGqJX5Z2Ud7KzeaDCxugi1/9htsuX/c1cEVrDD1zHmSEwWU9SK0FCFHhrtrioDtocw5BdZ2wXa97LU0LbIWrasXNarawBnMGUCMQCa72pWA/UcTWC+OgxVt5RdoOUuhwVMUIIv0LgKIBv+j2TB/Uy5Mf0zaC1+LVMkCGcCMBapHima1nUT2945JlZ/di5f2sbC7ganN0EyBALgMkeagHb0pqua5IAI6gSSE9IoXg=='}"
      ]
     },
     "execution_count": 11,
     "metadata": {},
     "output_type": "execute_result"
    }
   ],
   "source": [
    "topic = \"engi-newsletter\"\n",
    "r = client.list_contacts(\n",
    "    ContactListName=contact_list,\n",
    "    Filter={\n",
    "        'FilteredStatus': 'OPT_IN',\n",
    "        'TopicFilter': {\n",
    "            'TopicName': 'engi-newsletter',\n",
    "            'UseDefaultIfPreferenceUnavailable': True\n",
    "        }\n",
    "    },\n",
    "    PageSize=10,\n",
    "); r"
   ]
  },
  {
   "cell_type": "code",
   "execution_count": 14,
   "id": "117cd528-05a8-4f04-8291-7c4511341f42",
   "metadata": {},
   "outputs": [],
   "source": [
    "r = client.list_contacts(ContactListName=contact_list, NextToken=r[\"NextToken\"])"
   ]
  },
  {
   "cell_type": "markdown",
   "id": "80951465-19e0-4b89-b48b-4390c934099c",
   "metadata": {
    "tags": []
   },
   "source": [
    "### Contact Management"
   ]
  },
  {
   "cell_type": "code",
   "execution_count": 10,
   "id": "3e03b95c-389a-4b86-a95e-9e99c1cdccb8",
   "metadata": {},
   "outputs": [
    {
     "data": {
      "text/plain": [
       "{'ResponseMetadata': {'RequestId': '63f3d541-d178-4c48-a1f5-aaa80d8ead11',\n",
       "  'HTTPStatusCode': 200,\n",
       "  'HTTPHeaders': {'date': 'Wed, 09 Mar 2022 16:13:05 GMT',\n",
       "   'content-type': 'application/json',\n",
       "   'content-length': '2',\n",
       "   'connection': 'keep-alive',\n",
       "   'x-amzn-requestid': '63f3d541-d178-4c48-a1f5-aaa80d8ead11'},\n",
       "  'RetryAttempts': 0}}"
      ]
     },
     "execution_count": 10,
     "metadata": {},
     "output_type": "execute_result"
    }
   ],
   "source": [
    "client.create_contact(\n",
    "    ContactListName=contact_list,\n",
    "    EmailAddress=email\n",
    ")"
   ]
  },
  {
   "cell_type": "code",
   "execution_count": 23,
   "id": "1063237e-5ffb-4e7d-ad03-6af9151871d2",
   "metadata": {},
   "outputs": [
    {
     "data": {
      "text/plain": [
       "{'ResponseMetadata': {'RequestId': '43753071-b5c2-437d-a5a2-01d4bf26c184',\n",
       "  'HTTPStatusCode': 200,\n",
       "  'HTTPHeaders': {'date': 'Wed, 09 Mar 2022 18:52:47 GMT',\n",
       "   'content-type': 'application/x-amz-json-1.1',\n",
       "   'content-length': '370',\n",
       "   'connection': 'keep-alive',\n",
       "   'x-amzn-requestid': '43753071-b5c2-437d-a5a2-01d4bf26c184'},\n",
       "  'RetryAttempts': 0},\n",
       " 'ContactListName': 'engi-newsletter',\n",
       " 'EmailAddress': 'christopherkelly@engi.network',\n",
       " 'TopicPreferences': [{'TopicName': 'engi-newsletter',\n",
       "   'SubscriptionStatus': 'OPT_IN'}],\n",
       " 'UnsubscribeAll': False,\n",
       " 'AttributesData': '{\"name\": \"chris\", \"favoriteanimal\": \"bonobo\"}',\n",
       " 'CreatedTimestamp': datetime.datetime(2022, 3, 9, 10, 52, 29, 352000, tzinfo=tzlocal()),\n",
       " 'LastUpdatedTimestamp': datetime.datetime(2022, 3, 9, 10, 52, 29, 352000, tzinfo=tzlocal())}"
      ]
     },
     "execution_count": 23,
     "metadata": {},
     "output_type": "execute_result"
    }
   ],
   "source": [
    "r = client.get_contact(\n",
    "    ContactListName=contact_list,\n",
    "    EmailAddress=email\n",
    "); r"
   ]
  },
  {
   "cell_type": "code",
   "execution_count": 19,
   "id": "10598007-a659-430b-817a-c9d974e1fbd9",
   "metadata": {},
   "outputs": [],
   "source": [
    "email = \"g@engi.network\""
   ]
  },
  {
   "cell_type": "code",
   "execution_count": 20,
   "id": "0741ef29-094a-48d8-a059-7695d75d5bd4",
   "metadata": {},
   "outputs": [
    {
     "data": {
      "text/plain": [
       "{'ResponseMetadata': {'RequestId': '20754a1d-00af-48e1-b5e2-e1958c4fc3da',\n",
       "  'HTTPStatusCode': 200,\n",
       "  'HTTPHeaders': {'date': 'Wed, 09 Mar 2022 18:49:29 GMT',\n",
       "   'content-type': 'application/x-amz-json-1.1',\n",
       "   'content-length': '304',\n",
       "   'connection': 'keep-alive',\n",
       "   'x-amzn-requestid': '20754a1d-00af-48e1-b5e2-e1958c4fc3da'},\n",
       "  'RetryAttempts': 0},\n",
       " 'ContactListName': 'engi-newsletter',\n",
       " 'EmailAddress': 'g@engi.network',\n",
       " 'TopicPreferences': [{'TopicName': 'engi-newsletter',\n",
       "   'SubscriptionStatus': 'OPT_IN'}],\n",
       " 'UnsubscribeAll': False,\n",
       " 'CreatedTimestamp': datetime.datetime(2021, 10, 10, 14, 25, 19, 33000, tzinfo=tzlocal()),\n",
       " 'LastUpdatedTimestamp': datetime.datetime(2021, 10, 10, 14, 25, 19, 33000, tzinfo=tzlocal())}"
      ]
     },
     "execution_count": 20,
     "metadata": {},
     "output_type": "execute_result"
    }
   ],
   "source": [
    "r = client.get_contact(\n",
    "    ContactListName=contact_list,\n",
    "    EmailAddress=email\n",
    "); r"
   ]
  },
  {
   "cell_type": "code",
   "execution_count": null,
   "id": "9680be7a-6eda-4cd9-bd19-60ee87aa8477",
   "metadata": {},
   "outputs": [],
   "source": []
  },
  {
   "cell_type": "code",
   "execution_count": 16,
   "id": "e3e0546b-87b7-49cd-9f4f-1f3af69ac26b",
   "metadata": {},
   "outputs": [
    {
     "data": {
      "text/plain": [
       "['engi-newsletter']"
      ]
     },
     "execution_count": 16,
     "metadata": {},
     "output_type": "execute_result"
    }
   ],
   "source": [
    "[d[\"TopicName\"] for d in r[\"TopicPreferences\"]]"
   ]
  },
  {
   "cell_type": "code",
   "execution_count": 18,
   "id": "d29592bb-6609-475a-bbfd-5b868457275d",
   "metadata": {},
   "outputs": [
    {
     "data": {
      "text/plain": [
       "200"
      ]
     },
     "execution_count": 18,
     "metadata": {},
     "output_type": "execute_result"
    }
   ],
   "source": [
    "r[\"ResponseMetadata\"][\"HTTPStatusCode\"]"
   ]
  },
  {
   "cell_type": "code",
   "execution_count": 21,
   "id": "569c49b6-b489-4f09-b977-ff1e9dbd34ed",
   "metadata": {},
   "outputs": [
    {
     "data": {
      "text/plain": [
       "{'ResponseMetadata': {'RequestId': '2537df60-c3b2-4065-bc78-3818f725b131',\n",
       "  'HTTPStatusCode': 200,\n",
       "  'HTTPHeaders': {'date': 'Wed, 09 Mar 2022 18:49:37 GMT',\n",
       "   'content-type': 'application/x-amz-json-1.1',\n",
       "   'content-length': '2',\n",
       "   'connection': 'keep-alive',\n",
       "   'x-amzn-requestid': '2537df60-c3b2-4065-bc78-3818f725b131'},\n",
       "  'RetryAttempts': 0}}"
      ]
     },
     "execution_count": 21,
     "metadata": {},
     "output_type": "execute_result"
    }
   ],
   "source": [
    "r = client.delete_contact(\n",
    "    ContactListName=contact_list,\n",
    "    EmailAddress=email\n",
    "); r"
   ]
  },
  {
   "cell_type": "markdown",
   "id": "40940791-4916-4d83-96eb-5dc46a97be65",
   "metadata": {},
   "source": [
    "### Sending Email"
   ]
  },
  {
   "cell_type": "code",
   "execution_count": 7,
   "id": "458ea5e1-0f99-453e-b665-e9f694ba9aa2",
   "metadata": {},
   "outputs": [],
   "source": [
    "from_addr = \"g@engi.network\"\n",
    "to_addr = \"christopherkelly@engi.network\""
   ]
  },
  {
   "cell_type": "markdown",
   "id": "5a8fce05-2cf7-460c-8d93-9a54c602cff4",
   "metadata": {
    "jp-MarkdownHeadingCollapsed": true,
    "tags": []
   },
   "source": [
    "#### SendEmail"
   ]
  },
  {
   "cell_type": "code",
   "execution_count": 7,
   "id": "a7ad2624-e8c3-40a6-a811-5c536c12a5f6",
   "metadata": {},
   "outputs": [],
   "source": [
    "r = client.send_email(\n",
    "    FromEmailAddress=from_addr,\n",
    "    Destination={\n",
    "        'ToAddresses': [\n",
    "            to_addr,\n",
    "        ],\n",
    "    },\n",
    "    Content={\n",
    "        'Simple': {\n",
    "            'Subject': {\n",
    "                'Data': 'test 1',\n",
    "                'Charset': 'UTF-8'\n",
    "            },\n",
    "            'Body': {\n",
    "                'Text': {\n",
    "                    'Data': 'body',\n",
    "                    'Charset': 'UTF-8'\n",
    "                },\n",
    "                'Html': {\n",
    "                    'Data': '<p>body</p>',\n",
    "                    'Charset': 'UTF-8'\n",
    "                }\n",
    "            }\n",
    "        },\n",
    "\n",
    "\n",
    "    },\n",
    "    ListManagementOptions={\n",
    "        'ContactListName': contact_list,\n",
    "        'TopicName': contact_list\n",
    "    }\n",
    ")"
   ]
  },
  {
   "cell_type": "code",
   "execution_count": null,
   "id": "12671309-d830-4d57-a1d9-59c0502be5fe",
   "metadata": {},
   "outputs": [],
   "source": [
    "# use send_bulk_email"
   ]
  },
  {
   "cell_type": "code",
   "execution_count": 15,
   "id": "1e51bf96-1315-492c-841a-57f40c785a5c",
   "metadata": {},
   "outputs": [
    {
     "data": {
      "text/plain": [
       "'engi-newsletter-welcome-template'"
      ]
     },
     "execution_count": 7,
     "metadata": {},
     "output_type": "execute_result"
    }
   ],
   "source": [
    "template_name"
   ]
  },
  {
   "cell_type": "code",
   "execution_count": 19,
   "id": "d6741354-acad-45d3-8daf-fef03f0c114d",
   "metadata": {},
   "outputs": [
    {
     "name": "stdout",
     "output_type": "stream",
     "text": [
      "Automatic pdb calling has been turned OFF\n"
     ]
    }
   ],
   "source": [
    "%pdb"
   ]
  },
  {
   "cell_type": "code",
   "execution_count": null,
   "id": "8c3796f2-ff1b-4fda-b4f9-5789b7ee280d",
   "metadata": {},
   "outputs": [],
   "source": [
    "r = client.send_email(\n",
    "    FromEmailAddress=from_addr,\n",
    "    Destination={\n",
    "        'ToAddresses': [\n",
    "            to_addr,\n",
    "        ],\n",
    "    },\n",
    "    Content={\n",
    "        'Template': {\n",
    "            'TemplateName': template_name,\n",
    "            'TemplateData': '{\"name\": \"chris\", \"favoriteanimal\": \"bonobo\"}'\n",
    "        },\n",
    "    },\n",
    "    ListManagementOptions={\n",
    "        'ContactListName': contact_list,\n",
    "        'TopicName': contact_list\n",
    "    }\n",
    ")"
   ]
  },
  {
   "cell_type": "code",
   "execution_count": null,
   "id": "afce4e1d-42d3-4432-90a2-664d37312032",
   "metadata": {},
   "outputs": [
    {
     "data": {
      "text/plain": [
       "{'ResponseMetadata': {'RequestId': '60866212-76a5-4d86-9fce-7157f48f0e0b',\n",
       "  'HTTPStatusCode': 200,\n",
       "  'HTTPHeaders': {'date': 'Thu, 10 Mar 2022 00:51:27 GMT',\n",
       "   'content-type': 'application/json',\n",
       "   'content-length': '76',\n",
       "   'connection': 'keep-alive',\n",
       "   'x-amzn-requestid': '60866212-76a5-4d86-9fce-7157f48f0e0b'},\n",
       "  'RetryAttempts': 0},\n",
       " 'MessageId': '0101017f714f27f4-74722b9e-a792-4ca1-bbeb-311a5e4c8bcd-000000'}"
      ]
     },
     "execution_count": 7,
     "metadata": {},
     "output_type": "execute_result"
    }
   ],
   "source": [
    "r"
   ]
  },
  {
   "cell_type": "markdown",
   "id": "04d7dd3a-bf12-43d0-b5dd-26a274c55493",
   "metadata": {},
   "source": [
    "#### SendBulkEmail"
   ]
  },
  {
   "cell_type": "code",
   "execution_count": 41,
   "id": "de7a7b7f-1cce-4a1f-bac9-3228184ab558",
   "metadata": {},
   "outputs": [],
   "source": [
    "contacts = list_contacts(client, contact_list, topic)"
   ]
  },
  {
   "cell_type": "code",
   "execution_count": 48,
   "id": "f1ea0570-c66e-4cb2-955f-3c985b262b03",
   "metadata": {},
   "outputs": [],
   "source": [
    "entries = [e for e in get_bulk_entries(contacts) if \"kelly\" in e[\"Destination\"][\"ToAddresses\"][0]]"
   ]
  },
  {
   "cell_type": "code",
   "execution_count": 49,
   "id": "cc7e807a-58a1-46cc-b818-eaeb8ebc3327",
   "metadata": {},
   "outputs": [
    {
     "data": {
      "text/plain": [
       "{'ResponseMetadata': {'RequestId': 'ed137a45-d649-4bf9-9eb0-4f4a751f5159',\n",
       "  'HTTPStatusCode': 200,\n",
       "  'HTTPHeaders': {'date': 'Thu, 10 Mar 2022 01:48:43 GMT',\n",
       "   'content-type': 'application/json',\n",
       "   'content-length': '136',\n",
       "   'connection': 'keep-alive',\n",
       "   'x-amzn-requestid': 'ed137a45-d649-4bf9-9eb0-4f4a751f5159'},\n",
       "  'RetryAttempts': 0},\n",
       " 'BulkEmailEntryResults': [{'Status': 'SUCCESS',\n",
       "   'MessageId': '0101017f718394bf-628b0eb5-cdce-4685-a721-ca31e611151b-000000'}]}"
      ]
     },
     "execution_count": 49,
     "metadata": {},
     "output_type": "execute_result"
    }
   ],
   "source": [
    "r = client.send_bulk_email(\n",
    "    FromEmailAddress=from_addr,\n",
    "    DefaultContent={\n",
    "        'Template': {\n",
    "            'TemplateName': template_name,\n",
    "            'TemplateData': '{\"name\": \"friend\", \"favoriteanimal\": \"not sure\"}'\n",
    "        }\n",
    "    },\n",
    "    BulkEmailEntries=entries,\n",
    "); r"
   ]
  },
  {
   "cell_type": "code",
   "execution_count": 2,
   "id": "a0088f34-60c2-4e7f-866c-3e210ab28ee6",
   "metadata": {},
   "outputs": [],
   "source": [
    "results = [{'Status': 'SUCCESS',\n",
    "   'MessageId': '0101017f718394bf-628b0eb5-cdce-4685-a721-ca31e611151b-000000'}]"
   ]
  },
  {
   "cell_type": "code",
   "execution_count": 7,
   "id": "5134f634-7b6c-49d5-bf79-90f42a60b322",
   "metadata": {},
   "outputs": [
    {
     "data": {
      "text/plain": [
       "True"
      ]
     },
     "execution_count": 7,
     "metadata": {},
     "output_type": "execute_result"
    }
   ],
   "source": [
    "all([k[\"Status\"] == \"SUCCESS\" for k in results])"
   ]
  },
  {
   "cell_type": "code",
   "execution_count": 8,
   "id": "25610188-4ca8-43a9-9dec-873a930fc2f8",
   "metadata": {},
   "outputs": [
    {
     "data": {
      "text/plain": [
       "{'ResponseMetadata': {'RequestId': '9dba4950-a902-44bf-96c8-d93ff6e3b34c',\n",
       "  'HTTPStatusCode': 200,\n",
       "  'HTTPHeaders': {'date': 'Wed, 09 Mar 2022 19:09:26 GMT',\n",
       "   'content-type': 'application/json',\n",
       "   'content-length': '76',\n",
       "   'connection': 'keep-alive',\n",
       "   'x-amzn-requestid': '9dba4950-a902-44bf-96c8-d93ff6e3b34c'},\n",
       "  'RetryAttempts': 0},\n",
       " 'MessageId': '0101017f701607b8-0f106dd6-8da9-4405-89d7-bce6cb37cc50-000000'}"
      ]
     },
     "execution_count": 8,
     "metadata": {},
     "output_type": "execute_result"
    }
   ],
   "source": [
    "r"
   ]
  },
  {
   "cell_type": "markdown",
   "id": "c66cda2a-f062-405f-91ca-c0ef18d7f485",
   "metadata": {},
   "source": [
    "### Scratch Pad"
   ]
  },
  {
   "cell_type": "code",
   "execution_count": 9,
   "id": "0d9c49da-7509-4b3f-99e7-8dbc582bebb0",
   "metadata": {},
   "outputs": [
    {
     "data": {
      "text/plain": [
       "['AccountSuspendedException',\n",
       " 'AlreadyExistsException',\n",
       " 'BadRequestException',\n",
       " 'ClientError',\n",
       " 'ConcurrentModificationException',\n",
       " 'ConflictException',\n",
       " 'InvalidNextTokenException',\n",
       " 'LimitExceededException',\n",
       " 'MailFromDomainNotVerifiedException',\n",
       " 'MessageRejected',\n",
       " 'NotFoundException',\n",
       " 'SendingPausedException',\n",
       " 'TooManyRequestsException',\n",
       " '__class__',\n",
       " '__delattr__',\n",
       " '__dict__',\n",
       " '__dir__',\n",
       " '__doc__',\n",
       " '__eq__',\n",
       " '__format__',\n",
       " '__ge__',\n",
       " '__getattr__',\n",
       " '__getattribute__',\n",
       " '__gt__',\n",
       " '__hash__',\n",
       " '__init__',\n",
       " '__init_subclass__',\n",
       " '__le__',\n",
       " '__lt__',\n",
       " '__module__',\n",
       " '__ne__',\n",
       " '__new__',\n",
       " '__reduce__',\n",
       " '__reduce_ex__',\n",
       " '__repr__',\n",
       " '__setattr__',\n",
       " '__sizeof__',\n",
       " '__str__',\n",
       " '__subclasshook__',\n",
       " '__weakref__',\n",
       " '_code_to_exception',\n",
       " 'from_code']"
      ]
     },
     "execution_count": 9,
     "metadata": {},
     "output_type": "execute_result"
    }
   ],
   "source": [
    "dir(client.exceptions)"
   ]
  },
  {
   "cell_type": "code",
   "execution_count": 7,
   "id": "9a4ed51e-f905-49e2-9268-660733819666",
   "metadata": {},
   "outputs": [],
   "source": [
    "s = \"{ \\\"name\\\":\\\"Alejandro\\\", \\\"favoriteanimal\\\": \\\"alligator\\\" }\""
   ]
  },
  {
   "cell_type": "code",
   "execution_count": 9,
   "id": "213ce415-56cf-4cc9-b086-75c0f8855348",
   "metadata": {},
   "outputs": [],
   "source": [
    "import json"
   ]
  },
  {
   "cell_type": "code",
   "execution_count": 11,
   "id": "0002b0b4-787c-4ff1-adbc-793b373ce135",
   "metadata": {},
   "outputs": [
    {
     "data": {
      "text/plain": [
       "{'name': 'Alejandro', 'favoriteanimal': 'alligator'}"
      ]
     },
     "execution_count": 11,
     "metadata": {},
     "output_type": "execute_result"
    }
   ],
   "source": [
    "json.loads(s)"
   ]
  },
  {
   "cell_type": "code",
   "execution_count": 14,
   "id": "c661d823-a276-4b2a-84bf-7aee374df5c4",
   "metadata": {},
   "outputs": [
    {
     "data": {
      "text/plain": [
       "'\"{\\\\\"name\\\\\": \\\\\"Alejandro\\\\\", \\\\\"favoriteanimal\\\\\": \\\\\"alligator\\\\\"}\"'"
      ]
     },
     "execution_count": 14,
     "metadata": {},
     "output_type": "execute_result"
    }
   ],
   "source": [
    "json.dumps(json.dumps(_11))"
   ]
  },
  {
   "cell_type": "code",
   "execution_count": null,
   "id": "b83da9be-4997-4812-80ba-3537cc01bdf1",
   "metadata": {},
   "outputs": [],
   "source": []
  }
 ],
 "metadata": {
  "kernelspec": {
   "display_name": "Python 3 (ipykernel)",
   "language": "python",
   "name": "python3"
  },
  "language_info": {
   "codemirror_mode": {
    "name": "ipython",
    "version": 3
   },
   "file_extension": ".py",
   "mimetype": "text/x-python",
   "name": "python",
   "nbconvert_exporter": "python",
   "pygments_lexer": "ipython3",
   "version": "3.9.9"
  }
 },
 "nbformat": 4,
 "nbformat_minor": 5
}
