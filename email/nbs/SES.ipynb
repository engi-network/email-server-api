{
 "cells": [
  {
   "cell_type": "code",
   "execution_count": 1,
   "id": "b6aae82a",
   "metadata": {},
   "outputs": [],
   "source": [
    "import boto3"
   ]
  },
  {
   "cell_type": "code",
   "execution_count": 2,
   "id": "9d7b7060-82e4-43fe-9ebf-0546d6cf9e5e",
   "metadata": {},
   "outputs": [],
   "source": [
    "email = \"christopherkelly@engi.network\"\n",
    "from_addr = email"
   ]
  },
  {
   "cell_type": "code",
   "execution_count": 3,
   "id": "ac9c4a56-ee66-444b-a821-e9918bf73d26",
   "metadata": {},
   "outputs": [],
   "source": [
    "contact_list = \"engi-newsletter\"\n",
    "template_name = \"engi-newsletter-welcome-template\""
   ]
  },
  {
   "cell_type": "code",
   "execution_count": 4,
   "id": "e87efbc9",
   "metadata": {},
   "outputs": [],
   "source": [
    "client = boto3.client(\"sesv2\")"
   ]
  },
  {
   "cell_type": "markdown",
   "id": "a397c906-6ffe-4065-abb3-43f19473d7e9",
   "metadata": {
    "jp-MarkdownHeadingCollapsed": true,
    "tags": []
   },
   "source": [
    "### Celery SQS backend"
   ]
  },
  {
   "cell_type": "markdown",
   "id": "bc15bdee-340e-4927-892b-edf44c27763b",
   "metadata": {},
   "source": [
    "See https://docs.celeryq.dev/en/stable/getting-started/backends-and-brokers/sqs.html#broker-sqs\n",
    "\n",
    "Be careful about having multiple Celery workers dequeueing jobs from the same queue!"
   ]
  },
  {
   "cell_type": "code",
   "execution_count": 5,
   "id": "83a5c95b-5853-487d-b585-e22ce3062ab7",
   "metadata": {},
   "outputs": [],
   "source": [
    "sqs_client = boto3.client(\"sqs\")"
   ]
  },
  {
   "cell_type": "code",
   "execution_count": 6,
   "id": "ffc9c56c-d91d-4abd-b980-9210d4de35ca",
   "metadata": {},
   "outputs": [
    {
     "data": {
      "text/plain": [
       "{'QueueUrls': ['https://us-west-2.queue.amazonaws.com/163803973373/celery',\n",
       "  'https://us-west-2.queue.amazonaws.com/163803973373/dev-email-server-celery',\n",
       "  'https://us-west-2.queue.amazonaws.com/163803973373/e969e804-d411-48ef-b050-df6afcced3da-same-story-test-queue',\n",
       "  'https://us-west-2.queue.amazonaws.com/163803973373/prod-email-server-celery',\n",
       "  'https://us-west-2.queue.amazonaws.com/163803973373/same-story-api',\n",
       "  'https://us-west-2.queue.amazonaws.com/163803973373/same-story-check-queue'],\n",
       " 'ResponseMetadata': {'RequestId': 'd646e254-f674-5b63-a3a4-b8a7bde16f0c',\n",
       "  'HTTPStatusCode': 200,\n",
       "  'HTTPHeaders': {'x-amzn-requestid': 'd646e254-f674-5b63-a3a4-b8a7bde16f0c',\n",
       "   'date': 'Mon, 09 May 2022 17:03:17 GMT',\n",
       "   'content-type': 'text/xml',\n",
       "   'content-length': '825'},\n",
       "  'RetryAttempts': 0}}"
      ]
     },
     "execution_count": 6,
     "metadata": {},
     "output_type": "execute_result"
    }
   ],
   "source": [
    "sqs_client.list_queues()"
   ]
  },
  {
   "cell_type": "code",
   "execution_count": 12,
   "id": "baf45e7c-c433-4381-a54d-348c3d5b8c49",
   "metadata": {},
   "outputs": [
    {
     "data": {
      "text/plain": [
       "{'ResponseMetadata': {'RequestId': 'd2087a39-6373-51b8-a351-2086db9ae309',\n",
       "  'HTTPStatusCode': 200,\n",
       "  'HTTPHeaders': {'x-amzn-requestid': 'd2087a39-6373-51b8-a351-2086db9ae309',\n",
       "   'date': 'Thu, 31 Mar 2022 14:11:53 GMT',\n",
       "   'content-type': 'text/xml',\n",
       "   'content-length': '211'},\n",
       "  'RetryAttempts': 0}}"
      ]
     },
     "execution_count": 12,
     "metadata": {},
     "output_type": "execute_result"
    }
   ],
   "source": [
    "sqs_client.delete_queue(QueueUrl=\"https://us-west-2.queue.amazonaws.com/163803973373/celery-email-server-devcelery\")"
   ]
  },
  {
   "cell_type": "code",
   "execution_count": 5,
   "id": "bf0b3955-4c5d-4528-947d-aa08e79e9d82",
   "metadata": {},
   "outputs": [],
   "source": [
    "topics = [\n",
    "    {\n",
    "        'TopicName': 'engi-programmer',\n",
    "        'DisplayName': 'Engi Programmers',\n",
    "        'Description': 'updates of specific interest for programmers',\n",
    "        'DefaultSubscriptionStatus': 'OPT_IN'\n",
    "    },\n",
    "    {\n",
    "        'TopicName': 'engi-business',\n",
    "        'DisplayName': 'Engi Business',\n",
    "        'Description': 'updates of specific interest for business',\n",
    "        'DefaultSubscriptionStatus': 'OPT_IN'\n",
    "    },\n",
    "    {\n",
    "        'TopicName': 'engi-investor',\n",
    "        'DisplayName': 'Engi Investor',\n",
    "        'Description': 'updates of specific interest for investors',\n",
    "        'DefaultSubscriptionStatus': 'OPT_IN'\n",
    "    },\n",
    "    {\n",
    "        'TopicName': 'engi-curious',\n",
    "        'DisplayName': 'Engi Curious',\n",
    "        'Description': 'updates of interest for the curious',\n",
    "        'DefaultSubscriptionStatus': 'OPT_IN'\n",
    "    },\n",
    "    {\n",
    "        'TopicName': 'engi-newsletter',\n",
    "        'DisplayName': 'The Engi Newsletter',\n",
    "        'Description': 'subscribe to updates about the development of engi',\n",
    "        'DefaultSubscriptionStatus': 'OPT_IN'\n",
    "    },\n",
    "]"
   ]
  },
  {
   "cell_type": "markdown",
   "id": "7435aeaf",
   "metadata": {
    "tags": []
   },
   "source": [
    "### Templates"
   ]
  },
  {
   "cell_type": "code",
   "execution_count": 5,
   "id": "fbcabdf6",
   "metadata": {},
   "outputs": [
    {
     "data": {
      "text/plain": [
       "{'ResponseMetadata': {'RequestId': '0d86d247-1f9e-40ab-a95f-71386d04c232',\n",
       "  'HTTPStatusCode': 200,\n",
       "  'HTTPHeaders': {'date': 'Thu, 10 Mar 2022 00:46:40 GMT',\n",
       "   'content-type': 'application/x-amz-json-1.1',\n",
       "   'content-length': '124',\n",
       "   'connection': 'keep-alive',\n",
       "   'x-amzn-requestid': '0d86d247-1f9e-40ab-a95f-71386d04c232'},\n",
       "  'RetryAttempts': 0},\n",
       " 'TemplatesMetadata': [{'TemplateName': 'engi-newsletter-welcome-template',\n",
       "   'CreatedTimestamp': datetime.datetime(2021, 10, 10, 12, 59, 20, tzinfo=tzlocal())}]}"
      ]
     },
     "execution_count": 5,
     "metadata": {},
     "output_type": "execute_result"
    }
   ],
   "source": [
    "client.list_email_templates()"
   ]
  },
  {
   "cell_type": "code",
   "execution_count": 6,
   "id": "f44bf0c0-8183-4753-a96f-7bf175af2775",
   "metadata": {},
   "outputs": [
    {
     "data": {
      "text/plain": [
       "{'ResponseMetadata': {'RequestId': '24f5b140-82b3-4e4e-81bd-945a65964423',\n",
       "  'HTTPStatusCode': 200,\n",
       "  'HTTPHeaders': {'date': 'Wed, 30 Mar 2022 23:51:08 GMT',\n",
       "   'content-type': 'application/x-amz-json-1.1',\n",
       "   'content-length': '235',\n",
       "   'connection': 'keep-alive',\n",
       "   'x-amzn-requestid': '24f5b140-82b3-4e4e-81bd-945a65964423'},\n",
       "  'RetryAttempts': 0},\n",
       " 'TemplateName': 'engi-newsletter-welcome-template',\n",
       " 'TemplateContent': {'Subject': 'Welcome to Engi',\n",
       "  'Text': 'Hi friend!\\nThanks for subscribing to Engi updates.',\n",
       "  'Html': '<h1>Hi friend!</h1><p>Thanks for subscribing to Engi updates.</p>'}}"
      ]
     },
     "execution_count": 6,
     "metadata": {},
     "output_type": "execute_result"
    }
   ],
   "source": [
    "client.get_email_template(TemplateName=template_name)"
   ]
  },
  {
   "cell_type": "code",
   "execution_count": 7,
   "id": "5a2b6d6b-7746-4574-96bc-8dcdbc683a4f",
   "metadata": {},
   "outputs": [
    {
     "data": {
      "text/plain": [
       "{'ResponseMetadata': {'RequestId': '5a77b059-c6f6-4b64-a738-637fe57c375b',\n",
       "  'HTTPStatusCode': 200,\n",
       "  'HTTPHeaders': {'date': 'Wed, 30 Mar 2022 23:37:34 GMT',\n",
       "   'content-type': 'application/json',\n",
       "   'content-length': '2',\n",
       "   'connection': 'keep-alive',\n",
       "   'x-amzn-requestid': '5a77b059-c6f6-4b64-a738-637fe57c375b'},\n",
       "  'RetryAttempts': 0}}"
      ]
     },
     "execution_count": 7,
     "metadata": {},
     "output_type": "execute_result"
    }
   ],
   "source": [
    "client.update_email_template(\n",
    "    TemplateName=template_name,\n",
    "    TemplateContent={\n",
    "        'Subject': 'Welcome to Engi',\n",
    "        'Text': 'Hi friend!\\nThanks for subscribing to Engi updates.',\n",
    "        'Html': '<h1>Hi friend!</h1><p>Thanks for subscribing to Engi updates.</p>'\n",
    "    }\n",
    ")"
   ]
  },
  {
   "cell_type": "markdown",
   "id": "7e087281",
   "metadata": {
    "tags": []
   },
   "source": [
    "### Contact Lists"
   ]
  },
  {
   "cell_type": "code",
   "execution_count": 7,
   "id": "f40d9436",
   "metadata": {},
   "outputs": [
    {
     "data": {
      "text/plain": [
       "{'ResponseMetadata': {'RequestId': 'fa3fd31e-1165-43c7-acc2-092bdb907eca',\n",
       "  'HTTPStatusCode': 200,\n",
       "  'HTTPHeaders': {'date': 'Mon, 09 May 2022 17:03:36 GMT',\n",
       "   'content-type': 'application/x-amz-json-1.1',\n",
       "   'content-length': '113',\n",
       "   'connection': 'keep-alive',\n",
       "   'x-amzn-requestid': 'fa3fd31e-1165-43c7-acc2-092bdb907eca'},\n",
       "  'RetryAttempts': 0},\n",
       " 'ContactLists': [{'ContactListName': 'engi-newsletter',\n",
       "   'LastUpdatedTimestamp': datetime.datetime(2022, 3, 11, 6, 13, 22, 579000, tzinfo=tzlocal())}]}"
      ]
     },
     "execution_count": 7,
     "metadata": {},
     "output_type": "execute_result"
    }
   ],
   "source": [
    "client.list_contact_lists()"
   ]
  },
  {
   "cell_type": "code",
   "execution_count": 5,
   "id": "a90ca945",
   "metadata": {},
   "outputs": [
    {
     "data": {
      "text/plain": [
       "{'ResponseMetadata': {'RequestId': '9d65641b-ae7b-4e5a-acfd-6d6340a63fe4',\n",
       "  'HTTPStatusCode': 200,\n",
       "  'HTTPHeaders': {'date': 'Tue, 17 May 2022 13:05:08 GMT',\n",
       "   'content-type': 'application/x-amz-json-1.1',\n",
       "   'content-length': '981',\n",
       "   'connection': 'keep-alive',\n",
       "   'x-amzn-requestid': '9d65641b-ae7b-4e5a-acfd-6d6340a63fe4'},\n",
       "  'RetryAttempts': 0},\n",
       " 'ContactListName': 'engi-newsletter',\n",
       " 'Topics': [{'TopicName': 'engi-programmer',\n",
       "   'DisplayName': 'Engi Programmers',\n",
       "   'Description': 'updates of specific interest for programmers',\n",
       "   'DefaultSubscriptionStatus': 'OPT_IN'},\n",
       "  {'TopicName': 'engi-business',\n",
       "   'DisplayName': 'Engi Business',\n",
       "   'Description': 'updates of specific interest for business',\n",
       "   'DefaultSubscriptionStatus': 'OPT_IN'},\n",
       "  {'TopicName': 'engi-investor',\n",
       "   'DisplayName': 'Engi Investor',\n",
       "   'Description': 'updates of specific interest for investors',\n",
       "   'DefaultSubscriptionStatus': 'OPT_IN'},\n",
       "  {'TopicName': 'engi-curious',\n",
       "   'DisplayName': 'Engi Curious',\n",
       "   'Description': 'updates of interest for the curious',\n",
       "   'DefaultSubscriptionStatus': 'OPT_IN'},\n",
       "  {'TopicName': 'engi-newsletter',\n",
       "   'DisplayName': 'The Engi Newsletter',\n",
       "   'Description': 'subscribe to updates about the development of engi',\n",
       "   'DefaultSubscriptionStatus': 'OPT_IN'}],\n",
       " 'CreatedTimestamp': datetime.datetime(2021, 10, 10, 12, 46, 2, 662000, tzinfo=tzlocal()),\n",
       " 'LastUpdatedTimestamp': datetime.datetime(2022, 3, 11, 6, 13, 22, 579000, tzinfo=tzlocal()),\n",
       " 'Tags': [{'Key': 'engi', 'Value': 'newsletter'}]}"
      ]
     },
     "execution_count": 5,
     "metadata": {},
     "output_type": "execute_result"
    }
   ],
   "source": [
    "client.get_contact_list(ContactListName=contact_list)"
   ]
  },
  {
   "cell_type": "code",
   "execution_count": 9,
   "id": "cdbae7d1-f3b6-4848-9c22-fa0015a7964c",
   "metadata": {},
   "outputs": [
    {
     "ename": "BadRequestException",
     "evalue": "An error occurred (BadRequestException) when calling the CreateContactList operation: A maximum of 1 Lists allowed per account.",
     "output_type": "error",
     "traceback": [
      "\u001b[0;31m---------------------------------------------------------------------------\u001b[0m",
      "\u001b[0;31mBadRequestException\u001b[0m                       Traceback (most recent call last)",
      "Input \u001b[0;32mIn [9]\u001b[0m, in \u001b[0;36m<cell line: 1>\u001b[0;34m()\u001b[0m\n\u001b[0;32m----> 1\u001b[0m r \u001b[38;5;241m=\u001b[39m \u001b[43mclient\u001b[49m\u001b[38;5;241;43m.\u001b[39;49m\u001b[43mcreate_contact_list\u001b[49m\u001b[43m(\u001b[49m\n\u001b[1;32m      2\u001b[0m \u001b[43m    \u001b[49m\u001b[43mContactListName\u001b[49m\u001b[38;5;241;43m=\u001b[39;49m\u001b[43mcontact_list\u001b[49m\u001b[43m,\u001b[49m\n\u001b[1;32m      3\u001b[0m \u001b[43m    \u001b[49m\u001b[43mTopics\u001b[49m\u001b[38;5;241;43m=\u001b[39;49m\u001b[43mtopics\u001b[49m\u001b[43m,\u001b[49m\n\u001b[1;32m      4\u001b[0m \u001b[43m    \u001b[49m\u001b[43mDescription\u001b[49m\u001b[38;5;241;43m=\u001b[39;49m\u001b[38;5;124;43m\"\u001b[39;49m\u001b[38;5;124;43mtesting\u001b[39;49m\u001b[38;5;124;43m\"\u001b[39;49m\u001b[43m,\u001b[49m\n\u001b[1;32m      5\u001b[0m \u001b[43m)\u001b[49m\n",
      "File \u001b[0;32m~/.local/share/virtualenvs/server-HR28Vc4A/lib/python3.9/site-packages/botocore/client.py:395\u001b[0m, in \u001b[0;36mClientCreator._create_api_method.<locals>._api_call\u001b[0;34m(self, *args, **kwargs)\u001b[0m\n\u001b[1;32m    392\u001b[0m     \u001b[38;5;28;01mraise\u001b[39;00m \u001b[38;5;167;01mTypeError\u001b[39;00m(\n\u001b[1;32m    393\u001b[0m         \u001b[38;5;124m\"\u001b[39m\u001b[38;5;132;01m%s\u001b[39;00m\u001b[38;5;124m() only accepts keyword arguments.\u001b[39m\u001b[38;5;124m\"\u001b[39m \u001b[38;5;241m%\u001b[39m py_operation_name)\n\u001b[1;32m    394\u001b[0m \u001b[38;5;66;03m# The \"self\" in this scope is referring to the BaseClient.\u001b[39;00m\n\u001b[0;32m--> 395\u001b[0m \u001b[38;5;28;01mreturn\u001b[39;00m \u001b[38;5;28;43mself\u001b[39;49m\u001b[38;5;241;43m.\u001b[39;49m\u001b[43m_make_api_call\u001b[49m\u001b[43m(\u001b[49m\u001b[43moperation_name\u001b[49m\u001b[43m,\u001b[49m\u001b[43m \u001b[49m\u001b[43mkwargs\u001b[49m\u001b[43m)\u001b[49m\n",
      "File \u001b[0;32m~/.local/share/virtualenvs/server-HR28Vc4A/lib/python3.9/site-packages/botocore/client.py:725\u001b[0m, in \u001b[0;36mBaseClient._make_api_call\u001b[0;34m(self, operation_name, api_params)\u001b[0m\n\u001b[1;32m    723\u001b[0m     error_code \u001b[38;5;241m=\u001b[39m parsed_response\u001b[38;5;241m.\u001b[39mget(\u001b[38;5;124m\"\u001b[39m\u001b[38;5;124mError\u001b[39m\u001b[38;5;124m\"\u001b[39m, {})\u001b[38;5;241m.\u001b[39mget(\u001b[38;5;124m\"\u001b[39m\u001b[38;5;124mCode\u001b[39m\u001b[38;5;124m\"\u001b[39m)\n\u001b[1;32m    724\u001b[0m     error_class \u001b[38;5;241m=\u001b[39m \u001b[38;5;28mself\u001b[39m\u001b[38;5;241m.\u001b[39mexceptions\u001b[38;5;241m.\u001b[39mfrom_code(error_code)\n\u001b[0;32m--> 725\u001b[0m     \u001b[38;5;28;01mraise\u001b[39;00m error_class(parsed_response, operation_name)\n\u001b[1;32m    726\u001b[0m \u001b[38;5;28;01melse\u001b[39;00m:\n\u001b[1;32m    727\u001b[0m     \u001b[38;5;28;01mreturn\u001b[39;00m parsed_response\n",
      "\u001b[0;31mBadRequestException\u001b[0m: An error occurred (BadRequestException) when calling the CreateContactList operation: A maximum of 1 Lists allowed per account."
     ]
    }
   ],
   "source": [
    "r = client.create_contact_list(\n",
    "    ContactListName=contact_list,\n",
    "    Topics=topics,\n",
    "    Description=\"testing\",\n",
    ")"
   ]
  },
  {
   "cell_type": "code",
   "execution_count": null,
   "id": "21fa8963-620f-4e21-af7e-7453794e9674",
   "metadata": {},
   "outputs": [],
   "source": []
  },
  {
   "cell_type": "code",
   "execution_count": 6,
   "id": "37bb4af9-82c9-4d7a-9754-5b31eb72b76a",
   "metadata": {},
   "outputs": [
    {
     "data": {
      "text/plain": [
       "{'ResponseMetadata': {'RequestId': 'c7f0ce58-0527-4919-9de2-e95882dfab63',\n",
       "  'HTTPStatusCode': 200,\n",
       "  'HTTPHeaders': {'date': 'Tue, 17 May 2022 13:05:19 GMT',\n",
       "   'content-type': 'application/json',\n",
       "   'content-length': '2332',\n",
       "   'connection': 'close',\n",
       "   'x-amzn-requestid': 'c7f0ce58-0527-4919-9de2-e95882dfab63'},\n",
       "  'RetryAttempts': 0},\n",
       " 'Contacts': [{'EmailAddress': 'garrett.maring@gmail.com',\n",
       "   'TopicPreferences': [{'TopicName': 'engi-investor',\n",
       "     'SubscriptionStatus': 'OPT_IN'},\n",
       "    {'TopicName': 'engi-newsletter', 'SubscriptionStatus': 'OPT_IN'},\n",
       "    {'TopicName': 'engi-programmer', 'SubscriptionStatus': 'OPT_IN'},\n",
       "    {'TopicName': 'engi-curious', 'SubscriptionStatus': 'OPT_IN'},\n",
       "    {'TopicName': 'engi-business', 'SubscriptionStatus': 'OPT_IN'}],\n",
       "   'UnsubscribeAll': False,\n",
       "   'LastUpdatedTimestamp': datetime.datetime(2022, 3, 30, 17, 48, 45, 30000, tzinfo=tzlocal())},\n",
       "  {'EmailAddress': 'cyung10892@gmail.com',\n",
       "   'TopicPreferences': [{'TopicName': 'engi-investor',\n",
       "     'SubscriptionStatus': 'OPT_IN'},\n",
       "    {'TopicName': 'engi-newsletter', 'SubscriptionStatus': 'OPT_IN'},\n",
       "    {'TopicName': 'engi-programmer', 'SubscriptionStatus': 'OPT_IN'},\n",
       "    {'TopicName': 'engi-curious', 'SubscriptionStatus': 'OPT_IN'},\n",
       "    {'TopicName': 'engi-business', 'SubscriptionStatus': 'OPT_IN'}],\n",
       "   'UnsubscribeAll': False,\n",
       "   'LastUpdatedTimestamp': datetime.datetime(2022, 5, 13, 9, 17, 33, 254000, tzinfo=tzlocal())},\n",
       "  {'EmailAddress': 'test-cz8a8h9kx@srv1.mail-tester.com',\n",
       "   'TopicPreferences': [{'TopicName': 'engi-investor',\n",
       "     'SubscriptionStatus': 'OPT_IN'},\n",
       "    {'TopicName': 'engi-newsletter', 'SubscriptionStatus': 'OPT_IN'},\n",
       "    {'TopicName': 'engi-programmer', 'SubscriptionStatus': 'OPT_IN'},\n",
       "    {'TopicName': 'engi-curious', 'SubscriptionStatus': 'OPT_IN'},\n",
       "    {'TopicName': 'engi-business', 'SubscriptionStatus': 'OPT_IN'}],\n",
       "   'UnsubscribeAll': False,\n",
       "   'LastUpdatedTimestamp': datetime.datetime(2022, 5, 13, 12, 28, 25, 434000, tzinfo=tzlocal())},\n",
       "  {'EmailAddress': 'chrisyung@engi.network',\n",
       "   'TopicPreferences': [{'TopicName': 'engi-investor',\n",
       "     'SubscriptionStatus': 'OPT_IN'},\n",
       "    {'TopicName': 'engi-newsletter', 'SubscriptionStatus': 'OPT_IN'},\n",
       "    {'TopicName': 'engi-programmer', 'SubscriptionStatus': 'OPT_IN'},\n",
       "    {'TopicName': 'engi-curious', 'SubscriptionStatus': 'OPT_IN'},\n",
       "    {'TopicName': 'engi-business', 'SubscriptionStatus': 'OPT_IN'}],\n",
       "   'UnsubscribeAll': False,\n",
       "   'LastUpdatedTimestamp': datetime.datetime(2022, 3, 31, 16, 52, 32, 97000, tzinfo=tzlocal())},\n",
       "  {'EmailAddress': 'g@engi.network',\n",
       "   'TopicPreferences': [{'TopicName': 'engi-investor',\n",
       "     'SubscriptionStatus': 'OPT_IN'},\n",
       "    {'TopicName': 'engi-curious', 'SubscriptionStatus': 'OPT_IN'},\n",
       "    {'TopicName': 'engi-programmer', 'SubscriptionStatus': 'OPT_IN'},\n",
       "    {'TopicName': 'engi-business', 'SubscriptionStatus': 'OPT_IN'}],\n",
       "   'TopicDefaultPreferences': [{'TopicName': 'engi-newsletter',\n",
       "     'SubscriptionStatus': 'OPT_IN'}],\n",
       "   'UnsubscribeAll': False,\n",
       "   'LastUpdatedTimestamp': datetime.datetime(2022, 3, 18, 11, 12, 42, 698000, tzinfo=tzlocal())}]}"
      ]
     },
     "execution_count": 6,
     "metadata": {},
     "output_type": "execute_result"
    }
   ],
   "source": [
    "client.list_contacts(ContactListName=contact_list)"
   ]
  },
  {
   "cell_type": "code",
   "execution_count": 11,
   "id": "6ad72ac3-dafa-4291-ae7d-826467240938",
   "metadata": {},
   "outputs": [
    {
     "data": {
      "text/plain": [
       "{'ResponseMetadata': {'RequestId': '00c7113d-4248-4d1f-90f8-fe6ea4c5b4ef',\n",
       "  'HTTPStatusCode': 200,\n",
       "  'HTTPHeaders': {'date': 'Thu, 10 Mar 2022 00:57:18 GMT',\n",
       "   'content-type': 'application/json',\n",
       "   'content-length': '3063',\n",
       "   'connection': 'close',\n",
       "   'x-amzn-requestid': '00c7113d-4248-4d1f-90f8-fe6ea4c5b4ef'},\n",
       "  'RetryAttempts': 0},\n",
       " 'Contacts': [{'EmailAddress': '12@engi.network',\n",
       "   'TopicPreferences': [{'TopicName': 'engi-newsletter',\n",
       "     'SubscriptionStatus': 'OPT_IN'}],\n",
       "   'UnsubscribeAll': False,\n",
       "   'LastUpdatedTimestamp': datetime.datetime(2022, 3, 9, 13, 46, 45, 86000, tzinfo=tzlocal())},\n",
       "  {'EmailAddress': '3@engi.network',\n",
       "   'TopicPreferences': [{'TopicName': 'engi-newsletter',\n",
       "     'SubscriptionStatus': 'OPT_IN'}],\n",
       "   'UnsubscribeAll': False,\n",
       "   'LastUpdatedTimestamp': datetime.datetime(2022, 3, 9, 13, 46, 44, 276000, tzinfo=tzlocal())},\n",
       "  {'EmailAddress': '18@engi.network',\n",
       "   'TopicPreferences': [{'TopicName': 'engi-newsletter',\n",
       "     'SubscriptionStatus': 'OPT_IN'}],\n",
       "   'UnsubscribeAll': False,\n",
       "   'LastUpdatedTimestamp': datetime.datetime(2022, 3, 9, 13, 46, 45, 850000, tzinfo=tzlocal())},\n",
       "  {'EmailAddress': '9@engi.network',\n",
       "   'TopicPreferences': [{'TopicName': 'engi-newsletter',\n",
       "     'SubscriptionStatus': 'OPT_IN'}],\n",
       "   'UnsubscribeAll': False,\n",
       "   'LastUpdatedTimestamp': datetime.datetime(2022, 3, 9, 13, 46, 44, 839000, tzinfo=tzlocal())},\n",
       "  {'EmailAddress': 'christopherkelly@engi.network',\n",
       "   'TopicPreferences': [{'TopicName': 'engi-newsletter',\n",
       "     'SubscriptionStatus': 'OPT_IN'}],\n",
       "   'UnsubscribeAll': False,\n",
       "   'LastUpdatedTimestamp': datetime.datetime(2022, 3, 9, 13, 37, 22, 96000, tzinfo=tzlocal())},\n",
       "  {'EmailAddress': '6@engi.network',\n",
       "   'TopicPreferences': [{'TopicName': 'engi-newsletter',\n",
       "     'SubscriptionStatus': 'OPT_IN'}],\n",
       "   'UnsubscribeAll': False,\n",
       "   'LastUpdatedTimestamp': datetime.datetime(2022, 3, 9, 13, 46, 44, 550000, tzinfo=tzlocal())},\n",
       "  {'EmailAddress': '0@engi.network',\n",
       "   'TopicPreferences': [{'TopicName': 'engi-newsletter',\n",
       "     'SubscriptionStatus': 'OPT_IN'}],\n",
       "   'UnsubscribeAll': False,\n",
       "   'LastUpdatedTimestamp': datetime.datetime(2022, 3, 9, 13, 46, 44, 5000, tzinfo=tzlocal())},\n",
       "  {'EmailAddress': '8@engi.network',\n",
       "   'TopicPreferences': [{'TopicName': 'engi-newsletter',\n",
       "     'SubscriptionStatus': 'OPT_IN'}],\n",
       "   'UnsubscribeAll': False,\n",
       "   'LastUpdatedTimestamp': datetime.datetime(2022, 3, 9, 13, 46, 44, 734000, tzinfo=tzlocal())},\n",
       "  {'EmailAddress': '10@engi.network',\n",
       "   'TopicPreferences': [{'TopicName': 'engi-newsletter',\n",
       "     'SubscriptionStatus': 'OPT_IN'}],\n",
       "   'UnsubscribeAll': False,\n",
       "   'LastUpdatedTimestamp': datetime.datetime(2022, 3, 9, 13, 46, 44, 923000, tzinfo=tzlocal())},\n",
       "  {'EmailAddress': '1@engi.network',\n",
       "   'TopicPreferences': [{'TopicName': 'engi-newsletter',\n",
       "     'SubscriptionStatus': 'OPT_IN'}],\n",
       "   'UnsubscribeAll': False,\n",
       "   'LastUpdatedTimestamp': datetime.datetime(2022, 3, 9, 13, 46, 44, 112000, tzinfo=tzlocal())}],\n",
       " 'NextToken': 'AYADeOyO+gNjH83jJrdraDUokuAAXwABABVhd3MtY3J5cHRvLXB1YmxpYy1rZXkAREFxSUc0NmFaNkFhZ0JMTDlIUC9Bd3FzMkNyV3greHlFRnNjYU5DSkJuRUdkM3VkQlJKSy9MN09pT0VldXdxUllQZz09AAEAB2F3cy1rbXMAS2Fybjphd3M6a21zOnVzLXdlc3QtMjozNDk5ODU5ODQ0NTM6a2V5Lzg2OGQyZGIzLWVhMTctNGNiMC04ZjdhLTM3ZDc5OThlMzQ1NAC4AQIBAHha5h/McZzGQg+G4g4wfhsvGI9qPQZJ1fk03QshKWP7mgFK6ymZrCRJ2/xD3B5Z2VSTAAAAfjB8BgkqhkiG9w0BBwagbzBtAgEAMGgGCSqGSIb3DQEHATAeBglghkgBZQMEAS4wEQQM3UKPT/EA6deGtgkiAgEQgDuZM79QCtvQyJPKwgNcG9DbVClQ81iZL4FbFNU1Xdz5Axn0VUi7WQB7SZMr8zrE7IB0xPeCc5UnRJxhpgIAAAAADAAAEAAAAAAAAAAAAAAAAABIla9OY2lIlDDEdXlKsRzD/////wAAAAEAAAAAAAAAAAAAAAEAAABpvlE33Eon8+61RbK2Xb//pLH7Gqhl9aMnQE57wphko64qTK29oDPcoiLgfOrjhHPEVGe9E0KGqJX5Z2Ud7KzeaDCxugi1/9htsuX/c1cEVrDD1zHmSEwWU9SK0FCFHhrtrioDtocw5BdZ2wXa97LU0LbIWrasXNarawBnMGUCMQCa72pWA/UcTWC+OgxVt5RdoOUuhwVMUIIv0LgKIBv+j2TB/Uy5Mf0zaC1+LVMkCGcCMBapHima1nUT2945JlZ/di5f2sbC7ganN0EyBALgMkeagHb0pqua5IAI6gSSE9IoXg=='}"
      ]
     },
     "execution_count": 11,
     "metadata": {},
     "output_type": "execute_result"
    }
   ],
   "source": [
    "topic = \"engi-newsletter\"\n",
    "r = client.list_contacts(\n",
    "    ContactListName=contact_list,\n",
    "    Filter={\n",
    "        'FilteredStatus': 'OPT_IN',\n",
    "        'TopicFilter': {\n",
    "            'TopicName': 'engi-newsletter',\n",
    "            'UseDefaultIfPreferenceUnavailable': True\n",
    "        }\n",
    "    },\n",
    "    PageSize=10,\n",
    "); r"
   ]
  },
  {
   "cell_type": "code",
   "execution_count": 14,
   "id": "117cd528-05a8-4f04-8291-7c4511341f42",
   "metadata": {},
   "outputs": [],
   "source": [
    "r = client.list_contacts(ContactListName=contact_list, NextToken=r[\"NextToken\"])"
   ]
  },
  {
   "cell_type": "code",
   "execution_count": 8,
   "id": "ccc32b57-37e3-4511-ac6e-4efd88ec4b6d",
   "metadata": {},
   "outputs": [],
   "source": [
    "r = client.update_contact_list(\n",
    "    ContactListName=contact_list,\n",
    "    Topics=topics,\n",
    ")"
   ]
  },
  {
   "cell_type": "code",
   "execution_count": 9,
   "id": "f4ca81f2-d86a-4cb0-b8b6-0f54c05c4cef",
   "metadata": {},
   "outputs": [
    {
     "data": {
      "text/plain": [
       "{'ResponseMetadata': {'RequestId': 'aac878c3-e398-487b-a1a4-36e81891dad2',\n",
       "  'HTTPStatusCode': 200,\n",
       "  'HTTPHeaders': {'date': 'Fri, 11 Mar 2022 14:13:22 GMT',\n",
       "   'content-type': 'application/json',\n",
       "   'content-length': '2',\n",
       "   'connection': 'keep-alive',\n",
       "   'x-amzn-requestid': 'aac878c3-e398-487b-a1a4-36e81891dad2'},\n",
       "  'RetryAttempts': 0}}"
      ]
     },
     "execution_count": 9,
     "metadata": {},
     "output_type": "execute_result"
    }
   ],
   "source": [
    "r"
   ]
  },
  {
   "cell_type": "markdown",
   "id": "80951465-19e0-4b89-b48b-4390c934099c",
   "metadata": {
    "tags": []
   },
   "source": [
    "### Contact Management"
   ]
  },
  {
   "cell_type": "code",
   "execution_count": 10,
   "id": "3e03b95c-389a-4b86-a95e-9e99c1cdccb8",
   "metadata": {},
   "outputs": [
    {
     "data": {
      "text/plain": [
       "{'ResponseMetadata': {'RequestId': '63f3d541-d178-4c48-a1f5-aaa80d8ead11',\n",
       "  'HTTPStatusCode': 200,\n",
       "  'HTTPHeaders': {'date': 'Wed, 09 Mar 2022 16:13:05 GMT',\n",
       "   'content-type': 'application/json',\n",
       "   'content-length': '2',\n",
       "   'connection': 'keep-alive',\n",
       "   'x-amzn-requestid': '63f3d541-d178-4c48-a1f5-aaa80d8ead11'},\n",
       "  'RetryAttempts': 0}}"
      ]
     },
     "execution_count": 10,
     "metadata": {},
     "output_type": "execute_result"
    }
   ],
   "source": [
    "client.create_contact(\n",
    "    ContactListName=contact_list,\n",
    "    EmailAddress=email\n",
    ")"
   ]
  },
  {
   "cell_type": "code",
   "execution_count": 9,
   "id": "1063237e-5ffb-4e7d-ad03-6af9151871d2",
   "metadata": {},
   "outputs": [],
   "source": [
    "r = client.get_contact(\n",
    "    ContactListName=contact_list,\n",
    "    EmailAddress=email\n",
    ")#; r"
   ]
  },
  {
   "cell_type": "code",
   "execution_count": 10,
   "id": "bb854e50-862f-4cc6-b7f2-3a7926a9eb21",
   "metadata": {},
   "outputs": [
    {
     "data": {
      "text/plain": [
       "{'ResponseMetadata': {'RequestId': '6baa36d5-b641-4211-9aa0-0fbc4cade675',\n",
       "  'HTTPStatusCode': 200,\n",
       "  'HTTPHeaders': {'date': 'Tue, 17 May 2022 13:06:36 GMT',\n",
       "   'content-type': 'application/x-amz-json-1.1',\n",
       "   'content-length': '560',\n",
       "   'connection': 'keep-alive',\n",
       "   'x-amzn-requestid': '6baa36d5-b641-4211-9aa0-0fbc4cade675'},\n",
       "  'RetryAttempts': 0},\n",
       " 'ContactListName': 'engi-newsletter',\n",
       " 'EmailAddress': 'christopherkelly@engi.network',\n",
       " 'TopicPreferences': [{'TopicName': 'engi-investor',\n",
       "   'SubscriptionStatus': 'OPT_IN'},\n",
       "  {'TopicName': 'engi-newsletter', 'SubscriptionStatus': 'OPT_IN'},\n",
       "  {'TopicName': 'engi-programmer', 'SubscriptionStatus': 'OPT_IN'},\n",
       "  {'TopicName': 'engi-curious', 'SubscriptionStatus': 'OPT_IN'},\n",
       "  {'TopicName': 'engi-business', 'SubscriptionStatus': 'OPT_IN'}],\n",
       " 'UnsubscribeAll': False,\n",
       " 'AttributesData': '{}',\n",
       " 'CreatedTimestamp': datetime.datetime(2022, 5, 17, 6, 6, 23, 159000, tzinfo=tzlocal()),\n",
       " 'LastUpdatedTimestamp': datetime.datetime(2022, 5, 17, 6, 6, 27, 196000, tzinfo=tzlocal())}"
      ]
     },
     "execution_count": 10,
     "metadata": {},
     "output_type": "execute_result"
    }
   ],
   "source": [
    "r"
   ]
  },
  {
   "cell_type": "code",
   "execution_count": 13,
   "id": "b9b2fa75-6d0e-458c-bfb0-7c62b37ec780",
   "metadata": {},
   "outputs": [],
   "source": [
    "r = client.update_contact(\n",
    "    ContactListName=contact_list,\n",
    "    EmailAddress=email,\n",
    "    TopicPreferences=[\n",
    "        {\n",
    "            'TopicName': 'engi-investor',\n",
    "            'SubscriptionStatus': 'OPT_IN'\n",
    "        },\n",
    "    ],\n",
    "    UnsubscribeAll=False,\n",
    "    AttributesData='{\"name\": \"chris\", \"favoriteanimal\": \"bonobo\"}'\n",
    ")\n"
   ]
  },
  {
   "cell_type": "code",
   "execution_count": 19,
   "id": "10598007-a659-430b-817a-c9d974e1fbd9",
   "metadata": {},
   "outputs": [],
   "source": [
    "email = \"g@engi.network\""
   ]
  },
  {
   "cell_type": "code",
   "execution_count": 15,
   "id": "0741ef29-094a-48d8-a059-7695d75d5bd4",
   "metadata": {},
   "outputs": [
    {
     "data": {
      "text/plain": [
       "{'ResponseMetadata': {'RequestId': 'e1a06972-6c43-42c8-8082-e0c097e11e71',\n",
       "  'HTTPStatusCode': 200,\n",
       "  'HTTPHeaders': {'date': 'Fri, 11 Mar 2022 16:47:55 GMT',\n",
       "   'content-type': 'application/x-amz-json-1.1',\n",
       "   'content-length': '612',\n",
       "   'connection': 'keep-alive',\n",
       "   'x-amzn-requestid': 'e1a06972-6c43-42c8-8082-e0c097e11e71'},\n",
       "  'RetryAttempts': 0},\n",
       " 'ContactListName': 'engi-newsletter',\n",
       " 'EmailAddress': 'christopherkelly@engi.network',\n",
       " 'TopicPreferences': [{'TopicName': 'engi-investor',\n",
       "   'SubscriptionStatus': 'OPT_IN'},\n",
       "  {'TopicName': 'engi-newsletter', 'SubscriptionStatus': 'OPT_IN'},\n",
       "  {'TopicName': 'engi-programmer', 'SubscriptionStatus': 'OPT_IN'},\n",
       "  {'TopicName': 'engi-curious', 'SubscriptionStatus': 'OPT_OUT'},\n",
       "  {'TopicName': 'engi-business', 'SubscriptionStatus': 'OPT_IN'}],\n",
       " 'UnsubscribeAll': False,\n",
       " 'AttributesData': '{\"name\": \"chris\", \"favoriteanimal\": \"bonobo\"}',\n",
       " 'CreatedTimestamp': datetime.datetime(2022, 3, 11, 8, 46, 48, 995000, tzinfo=tzlocal()),\n",
       " 'LastUpdatedTimestamp': datetime.datetime(2022, 3, 11, 8, 46, 55, 583000, tzinfo=tzlocal())}"
      ]
     },
     "execution_count": 15,
     "metadata": {},
     "output_type": "execute_result"
    }
   ],
   "source": [
    "r = client.get_contact(\n",
    "    ContactListName=contact_list,\n",
    "    EmailAddress=email\n",
    "); r"
   ]
  },
  {
   "cell_type": "code",
   "execution_count": null,
   "id": "9680be7a-6eda-4cd9-bd19-60ee87aa8477",
   "metadata": {},
   "outputs": [],
   "source": []
  },
  {
   "cell_type": "code",
   "execution_count": 16,
   "id": "e3e0546b-87b7-49cd-9f4f-1f3af69ac26b",
   "metadata": {},
   "outputs": [
    {
     "data": {
      "text/plain": [
       "['engi-newsletter']"
      ]
     },
     "execution_count": 16,
     "metadata": {},
     "output_type": "execute_result"
    }
   ],
   "source": [
    "[d[\"TopicName\"] for d in r[\"TopicPreferences\"]]"
   ]
  },
  {
   "cell_type": "code",
   "execution_count": 18,
   "id": "d29592bb-6609-475a-bbfd-5b868457275d",
   "metadata": {},
   "outputs": [
    {
     "data": {
      "text/plain": [
       "200"
      ]
     },
     "execution_count": 18,
     "metadata": {},
     "output_type": "execute_result"
    }
   ],
   "source": [
    "r[\"ResponseMetadata\"][\"HTTPStatusCode\"]"
   ]
  },
  {
   "cell_type": "code",
   "execution_count": 21,
   "id": "569c49b6-b489-4f09-b977-ff1e9dbd34ed",
   "metadata": {},
   "outputs": [
    {
     "data": {
      "text/plain": [
       "{'ResponseMetadata': {'RequestId': '2537df60-c3b2-4065-bc78-3818f725b131',\n",
       "  'HTTPStatusCode': 200,\n",
       "  'HTTPHeaders': {'date': 'Wed, 09 Mar 2022 18:49:37 GMT',\n",
       "   'content-type': 'application/x-amz-json-1.1',\n",
       "   'content-length': '2',\n",
       "   'connection': 'keep-alive',\n",
       "   'x-amzn-requestid': '2537df60-c3b2-4065-bc78-3818f725b131'},\n",
       "  'RetryAttempts': 0}}"
      ]
     },
     "execution_count": 21,
     "metadata": {},
     "output_type": "execute_result"
    }
   ],
   "source": [
    "r = client.delete_contact(\n",
    "    ContactListName=contact_list,\n",
    "    EmailAddress=email\n",
    "); r"
   ]
  },
  {
   "cell_type": "markdown",
   "id": "40940791-4916-4d83-96eb-5dc46a97be65",
   "metadata": {},
   "source": [
    "### Sending Email"
   ]
  },
  {
   "cell_type": "code",
   "execution_count": 7,
   "id": "458ea5e1-0f99-453e-b665-e9f694ba9aa2",
   "metadata": {},
   "outputs": [],
   "source": [
    "from_addr = \"g@engi.network\"\n",
    "to_addr = \"christopherkelly@engi.network\""
   ]
  },
  {
   "cell_type": "markdown",
   "id": "5a8fce05-2cf7-460c-8d93-9a54c602cff4",
   "metadata": {
    "tags": []
   },
   "source": [
    "#### SendEmail"
   ]
  },
  {
   "cell_type": "code",
   "execution_count": 7,
   "id": "a7ad2624-e8c3-40a6-a811-5c536c12a5f6",
   "metadata": {},
   "outputs": [],
   "source": [
    "r = client.send_email(\n",
    "    FromEmailAddress=from_addr,\n",
    "    Destination={\n",
    "        'ToAddresses': [\n",
    "            to_addr,\n",
    "        ],\n",
    "    },\n",
    "    Content={\n",
    "        'Simple': {\n",
    "            'Subject': {\n",
    "                'Data': 'test 1',\n",
    "                'Charset': 'UTF-8'\n",
    "            },\n",
    "            'Body': {\n",
    "                'Text': {\n",
    "                    'Data': 'body',\n",
    "                    'Charset': 'UTF-8'\n",
    "                },\n",
    "                'Html': {\n",
    "                    'Data': '<p>body</p>',\n",
    "                    'Charset': 'UTF-8'\n",
    "                }\n",
    "            }\n",
    "        },\n",
    "\n",
    "\n",
    "    },\n",
    "    ListManagementOptions={\n",
    "        'ContactListName': contact_list,\n",
    "        'TopicName': contact_list\n",
    "    }\n",
    ")"
   ]
  },
  {
   "cell_type": "code",
   "execution_count": null,
   "id": "12671309-d830-4d57-a1d9-59c0502be5fe",
   "metadata": {},
   "outputs": [],
   "source": [
    "# use send_bulk_email"
   ]
  },
  {
   "cell_type": "code",
   "execution_count": 15,
   "id": "1e51bf96-1315-492c-841a-57f40c785a5c",
   "metadata": {},
   "outputs": [
    {
     "data": {
      "text/plain": [
       "'engi-newsletter-welcome-template'"
      ]
     },
     "execution_count": 15,
     "metadata": {},
     "output_type": "execute_result"
    }
   ],
   "source": [
    "template_name"
   ]
  },
  {
   "cell_type": "code",
   "execution_count": 19,
   "id": "d6741354-acad-45d3-8daf-fef03f0c114d",
   "metadata": {},
   "outputs": [
    {
     "name": "stdout",
     "output_type": "stream",
     "text": [
      "Automatic pdb calling has been turned OFF\n"
     ]
    }
   ],
   "source": [
    "%pdb"
   ]
  },
  {
   "cell_type": "code",
   "execution_count": 12,
   "id": "73b74568-578c-40c6-aa7c-d8624d393878",
   "metadata": {},
   "outputs": [],
   "source": [
    "to_addr = email"
   ]
  },
  {
   "cell_type": "code",
   "execution_count": 16,
   "id": "2d061c9b-648e-4396-83f5-e808bced8f99",
   "metadata": {},
   "outputs": [
    {
     "data": {
      "text/plain": [
       "'engi-newsletter-test'"
      ]
     },
     "execution_count": 16,
     "metadata": {},
     "output_type": "execute_result"
    }
   ],
   "source": [
    "contact_list"
   ]
  },
  {
   "cell_type": "code",
   "execution_count": 14,
   "id": "1da68c4d-44b5-4742-9eb4-7fe42582bad3",
   "metadata": {
    "tags": []
   },
   "outputs": [
    {
     "ename": "NotFoundException",
     "evalue": "An error occurred (NotFoundException) when calling the SendEmail operation: List with name: engi-newsletter-test doesn't exist.",
     "output_type": "error",
     "traceback": [
      "\u001b[0;31m---------------------------------------------------------------------------\u001b[0m",
      "\u001b[0;31mNotFoundException\u001b[0m                         Traceback (most recent call last)",
      "Input \u001b[0;32mIn [14]\u001b[0m, in \u001b[0;36m<cell line: 1>\u001b[0;34m()\u001b[0m\n\u001b[0;32m----> 1\u001b[0m r \u001b[38;5;241m=\u001b[39m \u001b[43mclient\u001b[49m\u001b[38;5;241;43m.\u001b[39;49m\u001b[43msend_email\u001b[49m\u001b[43m(\u001b[49m\n\u001b[1;32m      2\u001b[0m \u001b[43m        \u001b[49m\u001b[43mFromEmailAddress\u001b[49m\u001b[38;5;241;43m=\u001b[39;49m\u001b[43mfrom_addr\u001b[49m\u001b[43m,\u001b[49m\n\u001b[1;32m      3\u001b[0m \u001b[43m        \u001b[49m\u001b[43mDestination\u001b[49m\u001b[38;5;241;43m=\u001b[39;49m\u001b[43m{\u001b[49m\n\u001b[1;32m      4\u001b[0m \u001b[43m            \u001b[49m\u001b[38;5;124;43m\"\u001b[39;49m\u001b[38;5;124;43mToAddresses\u001b[39;49m\u001b[38;5;124;43m\"\u001b[39;49m\u001b[43m:\u001b[49m\u001b[43m \u001b[49m\u001b[43m[\u001b[49m\n\u001b[1;32m      5\u001b[0m \u001b[43m                \u001b[49m\u001b[43mto_addr\u001b[49m\u001b[43m,\u001b[49m\n\u001b[1;32m      6\u001b[0m \u001b[43m            \u001b[49m\u001b[43m]\u001b[49m\u001b[43m,\u001b[49m\n\u001b[1;32m      7\u001b[0m \u001b[43m        \u001b[49m\u001b[43m}\u001b[49m\u001b[43m,\u001b[49m\n\u001b[1;32m      8\u001b[0m \u001b[43m        \u001b[49m\u001b[43mContent\u001b[49m\u001b[38;5;241;43m=\u001b[39;49m\u001b[43m{\u001b[49m\n\u001b[1;32m      9\u001b[0m \u001b[43m            \u001b[49m\u001b[38;5;124;43m\"\u001b[39;49m\u001b[38;5;124;43mTemplate\u001b[39;49m\u001b[38;5;124;43m\"\u001b[39;49m\u001b[43m:\u001b[49m\u001b[43m \u001b[49m\u001b[43m{\u001b[49m\n\u001b[1;32m     10\u001b[0m \u001b[43m                \u001b[49m\u001b[38;5;124;43m\"\u001b[39;49m\u001b[38;5;124;43mTemplateName\u001b[39;49m\u001b[38;5;124;43m\"\u001b[39;49m\u001b[43m:\u001b[49m\u001b[43m \u001b[49m\u001b[43mtemplate_name\u001b[49m\u001b[43m,\u001b[49m\n\u001b[1;32m     11\u001b[0m \u001b[43m                \u001b[49m\u001b[38;5;124;43m\"\u001b[39;49m\u001b[38;5;124;43mTemplateData\u001b[39;49m\u001b[38;5;124;43m\"\u001b[39;49m\u001b[43m:\u001b[49m\u001b[43m \u001b[49m\u001b[38;5;124;43m\"\u001b[39;49m\u001b[38;5;132;43;01m{}\u001b[39;49;00m\u001b[38;5;124;43m\"\u001b[39;49m\u001b[43m,\u001b[49m\n\u001b[1;32m     12\u001b[0m \u001b[43m            \u001b[49m\u001b[43m}\u001b[49m\u001b[43m,\u001b[49m\n\u001b[1;32m     13\u001b[0m \u001b[43m        \u001b[49m\u001b[43m}\u001b[49m\u001b[43m,\u001b[49m\n\u001b[1;32m     14\u001b[0m \u001b[43m        \u001b[49m\u001b[43mListManagementOptions\u001b[49m\u001b[38;5;241;43m=\u001b[39;49m\u001b[43m{\u001b[49m\n\u001b[1;32m     15\u001b[0m \u001b[43m            \u001b[49m\u001b[38;5;124;43m\"\u001b[39;49m\u001b[38;5;124;43mContactListName\u001b[39;49m\u001b[38;5;124;43m\"\u001b[39;49m\u001b[43m:\u001b[49m\u001b[43m \u001b[49m\u001b[43mcontact_list\u001b[49m\u001b[43m,\u001b[49m\n\u001b[1;32m     16\u001b[0m \u001b[43m            \u001b[49m\u001b[38;5;124;43m\"\u001b[39;49m\u001b[38;5;124;43mTopicName\u001b[39;49m\u001b[38;5;124;43m\"\u001b[39;49m\u001b[43m:\u001b[49m\u001b[43m \u001b[49m\u001b[43mcontact_list\u001b[49m\u001b[43m,\u001b[49m\n\u001b[1;32m     17\u001b[0m \u001b[43m        \u001b[49m\u001b[43m}\u001b[49m\n\u001b[1;32m     18\u001b[0m \u001b[43m)\u001b[49m\n",
      "File \u001b[0;32m~/.local/share/virtualenvs/server-HR28Vc4A/lib/python3.9/site-packages/botocore/client.py:395\u001b[0m, in \u001b[0;36mClientCreator._create_api_method.<locals>._api_call\u001b[0;34m(self, *args, **kwargs)\u001b[0m\n\u001b[1;32m    392\u001b[0m     \u001b[38;5;28;01mraise\u001b[39;00m \u001b[38;5;167;01mTypeError\u001b[39;00m(\n\u001b[1;32m    393\u001b[0m         \u001b[38;5;124m\"\u001b[39m\u001b[38;5;132;01m%s\u001b[39;00m\u001b[38;5;124m() only accepts keyword arguments.\u001b[39m\u001b[38;5;124m\"\u001b[39m \u001b[38;5;241m%\u001b[39m py_operation_name)\n\u001b[1;32m    394\u001b[0m \u001b[38;5;66;03m# The \"self\" in this scope is referring to the BaseClient.\u001b[39;00m\n\u001b[0;32m--> 395\u001b[0m \u001b[38;5;28;01mreturn\u001b[39;00m \u001b[38;5;28;43mself\u001b[39;49m\u001b[38;5;241;43m.\u001b[39;49m\u001b[43m_make_api_call\u001b[49m\u001b[43m(\u001b[49m\u001b[43moperation_name\u001b[49m\u001b[43m,\u001b[49m\u001b[43m \u001b[49m\u001b[43mkwargs\u001b[49m\u001b[43m)\u001b[49m\n",
      "File \u001b[0;32m~/.local/share/virtualenvs/server-HR28Vc4A/lib/python3.9/site-packages/botocore/client.py:725\u001b[0m, in \u001b[0;36mBaseClient._make_api_call\u001b[0;34m(self, operation_name, api_params)\u001b[0m\n\u001b[1;32m    723\u001b[0m     error_code \u001b[38;5;241m=\u001b[39m parsed_response\u001b[38;5;241m.\u001b[39mget(\u001b[38;5;124m\"\u001b[39m\u001b[38;5;124mError\u001b[39m\u001b[38;5;124m\"\u001b[39m, {})\u001b[38;5;241m.\u001b[39mget(\u001b[38;5;124m\"\u001b[39m\u001b[38;5;124mCode\u001b[39m\u001b[38;5;124m\"\u001b[39m)\n\u001b[1;32m    724\u001b[0m     error_class \u001b[38;5;241m=\u001b[39m \u001b[38;5;28mself\u001b[39m\u001b[38;5;241m.\u001b[39mexceptions\u001b[38;5;241m.\u001b[39mfrom_code(error_code)\n\u001b[0;32m--> 725\u001b[0m     \u001b[38;5;28;01mraise\u001b[39;00m error_class(parsed_response, operation_name)\n\u001b[1;32m    726\u001b[0m \u001b[38;5;28;01melse\u001b[39;00m:\n\u001b[1;32m    727\u001b[0m     \u001b[38;5;28;01mreturn\u001b[39;00m parsed_response\n",
      "\u001b[0;31mNotFoundException\u001b[0m: An error occurred (NotFoundException) when calling the SendEmail operation: List with name: engi-newsletter-test doesn't exist."
     ]
    }
   ],
   "source": [
    "r = client.send_email(\n",
    "        FromEmailAddress=from_addr,\n",
    "        Destination={\n",
    "            \"ToAddresses\": [\n",
    "                to_addr,\n",
    "            ],\n",
    "        },\n",
    "        Content={\n",
    "            \"Template\": {\n",
    "                \"TemplateName\": template_name,\n",
    "                \"TemplateData\": \"{}\",\n",
    "            },\n",
    "        },\n",
    "        ListManagementOptions={\n",
    "            \"ContactListName\": contact_list,\n",
    "            \"TopicName\": contact_list,\n",
    "        }\n",
    ")"
   ]
  },
  {
   "cell_type": "code",
   "execution_count": null,
   "id": "8c3796f2-ff1b-4fda-b4f9-5789b7ee280d",
   "metadata": {},
   "outputs": [],
   "source": [
    "r = client.send_email(\n",
    "    FromEmailAddress=from_addr,\n",
    "    Destination={\n",
    "        'ToAddresses': [\n",
    "            to_addr,\n",
    "        ],\n",
    "    },\n",
    "    Content={\n",
    "        'Template': {\n",
    "            'TemplateName': template_name,\n",
    "            'TemplateData': '{\"name\": \"chris\", \"favoriteanimal\": \"bonobo\"}'\n",
    "        },\n",
    "    },\n",
    "    ListManagementOptions={\n",
    "        'ContactListName': contact_list,\n",
    "        'TopicName': contact_list\n",
    "    }\n",
    ")"
   ]
  },
  {
   "cell_type": "code",
   "execution_count": null,
   "id": "afce4e1d-42d3-4432-90a2-664d37312032",
   "metadata": {},
   "outputs": [
    {
     "data": {
      "text/plain": [
       "{'ResponseMetadata': {'RequestId': '60866212-76a5-4d86-9fce-7157f48f0e0b',\n",
       "  'HTTPStatusCode': 200,\n",
       "  'HTTPHeaders': {'date': 'Thu, 10 Mar 2022 00:51:27 GMT',\n",
       "   'content-type': 'application/json',\n",
       "   'content-length': '76',\n",
       "   'connection': 'keep-alive',\n",
       "   'x-amzn-requestid': '60866212-76a5-4d86-9fce-7157f48f0e0b'},\n",
       "  'RetryAttempts': 0},\n",
       " 'MessageId': '0101017f714f27f4-74722b9e-a792-4ca1-bbeb-311a5e4c8bcd-000000'}"
      ]
     },
     "execution_count": 7,
     "metadata": {},
     "output_type": "execute_result"
    }
   ],
   "source": [
    "r"
   ]
  },
  {
   "cell_type": "markdown",
   "id": "04d7dd3a-bf12-43d0-b5dd-26a274c55493",
   "metadata": {},
   "source": [
    "#### SendBulkEmail"
   ]
  },
  {
   "cell_type": "code",
   "execution_count": 41,
   "id": "de7a7b7f-1cce-4a1f-bac9-3228184ab558",
   "metadata": {},
   "outputs": [],
   "source": [
    "contacts = list_contacts(client, contact_list, topic)"
   ]
  },
  {
   "cell_type": "code",
   "execution_count": 48,
   "id": "f1ea0570-c66e-4cb2-955f-3c985b262b03",
   "metadata": {},
   "outputs": [],
   "source": [
    "entries = [e for e in get_bulk_entries(contacts) if \"kelly\" in e[\"Destination\"][\"ToAddresses\"][0]]"
   ]
  },
  {
   "cell_type": "code",
   "execution_count": 49,
   "id": "cc7e807a-58a1-46cc-b818-eaeb8ebc3327",
   "metadata": {},
   "outputs": [
    {
     "data": {
      "text/plain": [
       "{'ResponseMetadata': {'RequestId': 'ed137a45-d649-4bf9-9eb0-4f4a751f5159',\n",
       "  'HTTPStatusCode': 200,\n",
       "  'HTTPHeaders': {'date': 'Thu, 10 Mar 2022 01:48:43 GMT',\n",
       "   'content-type': 'application/json',\n",
       "   'content-length': '136',\n",
       "   'connection': 'keep-alive',\n",
       "   'x-amzn-requestid': 'ed137a45-d649-4bf9-9eb0-4f4a751f5159'},\n",
       "  'RetryAttempts': 0},\n",
       " 'BulkEmailEntryResults': [{'Status': 'SUCCESS',\n",
       "   'MessageId': '0101017f718394bf-628b0eb5-cdce-4685-a721-ca31e611151b-000000'}]}"
      ]
     },
     "execution_count": 49,
     "metadata": {},
     "output_type": "execute_result"
    }
   ],
   "source": [
    "r = client.send_bulk_email(\n",
    "    FromEmailAddress=from_addr,\n",
    "    DefaultContent={\n",
    "        'Template': {\n",
    "            'TemplateName': template_name,\n",
    "            'TemplateData': '{\"name\": \"friend\", \"favoriteanimal\": \"not sure\"}'\n",
    "        }\n",
    "    },\n",
    "    BulkEmailEntries=entries,\n",
    "); r"
   ]
  },
  {
   "cell_type": "code",
   "execution_count": 2,
   "id": "a0088f34-60c2-4e7f-866c-3e210ab28ee6",
   "metadata": {},
   "outputs": [],
   "source": [
    "results = [{'Status': 'SUCCESS',\n",
    "   'MessageId': '0101017f718394bf-628b0eb5-cdce-4685-a721-ca31e611151b-000000'}]"
   ]
  },
  {
   "cell_type": "code",
   "execution_count": 7,
   "id": "5134f634-7b6c-49d5-bf79-90f42a60b322",
   "metadata": {},
   "outputs": [
    {
     "data": {
      "text/plain": [
       "True"
      ]
     },
     "execution_count": 7,
     "metadata": {},
     "output_type": "execute_result"
    }
   ],
   "source": [
    "all([k[\"Status\"] == \"SUCCESS\" for k in results])"
   ]
  },
  {
   "cell_type": "code",
   "execution_count": 8,
   "id": "25610188-4ca8-43a9-9dec-873a930fc2f8",
   "metadata": {},
   "outputs": [
    {
     "data": {
      "text/plain": [
       "{'ResponseMetadata': {'RequestId': '9dba4950-a902-44bf-96c8-d93ff6e3b34c',\n",
       "  'HTTPStatusCode': 200,\n",
       "  'HTTPHeaders': {'date': 'Wed, 09 Mar 2022 19:09:26 GMT',\n",
       "   'content-type': 'application/json',\n",
       "   'content-length': '76',\n",
       "   'connection': 'keep-alive',\n",
       "   'x-amzn-requestid': '9dba4950-a902-44bf-96c8-d93ff6e3b34c'},\n",
       "  'RetryAttempts': 0},\n",
       " 'MessageId': '0101017f701607b8-0f106dd6-8da9-4405-89d7-bce6cb37cc50-000000'}"
      ]
     },
     "execution_count": 8,
     "metadata": {},
     "output_type": "execute_result"
    }
   ],
   "source": [
    "r"
   ]
  },
  {
   "cell_type": "markdown",
   "id": "c66cda2a-f062-405f-91ca-c0ef18d7f485",
   "metadata": {},
   "source": [
    "### Scratch Pad"
   ]
  },
  {
   "cell_type": "code",
   "execution_count": 9,
   "id": "0d9c49da-7509-4b3f-99e7-8dbc582bebb0",
   "metadata": {},
   "outputs": [
    {
     "data": {
      "text/plain": [
       "['AccountSuspendedException',\n",
       " 'AlreadyExistsException',\n",
       " 'BadRequestException',\n",
       " 'ClientError',\n",
       " 'ConcurrentModificationException',\n",
       " 'ConflictException',\n",
       " 'InvalidNextTokenException',\n",
       " 'LimitExceededException',\n",
       " 'MailFromDomainNotVerifiedException',\n",
       " 'MessageRejected',\n",
       " 'NotFoundException',\n",
       " 'SendingPausedException',\n",
       " 'TooManyRequestsException',\n",
       " '__class__',\n",
       " '__delattr__',\n",
       " '__dict__',\n",
       " '__dir__',\n",
       " '__doc__',\n",
       " '__eq__',\n",
       " '__format__',\n",
       " '__ge__',\n",
       " '__getattr__',\n",
       " '__getattribute__',\n",
       " '__gt__',\n",
       " '__hash__',\n",
       " '__init__',\n",
       " '__init_subclass__',\n",
       " '__le__',\n",
       " '__lt__',\n",
       " '__module__',\n",
       " '__ne__',\n",
       " '__new__',\n",
       " '__reduce__',\n",
       " '__reduce_ex__',\n",
       " '__repr__',\n",
       " '__setattr__',\n",
       " '__sizeof__',\n",
       " '__str__',\n",
       " '__subclasshook__',\n",
       " '__weakref__',\n",
       " '_code_to_exception',\n",
       " 'from_code']"
      ]
     },
     "execution_count": 9,
     "metadata": {},
     "output_type": "execute_result"
    }
   ],
   "source": [
    "dir(client.exceptions)"
   ]
  },
  {
   "cell_type": "code",
   "execution_count": 7,
   "id": "9a4ed51e-f905-49e2-9268-660733819666",
   "metadata": {},
   "outputs": [],
   "source": [
    "s = \"{ \\\"name\\\":\\\"Alejandro\\\", \\\"favoriteanimal\\\": \\\"alligator\\\" }\""
   ]
  },
  {
   "cell_type": "code",
   "execution_count": 9,
   "id": "213ce415-56cf-4cc9-b086-75c0f8855348",
   "metadata": {},
   "outputs": [],
   "source": [
    "import json"
   ]
  },
  {
   "cell_type": "code",
   "execution_count": 11,
   "id": "0002b0b4-787c-4ff1-adbc-793b373ce135",
   "metadata": {},
   "outputs": [
    {
     "data": {
      "text/plain": [
       "{'name': 'Alejandro', 'favoriteanimal': 'alligator'}"
      ]
     },
     "execution_count": 11,
     "metadata": {},
     "output_type": "execute_result"
    }
   ],
   "source": [
    "json.loads(s)"
   ]
  },
  {
   "cell_type": "code",
   "execution_count": 14,
   "id": "c661d823-a276-4b2a-84bf-7aee374df5c4",
   "metadata": {},
   "outputs": [
    {
     "data": {
      "text/plain": [
       "'\"{\\\\\"name\\\\\": \\\\\"Alejandro\\\\\", \\\\\"favoriteanimal\\\\\": \\\\\"alligator\\\\\"}\"'"
      ]
     },
     "execution_count": 14,
     "metadata": {},
     "output_type": "execute_result"
    }
   ],
   "source": [
    "json.dumps(json.dumps(_11))"
   ]
  },
  {
   "cell_type": "code",
   "execution_count": 10,
   "id": "b83da9be-4997-4812-80ba-3537cc01bdf1",
   "metadata": {},
   "outputs": [],
   "source": [
    "session = boto3.Session()"
   ]
  },
  {
   "cell_type": "code",
   "execution_count": 13,
   "id": "5188189b-75d5-407c-8217-d66fadbe7006",
   "metadata": {},
   "outputs": [],
   "source": [
    "sqs_client = boto3.client(\"sqs\")"
   ]
  },
  {
   "cell_type": "code",
   "execution_count": 15,
   "id": "20ede24e-5dd0-466a-a981-47941e28dde1",
   "metadata": {},
   "outputs": [
    {
     "data": {
      "text/plain": [
       "{'ResponseMetadata': {'RequestId': 'e734cb36-9582-5571-84ea-9192a0d94383',\n",
       "  'HTTPStatusCode': 200,\n",
       "  'HTTPHeaders': {'x-amzn-requestid': 'e734cb36-9582-5571-84ea-9192a0d94383',\n",
       "   'date': 'Thu, 10 Mar 2022 17:19:23 GMT',\n",
       "   'content-type': 'text/xml',\n",
       "   'content-length': '228'},\n",
       "  'RetryAttempts': 0}}"
      ]
     },
     "execution_count": 15,
     "metadata": {},
     "output_type": "execute_result"
    }
   ],
   "source": [
    "sqs_client.list_queues()"
   ]
  },
  {
   "cell_type": "code",
   "execution_count": 1,
   "id": "e562ed85-9a35-47ee-8a50-d07088c1ce6c",
   "metadata": {},
   "outputs": [],
   "source": [
    "import pycurl"
   ]
  },
  {
   "cell_type": "code",
   "execution_count": 11,
   "id": "40fbf2dd-682e-440a-91cb-cbad78ebd2e5",
   "metadata": {},
   "outputs": [
    {
     "data": {
      "text/plain": [
       "['accessanalyzer',\n",
       " 'account',\n",
       " 'acm',\n",
       " 'acm-pca',\n",
       " 'alexaforbusiness',\n",
       " 'amp',\n",
       " 'amplify',\n",
       " 'amplifybackend',\n",
       " 'amplifyuibuilder',\n",
       " 'apigateway',\n",
       " 'apigatewaymanagementapi',\n",
       " 'apigatewayv2',\n",
       " 'appconfig',\n",
       " 'appconfigdata',\n",
       " 'appflow',\n",
       " 'appintegrations',\n",
       " 'application-autoscaling',\n",
       " 'application-insights',\n",
       " 'applicationcostprofiler',\n",
       " 'appmesh',\n",
       " 'apprunner',\n",
       " 'appstream',\n",
       " 'appsync',\n",
       " 'athena',\n",
       " 'auditmanager',\n",
       " 'autoscaling',\n",
       " 'autoscaling-plans',\n",
       " 'backup',\n",
       " 'backup-gateway',\n",
       " 'batch',\n",
       " 'braket',\n",
       " 'budgets',\n",
       " 'ce',\n",
       " 'chime',\n",
       " 'chime-sdk-identity',\n",
       " 'chime-sdk-meetings',\n",
       " 'chime-sdk-messaging',\n",
       " 'cloud9',\n",
       " 'cloudcontrol',\n",
       " 'clouddirectory',\n",
       " 'cloudformation',\n",
       " 'cloudfront',\n",
       " 'cloudhsm',\n",
       " 'cloudhsmv2',\n",
       " 'cloudsearch',\n",
       " 'cloudsearchdomain',\n",
       " 'cloudtrail',\n",
       " 'cloudwatch',\n",
       " 'codeartifact',\n",
       " 'codebuild',\n",
       " 'codecommit',\n",
       " 'codedeploy',\n",
       " 'codeguru-reviewer',\n",
       " 'codeguruprofiler',\n",
       " 'codepipeline',\n",
       " 'codestar',\n",
       " 'codestar-connections',\n",
       " 'codestar-notifications',\n",
       " 'cognito-identity',\n",
       " 'cognito-idp',\n",
       " 'cognito-sync',\n",
       " 'comprehend',\n",
       " 'comprehendmedical',\n",
       " 'compute-optimizer',\n",
       " 'config',\n",
       " 'connect',\n",
       " 'connect-contact-lens',\n",
       " 'connectparticipant',\n",
       " 'cur',\n",
       " 'customer-profiles',\n",
       " 'databrew',\n",
       " 'dataexchange',\n",
       " 'datapipeline',\n",
       " 'datasync',\n",
       " 'dax',\n",
       " 'detective',\n",
       " 'devicefarm',\n",
       " 'devops-guru',\n",
       " 'directconnect',\n",
       " 'discovery',\n",
       " 'dlm',\n",
       " 'dms',\n",
       " 'docdb',\n",
       " 'drs',\n",
       " 'ds',\n",
       " 'dynamodb',\n",
       " 'dynamodbstreams',\n",
       " 'ebs',\n",
       " 'ec2',\n",
       " 'ec2-instance-connect',\n",
       " 'ecr',\n",
       " 'ecr-public',\n",
       " 'ecs',\n",
       " 'efs',\n",
       " 'eks',\n",
       " 'elastic-inference',\n",
       " 'elasticache',\n",
       " 'elasticbeanstalk',\n",
       " 'elastictranscoder',\n",
       " 'elb',\n",
       " 'elbv2',\n",
       " 'emr',\n",
       " 'emr-containers',\n",
       " 'es',\n",
       " 'events',\n",
       " 'evidently',\n",
       " 'finspace',\n",
       " 'finspace-data',\n",
       " 'firehose',\n",
       " 'fis',\n",
       " 'fms',\n",
       " 'forecast',\n",
       " 'forecastquery',\n",
       " 'frauddetector',\n",
       " 'fsx',\n",
       " 'gamelift',\n",
       " 'glacier',\n",
       " 'globalaccelerator',\n",
       " 'glue',\n",
       " 'grafana',\n",
       " 'greengrass',\n",
       " 'greengrassv2',\n",
       " 'groundstation',\n",
       " 'guardduty',\n",
       " 'health',\n",
       " 'healthlake',\n",
       " 'honeycode',\n",
       " 'iam',\n",
       " 'identitystore',\n",
       " 'imagebuilder',\n",
       " 'importexport',\n",
       " 'inspector',\n",
       " 'inspector2',\n",
       " 'iot',\n",
       " 'iot-data',\n",
       " 'iot-jobs-data',\n",
       " 'iot1click-devices',\n",
       " 'iot1click-projects',\n",
       " 'iotanalytics',\n",
       " 'iotdeviceadvisor',\n",
       " 'iotevents',\n",
       " 'iotevents-data',\n",
       " 'iotfleethub',\n",
       " 'iotsecuretunneling',\n",
       " 'iotsitewise',\n",
       " 'iotthingsgraph',\n",
       " 'iottwinmaker',\n",
       " 'iotwireless',\n",
       " 'ivs',\n",
       " 'kafka',\n",
       " 'kafkaconnect',\n",
       " 'kendra',\n",
       " 'keyspaces',\n",
       " 'kinesis',\n",
       " 'kinesis-video-archived-media',\n",
       " 'kinesis-video-media',\n",
       " 'kinesis-video-signaling',\n",
       " 'kinesisanalytics',\n",
       " 'kinesisanalyticsv2',\n",
       " 'kinesisvideo',\n",
       " 'kms',\n",
       " 'lakeformation',\n",
       " 'lambda',\n",
       " 'lex-models',\n",
       " 'lex-runtime',\n",
       " 'lexv2-models',\n",
       " 'lexv2-runtime',\n",
       " 'license-manager',\n",
       " 'lightsail',\n",
       " 'location',\n",
       " 'logs',\n",
       " 'lookoutequipment',\n",
       " 'lookoutmetrics',\n",
       " 'lookoutvision',\n",
       " 'machinelearning',\n",
       " 'macie',\n",
       " 'macie2',\n",
       " 'managedblockchain',\n",
       " 'marketplace-catalog',\n",
       " 'marketplace-entitlement',\n",
       " 'marketplacecommerceanalytics',\n",
       " 'mediaconnect',\n",
       " 'mediaconvert',\n",
       " 'medialive',\n",
       " 'mediapackage',\n",
       " 'mediapackage-vod',\n",
       " 'mediastore',\n",
       " 'mediastore-data',\n",
       " 'mediatailor',\n",
       " 'memorydb',\n",
       " 'meteringmarketplace',\n",
       " 'mgh',\n",
       " 'mgn',\n",
       " 'migration-hub-refactor-spaces',\n",
       " 'migrationhub-config',\n",
       " 'migrationhubstrategy',\n",
       " 'mobile',\n",
       " 'mq',\n",
       " 'mturk',\n",
       " 'mwaa',\n",
       " 'neptune',\n",
       " 'network-firewall',\n",
       " 'networkmanager',\n",
       " 'nimble',\n",
       " 'opensearch',\n",
       " 'opsworks',\n",
       " 'opsworkscm',\n",
       " 'organizations',\n",
       " 'outposts',\n",
       " 'panorama',\n",
       " 'personalize',\n",
       " 'personalize-events',\n",
       " 'personalize-runtime',\n",
       " 'pi',\n",
       " 'pinpoint',\n",
       " 'pinpoint-email',\n",
       " 'pinpoint-sms-voice',\n",
       " 'polly',\n",
       " 'pricing',\n",
       " 'proton',\n",
       " 'qldb',\n",
       " 'qldb-session',\n",
       " 'quicksight',\n",
       " 'ram',\n",
       " 'rbin',\n",
       " 'rds',\n",
       " 'rds-data',\n",
       " 'redshift',\n",
       " 'redshift-data',\n",
       " 'rekognition',\n",
       " 'resiliencehub',\n",
       " 'resource-groups',\n",
       " 'resourcegroupstaggingapi',\n",
       " 'robomaker',\n",
       " 'route53',\n",
       " 'route53-recovery-cluster',\n",
       " 'route53-recovery-control-config',\n",
       " 'route53-recovery-readiness',\n",
       " 'route53domains',\n",
       " 'route53resolver',\n",
       " 'rum',\n",
       " 's3',\n",
       " 's3control',\n",
       " 's3outposts',\n",
       " 'sagemaker',\n",
       " 'sagemaker-a2i-runtime',\n",
       " 'sagemaker-edge',\n",
       " 'sagemaker-featurestore-runtime',\n",
       " 'sagemaker-runtime',\n",
       " 'savingsplans',\n",
       " 'schemas',\n",
       " 'sdb',\n",
       " 'secretsmanager',\n",
       " 'securityhub',\n",
       " 'serverlessrepo',\n",
       " 'service-quotas',\n",
       " 'servicecatalog',\n",
       " 'servicecatalog-appregistry',\n",
       " 'servicediscovery',\n",
       " 'ses',\n",
       " 'sesv2',\n",
       " 'shield',\n",
       " 'signer',\n",
       " 'sms',\n",
       " 'sms-voice',\n",
       " 'snow-device-management',\n",
       " 'snowball',\n",
       " 'sns',\n",
       " 'sqs',\n",
       " 'ssm',\n",
       " 'ssm-contacts',\n",
       " 'ssm-incidents',\n",
       " 'sso',\n",
       " 'sso-admin',\n",
       " 'sso-oidc',\n",
       " 'stepfunctions',\n",
       " 'storagegateway',\n",
       " 'sts',\n",
       " 'support',\n",
       " 'swf',\n",
       " 'synthetics',\n",
       " 'textract',\n",
       " 'timestream-query',\n",
       " 'timestream-write',\n",
       " 'transcribe',\n",
       " 'transfer',\n",
       " 'translate',\n",
       " 'voice-id',\n",
       " 'waf',\n",
       " 'waf-regional',\n",
       " 'wafv2',\n",
       " 'wellarchitected',\n",
       " 'wisdom',\n",
       " 'workdocs',\n",
       " 'worklink',\n",
       " 'workmail',\n",
       " 'workmailmessageflow',\n",
       " 'workspaces',\n",
       " 'workspaces-web',\n",
       " 'xray']"
      ]
     },
     "execution_count": 11,
     "metadata": {},
     "output_type": "execute_result"
    }
   ],
   "source": [
    "session.get_available_services()"
   ]
  },
  {
   "cell_type": "code",
   "execution_count": null,
   "id": "9006a056-59c8-45e2-b006-0e7f9b00a8c5",
   "metadata": {},
   "outputs": [],
   "source": []
  }
 ],
 "metadata": {
  "kernelspec": {
   "display_name": "Python 3 (ipykernel)",
   "language": "python",
   "name": "python3"
  },
  "language_info": {
   "codemirror_mode": {
    "name": "ipython",
    "version": 3
   },
   "file_extension": ".py",
   "mimetype": "text/x-python",
   "name": "python",
   "nbconvert_exporter": "python",
   "pygments_lexer": "ipython3",
   "version": "3.9.12"
  }
 },
 "nbformat": 4,
 "nbformat_minor": 5
}
